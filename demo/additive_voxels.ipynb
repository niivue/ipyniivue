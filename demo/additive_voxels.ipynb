{
 "cells": [
  {
   "cell_type": "code",
   "execution_count": null,
   "metadata": {},
   "outputs": [],
   "source": [
    "!mkdir -p ../images/\n",
    "!wget https://github.com/niivue/niivue/raw/main/demos/images/narps-4735_50GV-hypo1_unthresh.nii.gz -P ../images/\n",
    "!wget https://github.com/niivue/niivue/raw/main/demos/images/narps-4965_9U7M-hypo1_unthresh.nii.gz -P ../images/\n",
    "!wget https://github.com/niivue/niivue/raw/main/demos/images/mni152.nii.gz -P ../images/"
   ]
  },
  {
   "cell_type": "code",
   "execution_count": null,
   "metadata": {},
   "outputs": [],
   "source": [
    "from ipyniivue import AnyNiivue, SliceType\n",
    "# based on https://niivue.github.io/niivue/features/additive.voxels.html\n",
    "\n",
    "volumes = [\n",
    "    {   \"path\": \"../images/mni152.nii.gz\" },\n",
    "    {\n",
    "        \"path\": \"../images/narps-4965_9U7M-hypo1_unthresh.nii.gz\",\n",
    "        \"colormap\": \"red\",\n",
    "        \"cal_min\": 2,\n",
    "        \"cal_max\": 4,\n",
    "    },\n",
    "    {\n",
    "        \"path\": \"../images/narps-4735_50GV-hypo1_unthresh.nii.gz\",\n",
    "        \"colormap\": \"green\",\n",
    "        \"cal_min\": 2,\n",
    "        \"cal_max\": 4,\n",
    "    },\n",
    "]\n",
    "nv = AnyNiivue(\n",
    "    back_color=(1, 1, 1, 1),\n",
    "    show_3D_crosshair=True,\n",
    "    is_colorbar=True,\n",
    ")\n",
    "nv.load_volumes(volumes)\n",
    "nv"
   ]
  },
  {
   "cell_type": "code",
   "execution_count": null,
   "metadata": {},
   "outputs": [],
   "source": [
    "import ipywidgets\n",
    "\n",
    "nv.volumes[0].colorbar_visible = False\n",
    "sred = ipywidgets.FloatSlider(min=0.1, max=0.4, step=0.01, value=0.2)\n",
    "ipywidgets.link((sred, \"value\"), (nv.volumes[1], \"cal_min\"))\n",
    "sgreen = ipywidgets.FloatSlider(min=0.1, max=0.4, step=0.01, value=0.2)\n",
    "ipywidgets.link((sgreen, \"value\"), (nv.volumes[2], \"cal_min\"))\n",
    "ipywidgets.HBox([sred, sgreen])"
   ]
  }
 ],
 "metadata": {
  "kernelspec": {
   "display_name": "Python 3 (ipykernel)",
   "language": "python",
   "name": "python3"
  },
  "language_info": {
   "codemirror_mode": {
    "name": "ipython",
    "version": 3
   },
   "file_extension": ".py",
   "mimetype": "text/x-python",
   "name": "python",
   "nbconvert_exporter": "python",
   "pygments_lexer": "ipython3",
   "version": "3.12.2"
  },
  "widgets": {
   "application/vnd.jupyter.widget-state+json": {
    "state": {},
    "version_major": 2,
    "version_minor": 0
   }
  }
 },
 "nbformat": 4,
 "nbformat_minor": 4
}
