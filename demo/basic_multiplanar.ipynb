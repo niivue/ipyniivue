{
 "cells": [
  {
   "cell_type": "code",
   "execution_count": null,
   "metadata": {},
   "outputs": [],
   "source": [
    "!mkdir -p ../images/\n",
    "!wget https://github.com/niivue/niivue/raw/main/demos/images/mni152.nii.gz -P ../images/\n",
    "!wget https://github.com/niivue/niivue/raw/main/demos/images/hippo.nii.gz -P ../images/"
   ]
  },
  {
   "cell_type": "code",
   "execution_count": null,
   "metadata": {},
   "outputs": [],
   "source": [
    "from ipyniivue import AnyNiivue, SliceType\n",
    "# based on https://niivue.github.io/niivue/features/basic.multiplanar.html\n",
    "\n",
    "volumes = [\n",
    "  { \"path\": \"../images/mni152.nii.gz\", \"colormap\": \"gray\", \"visible\": True, \"opacity\": 1.0 },\n",
    "  { \"path\": \"../images/hippo.nii.gz\", \"colormap\": \"red\", \"visible\": True, \"opacity\": 1 },\n",
    "\n",
    "]\n",
    "nv = AnyNiivue(slice_type=SliceType.MULTIPLANAR)\n",
    "nv.load_volumes(volumes)\n",
    "nv"
   ]
  },
  {
   "cell_type": "code",
   "execution_count": null,
   "metadata": {},
   "outputs": [],
   "source": [
    "nv.volumes[0].opacity = 0.3\n",
    "nv.volumes[1].colormap = \"blue\""
   ]
  },
  {
   "cell_type": "code",
   "execution_count": null,
   "metadata": {},
   "outputs": [],
   "source": [
    "nv.show_3d_crosshair = True\n",
    "nv.crosshair_color = [0,1,1,1]\n",
    "nv.back_color = [1,1,1,1]\n",
    "nv.clip_plane_color =  [0,1,1,1]\n",
    "nv.is_colorbar = True\n",
    "nv.view_mode_hot_key = \"KeyN\""
   ]
  }
 ],
 "metadata": {
  "kernelspec": {
   "display_name": "Python 3 (ipykernel)",
   "language": "python",
   "name": "python3"
  },
  "language_info": {
   "codemirror_mode": {
    "name": "ipython",
    "version": 3
   },
   "file_extension": ".py",
   "mimetype": "text/x-python",
   "name": "python",
   "nbconvert_exporter": "python",
   "pygments_lexer": "ipython3",
   "version": "3.12.2"
  },
  "widgets": {
   "application/vnd.jupyter.widget-state+json": {
    "state": {},
    "version_major": 2,
    "version_minor": 0
   }
  }
 },
 "nbformat": 4,
 "nbformat_minor": 4
}
