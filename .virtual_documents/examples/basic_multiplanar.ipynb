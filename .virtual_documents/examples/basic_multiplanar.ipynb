from pathlib import Path

import ipyniivue
from ipyniivue import NiiVue, SliceType, download_dataset

# GitHub API URL for the base folder
BASE_API_URL = (
    "https://api.github.com/repos/niivue/niivue/contents/packages/niivue/demos/images"
)
DATA_FOLDER = Path(ipyniivue.__file__).parent / "images"


# Downloads all data for examples
download_dataset(f"{BASE_API_URL}", DATA_FOLDER)


# based on https://niivue.github.io/niivue/features/basic.multiplanar.html

volumes = [
    {
        "path": DATA_FOLDER / "mni152.nii.gz",
        "colormap": "gray",
        "visible": True,
        "opacity": 1.0,
    },
    {
        "path": DATA_FOLDER / "hippo.nii.gz",
        "colormap": "red",
        "visible": True,
        "opacity": 1,
    },
]
nv = NiiVue(slice_type=SliceType.MULTIPLANAR)
nv.load_volumes(volumes)
nv


nv.volumes[0].opacity = 0.3
nv.volumes[1].colormap = "blue"


nv.show_3d_crosshair = True
nv.crosshair_color = [0, 1, 1, 1]
nv.back_color = [1, 1, 1, 1]
nv.clip_plane_color = [0, 1, 1, 1]
nv.is_colorbar = True
nv.view_mode_hot_key = "KeyN"
