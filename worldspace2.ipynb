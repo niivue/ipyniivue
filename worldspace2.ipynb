{
 "cells": [
  {
   "cell_type": "markdown",
   "id": "f473438a-2002-4526-a6dc-87ce28cc5d41",
   "metadata": {},
   "source": [
    "## Advanced World Space Demo\n",
    "advanced world space features including mesh clipping, orientation options, and multiplanar viewing with meshes\n",
    "\n",
    "See https://niivue.com/demos/features/worldspace2.html for mirror."
   ]
  },
  {
   "cell_type": "code",
   "execution_count": null,
   "id": "a7a68189-b242-4d32-93a2-616d0c1bd624",
   "metadata": {},
   "outputs": [],
   "source": [
    "import ipywidgets as widgets\n",
    "from IPython.display import display\n",
    "\n",
    "from ipyniivue import DragMode, NiiVue, ShowRender, SliceType"
   ]
  },
  {
   "cell_type": "markdown",
   "id": "d926ba4b-b02b-48fd-8cd7-5985a0d736c9",
   "metadata": {},
   "source": [
    "## Create NiiVue Instance"
   ]
  },
  {
   "cell_type": "code",
   "execution_count": null,
   "id": "7bf9089d-1508-4476-9ca7-44731ec302b6",
   "metadata": {},
   "outputs": [],
   "source": [
    "nv = NiiVue(\n",
    "    height=400,\n",
    "    drag_and_drop_enabled=True,\n",
    "    back_color=(0.3, 0.2, 0.4, 1.0),\n",
    "    show_3d_crosshair=True,\n",
    ")\n",
    "\n",
    "nv.set_slice_mm(True)\n",
    "nv.set_clip_plane(-0.1, 270, 0)\n",
    "nv.set_render_azimuth_elevation(120, 10)\n",
    "nv.set_high_resolution_capable(True)\n",
    "\n",
    "nv.load_volumes(\n",
    "    [\n",
    "        {\n",
    "            \"url\": \"https://niivue.com/demos/images/mni152.nii.gz\",\n",
    "            \"colormap\": \"gray\",\n",
    "            \"opacity\": 1.0,\n",
    "        }\n",
    "    ]\n",
    ")\n",
    "\n",
    "nv.load_meshes(\n",
    "    [\n",
    "        {\n",
    "            \"url\": \"https://niivue.com/demos/images/BrainMesh_ICBM152.lh.mz3\",\n",
    "            \"rgba255\": [200, 162, 255, 255],\n",
    "        },\n",
    "        {\n",
    "            \"url\": \"https://niivue.com/demos/images/dpsv.trx\",\n",
    "            \"rgba255\": [255, 255, 255, 255],\n",
    "        },\n",
    "    ]\n",
    ")\n",
    "\n",
    "nv.opts.slice_type = SliceType.MULTIPLANAR"
   ]
  },
  {
   "cell_type": "markdown",
   "id": "34b70342-5120-4159-a877-58d651c58990",
   "metadata": {},
   "source": [
    "## Create Interactive Controls"
   ]
  },
  {
   "cell_type": "code",
   "execution_count": null,
   "id": "5f35d49b-af66-40b8-a64b-264c9c0a8d8a",
   "metadata": {},
   "outputs": [],
   "source": [
    "# mesh clipping slider\n",
    "mesh_clipping_slider = widgets.IntSlider(\n",
    "    value=11,\n",
    "    min=0,\n",
    "    max=11,\n",
    "    description=\"Mesh clipping:\",\n",
    "    continuous_update=True,\n",
    "    style={\"description_width\": \"initial\"},\n",
    ")\n",
    "\n",
    "# checkboxes\n",
    "radiological_checkbox = widgets.Checkbox(value=False, description=\"Radiological\")\n",
    "\n",
    "corner_text_checkbox = widgets.Checkbox(value=False, description=\"Corner text\")\n",
    "\n",
    "world_space_checkbox = widgets.Checkbox(value=True, description=\"World space\")\n",
    "\n",
    "colorbar_checkbox = widgets.Checkbox(value=False, description=\"Colorbar\")\n",
    "\n",
    "cube_checkbox = widgets.Checkbox(value=False, description=\"Cube\")\n",
    "\n",
    "pad_checkbox = widgets.Checkbox(value=False, description=\"Pad\")\n",
    "\n",
    "high_dpi_checkbox = widgets.Checkbox(value=True, description=\"HighDPI\")\n",
    "\n",
    "force_render_checkbox = widgets.Checkbox(value=False, description=\"Force Render\")\n",
    "\n",
    "# drag mode dropdown\n",
    "drag_mode_dropdown = widgets.Dropdown(\n",
    "    options=[\n",
    "        (\"contrast\", DragMode.CONTRAST),\n",
    "        (\"measurement\", DragMode.MEASUREMENT),\n",
    "        (\"pan/zoom\", DragMode.PAN),\n",
    "        (\"none\", DragMode.NONE),\n",
    "    ],\n",
    "    value=DragMode.CONTRAST,\n",
    "    description=\"Drag mode:\",\n",
    "    style={\"description_width\": \"initial\"},\n",
    ")"
   ]
  },
  {
   "cell_type": "markdown",
   "id": "08353015-8486-4de6-a5bf-391a412b30e9",
   "metadata": {},
   "source": [
    "## Setup Event Handlers"
   ]
  },
  {
   "cell_type": "code",
   "execution_count": null,
   "id": "ce29c6ad-abfe-4f63-9e62-d95016db5f56",
   "metadata": {},
   "outputs": [],
   "source": [
    "def on_mesh_clipping_change(change):\n",
    "    \"\"\"Handle mesh clipping slider changes.\"\"\"\n",
    "    dx = float(change[\"new\"])\n",
    "    if dx > 10:\n",
    "        dx = float(\"inf\")\n",
    "    nv.set_mesh_thickness_on_2d(dx)\n",
    "\n",
    "\n",
    "def on_radiological_change(change):\n",
    "    \"\"\"Handle radiological convention checkbox changes.\"\"\"\n",
    "    nv.set_radiological_convention(change[\"new\"])\n",
    "\n",
    "\n",
    "def on_corner_text_change(change):\n",
    "    \"\"\"Handle corner text checkbox changes.\"\"\"\n",
    "    nv.set_corner_orientation_text(change[\"new\"])\n",
    "\n",
    "\n",
    "def on_world_space_change(change):\n",
    "    \"\"\"Handle world space checkbox changes.\"\"\"\n",
    "    nv.set_slice_mm(change[\"new\"])\n",
    "\n",
    "\n",
    "def on_colorbar_change(change):\n",
    "    \"\"\"Handle colorbar checkbox changes.\"\"\"\n",
    "    nv.opts.is_colorbar = change[\"new\"]\n",
    "\n",
    "\n",
    "def on_cube_change(change):\n",
    "    \"\"\"Handle orientation cube checkbox changes.\"\"\"\n",
    "    nv.opts.is_orient_cube = change[\"new\"]\n",
    "\n",
    "\n",
    "def on_pad_change(change):\n",
    "    \"\"\"Handle multiplanar padding checkbox changes.\"\"\"\n",
    "    pad = 5 if change[\"new\"] else 0\n",
    "    nv.set_multiplanar_pad_pixels(pad)\n",
    "\n",
    "\n",
    "def on_high_dpi_change(change):\n",
    "    \"\"\"Handle high DPI checkbox changes.\"\"\"\n",
    "    nv.set_high_resolution_capable(change[\"new\"])\n",
    "\n",
    "\n",
    "def on_force_render_change(change):\n",
    "    \"\"\"Handle force render checkbox changes.\"\"\"\n",
    "    if change[\"new\"]:\n",
    "        nv.opts.multiplanar_show_render = ShowRender.ALWAYS\n",
    "    else:\n",
    "        nv.opts.multiplanar_show_render = ShowRender.AUTO\n",
    "\n",
    "\n",
    "def on_drag_mode_change(change):\n",
    "    \"\"\"Handle drag mode dropdown changes.\"\"\"\n",
    "    nv.opts.drag_mode = change[\"new\"]"
   ]
  },
  {
   "cell_type": "markdown",
   "id": "c2f6e749-6e86-406b-9ede-89c1dee1f962",
   "metadata": {},
   "source": [
    "## Attach event handlers"
   ]
  },
  {
   "cell_type": "code",
   "execution_count": null,
   "id": "334235db-b8b3-44d5-8316-c07cb4e2477b",
   "metadata": {},
   "outputs": [],
   "source": [
    "mesh_clipping_slider.observe(on_mesh_clipping_change, names=\"value\")\n",
    "radiological_checkbox.observe(on_radiological_change, names=\"value\")\n",
    "corner_text_checkbox.observe(on_corner_text_change, names=\"value\")\n",
    "world_space_checkbox.observe(on_world_space_change, names=\"value\")\n",
    "colorbar_checkbox.observe(on_colorbar_change, names=\"value\")\n",
    "cube_checkbox.observe(on_cube_change, names=\"value\")\n",
    "pad_checkbox.observe(on_pad_change, names=\"value\")\n",
    "high_dpi_checkbox.observe(on_high_dpi_change, names=\"value\")\n",
    "force_render_checkbox.observe(on_force_render_change, names=\"value\")\n",
    "drag_mode_dropdown.observe(on_drag_mode_change, names=\"value\")"
   ]
  },
  {
   "cell_type": "markdown",
   "id": "8d0264d4-a1d8-4108-b0e2-2199b0abe3c4",
   "metadata": {},
   "source": [
    "## Initialize mesh clipping"
   ]
  },
  {
   "cell_type": "code",
   "execution_count": null,
   "id": "1b6ae48d-4771-446a-bb75-3f075f6a13f3",
   "metadata": {},
   "outputs": [],
   "source": [
    "on_mesh_clipping_change({\"new\": 11})  # sets to infinity cause >10"
   ]
  },
  {
   "cell_type": "markdown",
   "id": "6642b8c8-6747-41e5-9aee-3cd4c29e7b5a",
   "metadata": {},
   "source": [
    "## Display All"
   ]
  },
  {
   "cell_type": "code",
   "execution_count": null,
   "id": "780a17c6-0c47-491e-b4f6-bf9a7c7e657b",
   "metadata": {},
   "outputs": [],
   "source": [
    "controls_row1 = widgets.HBox([mesh_clipping_slider, drag_mode_dropdown])\n",
    "\n",
    "controls_row2 = widgets.HBox(\n",
    "    [\n",
    "        radiological_checkbox,\n",
    "        corner_text_checkbox,\n",
    "        world_space_checkbox,\n",
    "        colorbar_checkbox,\n",
    "    ]\n",
    ")\n",
    "\n",
    "controls_row3 = widgets.HBox(\n",
    "    [cube_checkbox, pad_checkbox, high_dpi_checkbox, force_render_checkbox]\n",
    ")\n",
    "\n",
    "controls = widgets.VBox([controls_row1, controls_row2, controls_row3])\n",
    "\n",
    "display(widgets.VBox([controls, nv]))"
   ]
  }
 ],
 "metadata": {},
 "nbformat": 4,
 "nbformat_minor": 5
}
