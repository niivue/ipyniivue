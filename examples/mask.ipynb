{
 "cells": [
  {
   "cell_type": "markdown",
   "id": "a7560ca5-f0bc-494d-abb0-477fb3944821",
   "metadata": {},
   "source": [
    "Prepare images"
   ]
  },
  {
   "cell_type": "code",
   "execution_count": null,
   "id": "e1a27d89-e050-47b9-b959-1fb51e39098e",
   "metadata": {},
   "outputs": [],
   "source": [
    "from pathlib import Path\n",
    "\n",
    "import ipyniivue\n",
    "\n",
    "# GitHub API URL for the base folder\n",
    "BASE_API_URL = \"https://niivue.com/demos/images/\"\n",
    "DATA_FOLDER = Path(ipyniivue.__file__).parent / \"images\""
   ]
  },
  {
   "cell_type": "code",
   "execution_count": null,
   "id": "c30f3c8d-28b5-4d0a-9883-a0d22f4f51e5",
   "metadata": {},
   "outputs": [],
   "source": [
    "# Download data for example\n",
    "ipyniivue.download_dataset(\n",
    "    BASE_API_URL,\n",
    "    DATA_FOLDER,\n",
    "    files=[\n",
    "        \"fslmean.nii.gz\",\n",
    "        \"fslt.nii.gz\",\n",
    "    ],\n",
    ")"
   ]
  },
  {
   "cell_type": "markdown",
   "id": "f91d30c7-3cf5-48e7-97eb-f76ba165eadf",
   "metadata": {},
   "source": [
    "Imports"
   ]
  },
  {
   "cell_type": "code",
   "execution_count": null,
   "id": "67a84d95-df0a-4f24-ad0b-27fc4a724cc3",
   "metadata": {},
   "outputs": [],
   "source": [
    "# Import necessary libraries\n",
    "import ipywidgets as widgets\n",
    "from IPython.display import display\n",
    "\n",
    "from ipyniivue import NiiVue, SliceType"
   ]
  },
  {
   "cell_type": "markdown",
   "id": "4348595a-6674-48e5-8ef0-04e73332e87c",
   "metadata": {},
   "source": [
    "Create niivue instance"
   ]
  },
  {
   "cell_type": "code",
   "execution_count": null,
   "id": "1af1bf1b-9033-4fed-800c-856180de5fa4",
   "metadata": {},
   "outputs": [],
   "source": [
    "# Create a NiiVue instance with specific options\n",
    "nv = NiiVue(show_3d_crosshair=True)\n",
    "\n",
    "# Load the volumes\n",
    "volumes = [\n",
    "    {\n",
    "        \"path\": DATA_FOLDER / \"fslmean.nii.gz\",\n",
    "        \"colormap\": \"gray\",\n",
    "        \"opacity\": 1.0,\n",
    "        \"visible\": True,\n",
    "    },\n",
    "    {\n",
    "        \"path\": DATA_FOLDER / \"fslt.nii.gz\",\n",
    "        \"colormap\": \"redyell\",\n",
    "        \"cal_min\": 0.05,\n",
    "        \"cal_max\": 5.05,\n",
    "        \"opacity\": 0.9,\n",
    "        \"visible\": True,\n",
    "    },\n",
    "]\n",
    "\n",
    "nv.load_volumes(volumes)\n",
    "\n",
    "# Set the slice type to render (3D view)\n",
    "nv.set_slice_type(SliceType.RENDER)\n",
    "\n",
    "# Set the clip plane\n",
    "nv.set_clip_plane(0.15, 270, 0)\n",
    "\n",
    "# Set the render azimuth and elevation\n",
    "nv.set_render_azimuth_elevation(45, 45)"
   ]
  },
  {
   "cell_type": "markdown",
   "id": "3257ee16-f7aa-48c4-a191-95616a44a9db",
   "metadata": {},
   "source": [
    "Create interactive checkbox"
   ]
  },
  {
   "cell_type": "code",
   "execution_count": null,
   "id": "9946de46-fff6-4b24-8de8-739f1bac8d32",
   "metadata": {},
   "outputs": [],
   "source": [
    "# Create a checkbox to toggle background masks overlays\n",
    "background_masks_checkbox = widgets.Checkbox(\n",
    "    value=False,\n",
    "    description=\"Background masks overlay\",\n",
    "    disabled=False,\n",
    ")\n",
    "\n",
    "\n",
    "# Function to handle checkbox changes\n",
    "def on_background_masks_change(change):\n",
    "    \"\"\"Set background mask overlay.\"\"\"\n",
    "    nv.background_masks_overlays = change.new\n",
    "\n",
    "\n",
    "# Observe changes to the checkbox\n",
    "background_masks_checkbox.observe(on_background_masks_change, names=\"value\")"
   ]
  },
  {
   "cell_type": "markdown",
   "id": "930e164e-7f58-400e-8102-94502dce8076",
   "metadata": {},
   "source": [
    "Display all"
   ]
  },
  {
   "cell_type": "code",
   "execution_count": null,
   "id": "79df762c-d512-4a00-a33a-a5fd6ca22840",
   "metadata": {},
   "outputs": [],
   "source": [
    "display(background_masks_checkbox)\n",
    "display(nv)"
   ]
  }
 ],
 "metadata": {},
 "nbformat": 4,
 "nbformat_minor": 5
}
