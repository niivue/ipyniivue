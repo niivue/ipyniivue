{
 "cells": [
  {
   "cell_type": "code",
   "execution_count": null,
   "id": "6606a337-3243-4041-a7b7-ec64136f245c",
   "metadata": {},
   "outputs": [],
   "source": [
    "!mkdir -p ../images/\n",
    "!wget https://github.com/niivue/niivue/raw/main/demos/images/BrainMesh_ICBM152.lh.mz3 -P ../images/\n",
    "!wget https://github.com/niivue/niivue/raw/main/demos/images/CIT168.mz3 -P ../images/\n",
    "!wget https://github.com/niivue/niivue/raw/main/demos/images/BrainMesh_ICBM152.lh.motor.mz3 -P ../images/"
   ]
  },
  {
   "cell_type": "code",
   "execution_count": null,
   "id": "36d80248-e8a6-4f27-92c5-98dabf2aec81",
   "metadata": {},
   "outputs": [],
   "source": [
    "from ipyniivue import NiiVue\n",
    "\n",
    "nv = NiiVue(\n",
    "    show_3d_crosshair=True, back_color=(1, 1, 1, 1), mesh_x_ray=0.3, is_colorbar=True\n",
    ")\n",
    "\n",
    "mesh_layer = {\n",
    "    \"path\": \"../images/BrainMesh_ICBM152.lh.motor.mz3\",\n",
    "    \"cal_min\": 0.5,\n",
    "    \"cal_max\": 5.5,\n",
    "    \"useNegativeCmap\": True,\n",
    "    \"opacity\": 0.7,\n",
    "}\n",
    "\n",
    "nv.load_meshes(\n",
    "    [\n",
    "        {\n",
    "            \"path\": \"../images/BrainMesh_ICBM152.lh.mz3\",\n",
    "            \"rgba255\": [255, 255, 255, 255],\n",
    "            \"layers\": [mesh_layer],\n",
    "        },\n",
    "        {\"path\": \"../images/CIT168.mz3\", \"rgba255\": [0, 0, 255, 255]},\n",
    "    ]\n",
    ")\n",
    "\n",
    "nv"
   ]
  },
  {
   "cell_type": "code",
   "execution_count": null,
   "id": "956fe2ef-3180-44cc-a81e-05efc783ee05",
   "metadata": {},
   "outputs": [],
   "source": [
    "nv.meshes[0].rgba255 = [0, 0, 0, 0]"
   ]
  },
  {
   "cell_type": "code",
   "execution_count": null,
   "id": "9b204adc-74a2-4091-be4f-2e0dd888d4c6",
   "metadata": {},
   "outputs": [],
   "source": []
  }
 ],
 "metadata": {
  "kernelspec": {
   "display_name": "Python 3 (ipykernel)",
   "language": "python",
   "name": "python3"
  },
  "language_info": {
   "codemirror_mode": {
    "name": "ipython",
    "version": 3
   },
   "file_extension": ".py",
   "mimetype": "text/x-python",
   "name": "python",
   "nbconvert_exporter": "python",
   "pygments_lexer": "ipython3",
   "version": "3.11.9"
  },
  "widgets": {
   "application/vnd.jupyter.widget-state+json": {
    "state": {},
    "version_major": 2,
    "version_minor": 0
   }
  }
 },
 "nbformat": 4,
 "nbformat_minor": 5
}
