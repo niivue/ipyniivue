{
 "cells": [
  {
   "cell_type": "code",
   "execution_count": null,
   "id": "69a4c0b3",
   "metadata": {},
   "outputs": [],
   "source": [
    "from pathlib import Path\n",
    "\n",
    "import ipyniivue\n",
    "from ipyniivue import NiiVue, download_dataset\n",
    "\n",
    "# GitHub API URL for the base folder\n",
    "BASE_API_URL = (\n",
    "    \"https://api.github.com/repos/niivue/niivue/contents/packages/niivue/demos/images\"\n",
    ")\n",
    "DATA_FOLDER = Path(ipyniivue.__file__).parent / \"images\""
   ]
  },
  {
   "cell_type": "code",
   "execution_count": null,
   "id": "eaca0a33-87c7-437f-b9b5-a0c967a44faf",
   "metadata": {},
   "outputs": [],
   "source": [
    "# Downloads all data for examples\n",
    "download_dataset(f\"{BASE_API_URL}\", DATA_FOLDER)"
   ]
  },
  {
   "cell_type": "code",
   "execution_count": null,
   "id": "36d80248-e8a6-4f27-92c5-98dabf2aec81",
   "metadata": {},
   "outputs": [],
   "source": [
    "nv = NiiVue(\n",
    "    show_3d_crosshair=True, back_color=(1, 1, 1, 1), mesh_x_ray=0.3, is_colorbar=True\n",
    ")\n",
    "\n",
    "mesh_layer = {\n",
    "    \"path\": DATA_FOLDER / \"BrainMesh_ICBM152.lh.motor.mz3\",\n",
    "    \"cal_min\": 0.5,\n",
    "    \"cal_max\": 5.5,\n",
    "    \"useNegativeCmap\": True,\n",
    "    \"opacity\": 0.7,\n",
    "}\n",
    "\n",
    "nv.load_meshes(\n",
    "    [\n",
    "        {\n",
    "            \"path\": DATA_FOLDER / \"BrainMesh_ICBM152.lh.mz3\",\n",
    "            \"rgba255\": [255, 255, 255, 255],\n",
    "            \"layers\": [mesh_layer],\n",
    "        },\n",
    "        {\"path\": DATA_FOLDER / \"CIT168.mz3\", \"rgba255\": [0, 0, 255, 255]},\n",
    "    ]\n",
    ")\n",
    "\n",
    "nv"
   ]
  },
  {
   "cell_type": "code",
   "execution_count": null,
   "id": "956fe2ef-3180-44cc-a81e-05efc783ee05",
   "metadata": {},
   "outputs": [],
   "source": [
    "nv.meshes[0].rgba255 = [200, 200, 200, 0]"
   ]
  }
 ],
 "metadata": {
  "kernelspec": {
   "display_name": "Python 3 (ipykernel)",
   "language": "python",
   "name": "python3"
  },
  "language_info": {
   "codemirror_mode": {
    "name": "ipython",
    "version": 3
   },
   "file_extension": ".py",
   "mimetype": "text/x-python",
   "name": "python",
   "nbconvert_exporter": "python",
   "pygments_lexer": "ipython3",
   "version": "3.12.3"
  },
  "widgets": {
   "application/vnd.jupyter.widget-state+json": {
    "state": {},
    "version_major": 2,
    "version_minor": 0
   }
  }
 },
 "nbformat": 4,
 "nbformat_minor": 5
}
