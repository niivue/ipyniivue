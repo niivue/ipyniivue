{
 "cells": [
  {
   "cell_type": "code",
   "execution_count": null,
   "id": "69a4c0b3",
   "metadata": {},
   "outputs": [],
   "source": [
    "from pathlib import Path\n",
    "\n",
    "import ipyniivue\n",
    "from ipyniivue import NiiVue, download_dataset\n",
    "\n",
    "# GitHub API URL for the base folder\n",
    "BASE_API_URL = \"https://niivue.com/demos/images/\"\n",
    "DATA_FOLDER = Path(ipyniivue.__file__).parent / \"images\""
   ]
  },
  {
   "cell_type": "code",
   "execution_count": null,
   "id": "eaca0a33-87c7-437f-b9b5-a0c967a44faf",
   "metadata": {},
   "outputs": [],
   "source": [
    "# Download data for example\n",
    "download_dataset(\n",
    "    BASE_API_URL,\n",
    "    DATA_FOLDER,\n",
    "    files=[\n",
    "        \"BrainMesh_ICBM152.lh.motor.mz3\",\n",
    "        \"BrainMesh_ICBM152.lh.mz3\",\n",
    "        \"CIT168.mz3\",\n",
    "    ],\n",
    ")"
   ]
  },
  {
   "cell_type": "code",
   "execution_count": null,
   "id": "36d80248-e8a6-4f27-92c5-98dabf2aec81",
   "metadata": {},
   "outputs": [],
   "source": [
    "nv = NiiVue(\n",
    "    show_3d_crosshair=True, back_color=(1, 1, 1, 1), mesh_x_ray=0.3, is_colorbar=True\n",
    ")\n",
    "\n",
    "mesh_layer = {\n",
    "    \"path\": DATA_FOLDER / \"BrainMesh_ICBM152.lh.motor.mz3\",\n",
    "    \"cal_min\": 0.5,\n",
    "    \"cal_max\": 5.5,\n",
    "    \"use_negative_cmap\": True,\n",
    "    \"opacity\": 0.7,\n",
    "}\n",
    "\n",
    "nv.load_meshes(\n",
    "    [\n",
    "        {\n",
    "            \"path\": DATA_FOLDER / \"BrainMesh_ICBM152.lh.mz3\",\n",
    "            \"rgba255\": [255, 255, 255, 255],\n",
    "            \"layers\": [mesh_layer],\n",
    "        },\n",
    "        {\"path\": DATA_FOLDER / \"CIT168.mz3\", \"rgba255\": [0, 0, 255, 255]},\n",
    "    ]\n",
    ")\n",
    "\n",
    "nv"
   ]
  },
  {
   "cell_type": "code",
   "execution_count": null,
   "id": "956fe2ef-3180-44cc-a81e-05efc783ee05",
   "metadata": {},
   "outputs": [],
   "source": [
    "nv.meshes[0].rgba255 = [0, 200, 200, 200]"
   ]
  },
  {
   "cell_type": "code",
   "execution_count": null,
   "id": "7ae05143-ddfd-4ac5-824b-4c579730f016",
   "metadata": {},
   "outputs": [],
   "source": [
    "nv.meshes[0].layers[0].opacity = 0.2"
   ]
  },
  {
   "cell_type": "code",
   "execution_count": null,
   "id": "21b63939-9a36-48eb-83d6-76941fb6d7e1",
   "metadata": {},
   "outputs": [],
   "source": [
    "nv.set_mesh_layer_property(nv.meshes[0].id, 0, \"opacity\", 0.8)"
   ]
  }
 ],
 "metadata": {},
 "nbformat": 4,
 "nbformat_minor": 5
}
