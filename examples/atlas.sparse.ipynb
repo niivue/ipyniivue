{
 "cells": [
  {
   "cell_type": "markdown",
   "id": "39b55e89-0de0-449c-b0f5-0d0ecb54e6f4",
   "metadata": {},
   "source": [
    "# Import Necessary Modules"
   ]
  },
  {
   "cell_type": "code",
   "execution_count": null,
   "id": "ec364cef-1bd3-498d-b571-281dfada6249",
   "metadata": {},
   "outputs": [],
   "source": [
    "import pathlib\n",
    "\n",
    "import ipywidgets as widgets\n",
    "from IPython.display import display\n",
    "\n",
    "import ipyniivue\n",
    "from ipyniivue import DragMode, NiiVue, ShowRender, download_dataset"
   ]
  },
  {
   "cell_type": "markdown",
   "id": "fbd334de-9cf8-4b78-bfd3-bec98d52d50f",
   "metadata": {},
   "source": [
    "# Download Required Data"
   ]
  },
  {
   "cell_type": "code",
   "execution_count": null,
   "id": "ef853053-a88e-423b-9e8c-096399af731f",
   "metadata": {},
   "outputs": [],
   "source": [
    "DATA_FOLDER = pathlib.Path(ipyniivue.__file__).parent / \"images\"\n",
    "\n",
    "download_dataset(\n",
    "    dest_folder=DATA_FOLDER,\n",
    "    files=[\n",
    "        \"inia19-t1-brain.nii.gz\",\n",
    "        \"inia19-NeuroMaps.nii.gz\",\n",
    "    ],\n",
    ")"
   ]
  },
  {
   "cell_type": "markdown",
   "id": "bdc45f6e-9fff-44b2-bb22-dac86c37326d",
   "metadata": {},
   "source": [
    "# Setup NiiVue Instance"
   ]
  },
  {
   "cell_type": "code",
   "execution_count": null,
   "id": "bd327698-3349-4f6a-ac25-1b12b3ee18d4",
   "metadata": {},
   "outputs": [],
   "source": [
    "nv = NiiVue(\n",
    "    back_color=(0.5, 0.5, 0.5, 1),\n",
    "    show_3d_crosshair=True,\n",
    "    drag_mode=DragMode.PAN,\n",
    "    yoke_3d_to_2d_zoom=True,\n",
    "    multiplanar_show_render=ShowRender.ALWAYS,\n",
    ")\n",
    "\n",
    "nv.load_volumes(\n",
    "    [\n",
    "        {\"path\": DATA_FOLDER / \"inia19-t1-brain.nii.gz\"},\n",
    "        {\"path\": DATA_FOLDER / \"inia19-NeuroMaps.nii.gz\", \"opacity\": 0.5},\n",
    "    ]\n",
    ")\n",
    "\n",
    "nv.volumes[1].set_colormap_label_from_url(\n",
    "    \"https://niivue.com/demos/images/inia19-NeuroMaps.json\"\n",
    ")\n",
    "\n",
    "nv.volumes[1].opacity = 0.188\n",
    "nv.set_atlas_outline(1.0)"
   ]
  },
  {
   "cell_type": "markdown",
   "id": "b6a15481-c027-4128-8cc7-b13b0e0df1c8",
   "metadata": {},
   "source": [
    "# Create interactive widgets"
   ]
  },
  {
   "cell_type": "code",
   "execution_count": null,
   "id": "909c02d8-5392-4f52-928e-407620fc2eea",
   "metadata": {},
   "outputs": [],
   "source": [
    "# Slider for opacity\n",
    "opacity_slider = widgets.IntSlider(\n",
    "    min=1,\n",
    "    max=255,\n",
    "    value=48,\n",
    "    description=\"Opacity\",\n",
    "    continuous_update=True,\n",
    ")\n",
    "\n",
    "# Slider for outline\n",
    "outline_slider = widgets.IntSlider(\n",
    "    min=0,\n",
    "    max=255,\n",
    "    value=255,\n",
    "    description=\"Outline\",\n",
    "    continuous_update=True,\n",
    ")\n",
    "\n",
    "location_label = widgets.HTML(\"&nbsp;\")"
   ]
  },
  {
   "cell_type": "markdown",
   "id": "c22dcfc8-4ac1-443f-9c4b-dcb9073d329a",
   "metadata": {},
   "source": [
    "# Define callbacks"
   ]
  },
  {
   "cell_type": "code",
   "execution_count": null,
   "id": "36e58df0-4a17-4f6c-bcc7-f211fa48e428",
   "metadata": {},
   "outputs": [],
   "source": [
    "def on_opacity_change(change):\n",
    "    \"\"\"Update the opacity of the atlas volume.\"\"\"\n",
    "    nv.volumes[1].opacity = change[\"new\"] / 255\n",
    "\n",
    "\n",
    "def on_outline_change(change):\n",
    "    \"\"\"Update the outline thickness of the atlas.\"\"\"\n",
    "    nv.set_atlas_outline(change[\"new\"] / 255)\n",
    "\n",
    "\n",
    "def handle_location_change(location):\n",
    "    \"\"\"Update the location label with current coordinates.\"\"\"\n",
    "    location_label.value = location[\"string\"]"
   ]
  },
  {
   "cell_type": "markdown",
   "id": "2e03552e-e106-41fd-9a01-cf953757f800",
   "metadata": {},
   "source": [
    "# Setup observers"
   ]
  },
  {
   "cell_type": "code",
   "execution_count": null,
   "id": "350e4e11-9202-4e99-9afa-e8883d2b3bd5",
   "metadata": {},
   "outputs": [],
   "source": [
    "opacity_slider.observe(on_opacity_change, names=\"value\")\n",
    "outline_slider.observe(on_outline_change, names=\"value\")\n",
    "\n",
    "nv.on_location_change(handle_location_change)\n",
    "\n",
    "on_opacity_change({\"new\": opacity_slider.value})\n",
    "on_outline_change({\"new\": outline_slider.value})"
   ]
  },
  {
   "cell_type": "markdown",
   "id": "84c861a3-040a-4597-9a4d-40974c8501e5",
   "metadata": {},
   "source": [
    "# Display all"
   ]
  },
  {
   "cell_type": "code",
   "execution_count": null,
   "id": "94acebe5-edd8-4b92-875b-391a8f11bd57",
   "metadata": {},
   "outputs": [],
   "source": [
    "controls = widgets.HBox([opacity_slider, outline_slider])\n",
    "\n",
    "display(\n",
    "    widgets.VBox(\n",
    "        [\n",
    "            controls,\n",
    "            nv,\n",
    "            location_label,\n",
    "        ]\n",
    "    )\n",
    ")"
   ]
  }
 ],
 "metadata": {},
 "nbformat": 4,
 "nbformat_minor": 5
}
