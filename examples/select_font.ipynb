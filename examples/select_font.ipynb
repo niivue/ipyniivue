{
 "cells": [
  {
   "cell_type": "code",
   "execution_count": null,
   "id": "cfa87b0c-caa4-4c30-be9b-2eae0ab5965d",
   "metadata": {},
   "outputs": [],
   "source": [
    "from pathlib import Path\n",
    "\n",
    "import ipyniivue\n",
    "from ipyniivue import NiiVue, SliceType, download_dataset\n",
    "\n",
    "# GitHub API URL for the base folder\n",
    "BASE_API_URL = (\n",
    "    \"https://api.github.com/repos/niivue/niivue/contents/packages/niivue/demos/images\"\n",
    ")\n",
    "FONT_API_URL = (\n",
    "    \"https://api.github.com/repos/niivue/niivue/contents/packages/niivue/src/fonts\"\n",
    ")\n",
    "DATA_FOLDER = Path(ipyniivue.__file__).parent / \"images\"\n",
    "FONT_FOLDER = Path(ipyniivue.__file__).parent / \"fonts\""
   ]
  },
  {
   "cell_type": "code",
   "execution_count": null,
   "id": "9a2ac21c-93e3-4cfd-a283-930bf8cb47ff",
   "metadata": {},
   "outputs": [],
   "source": [
    "# Downloads all data for examples\n",
    "download_dataset(f\"{BASE_API_URL}\", DATA_FOLDER)"
   ]
  },
  {
   "cell_type": "code",
   "execution_count": null,
   "id": "2e789ff1-73d0-4d2a-bd60-af46cc4a4bed",
   "metadata": {},
   "outputs": [],
   "source": [
    "# Downloads all of the font information for this example\n",
    "download_dataset(f\"{FONT_API_URL}\", FONT_FOLDER)"
   ]
  },
  {
   "cell_type": "code",
   "execution_count": null,
   "id": "adfbda15-1d81-4ded-8797-f673fca19acc",
   "metadata": {},
   "outputs": [],
   "source": [
    "nv = NiiVue(slice_type=SliceType.MULTIPLANAR)\n",
    "nv"
   ]
  },
  {
   "cell_type": "code",
   "execution_count": null,
   "id": "2e105c1b-320c-440a-a04f-14c93cbee1ec",
   "metadata": {},
   "outputs": [],
   "source": [
    "nv.set_font(\n",
    "    \"https://github.com/niivue/niivue/blob/main/packages/niivue/src/fonts/Garamond.png\",\n",
    "    \"https://github.com/niivue/niivue/blob/main/packages/niivue/src/fonts/Garamond.json\",\n",
    ")\n",
    "# nv.set_font(str(FONT_FOLDER / \"Garamond.png\"), str(FONT_FOLDER / \"Garamond.json\"))"
   ]
  },
  {
   "cell_type": "code",
   "execution_count": null,
   "id": "3b633239-afae-42b2-997a-7e44bf6ac467",
   "metadata": {},
   "outputs": [],
   "source": []
  }
 ],
 "metadata": {
  "kernelspec": {
   "display_name": "Python 3 (ipykernel)",
   "language": "python",
   "name": "python3"
  },
  "language_info": {
   "codemirror_mode": {
    "name": "ipython",
    "version": 3
   },
   "file_extension": ".py",
   "mimetype": "text/x-python",
   "name": "python",
   "nbconvert_exporter": "python",
   "pygments_lexer": "ipython3",
   "version": "3.11.6"
  }
 },
 "nbformat": 4,
 "nbformat_minor": 5
}
