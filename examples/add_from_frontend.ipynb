{
 "cells": [
  {
   "cell_type": "markdown",
   "id": "3c537ca6",
   "metadata": {},
   "source": [
    "# Drag-and-Drop\n",
    "This example showcases adding volumes/meshes via drag-and-drop. "
   ]
  },
  {
   "cell_type": "markdown",
   "id": "4bf34aa7",
   "metadata": {},
   "source": [
    "This first code cell creates a new nv object without any loaded volumes or meshes."
   ]
  },
  {
   "cell_type": "code",
   "execution_count": null,
   "id": "37a1e7ad-ea43-4e2a-95e9-2eef3dc74a97",
   "metadata": {},
   "outputs": [],
   "source": [
    "from ipyniivue import NiiVue\n",
    "\n",
    "nv = NiiVue()\n",
    "nv"
   ]
  },
  {
   "cell_type": "markdown",
   "id": "abbcb465",
   "metadata": {},
   "source": [
    "Now, try dragging and dropping a volume file, for example [mni152.nii.gz](https://niivue.com/demos/images/mni152.nii.gz). Then, run the next code cell to check that volumes have been loaded into the python backend."
   ]
  },
  {
   "cell_type": "code",
   "execution_count": null,
   "id": "78169ab8-781c-4488-8259-47a6be43e625",
   "metadata": {},
   "outputs": [],
   "source": [
    "nv.volumes"
   ]
  },
  {
   "cell_type": "markdown",
   "id": "0844a7c1",
   "metadata": {},
   "source": [
    "You can also modify this volume's features, such as its opacity."
   ]
  },
  {
   "cell_type": "code",
   "execution_count": null,
   "id": "06bd69d3-3a1a-40ad-9362-7cc21f264ebf",
   "metadata": {},
   "outputs": [],
   "source": [
    "if len(nv.volumes) > 0:\n",
    "    nv.volumes[0].opacity = 0.5"
   ]
  }
 ],
 "metadata": {},
 "nbformat": 4,
 "nbformat_minor": 5
}
