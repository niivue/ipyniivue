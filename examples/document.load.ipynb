{
 "cells": [
  {
   "cell_type": "code",
   "execution_count": null,
   "id": "65d657c7-c5a9-4a9c-b1c4-4d8e6e5290dd",
   "metadata": {},
   "outputs": [],
   "source": [
    "import ipywidgets as widgets\n",
    "from IPython.display import display\n",
    "\n",
    "from ipyniivue import NiiVue"
   ]
  },
  {
   "cell_type": "code",
   "execution_count": null,
   "id": "10b9f3e0-66e8-4b8d-a273-e35ce5dae539",
   "metadata": {},
   "outputs": [],
   "source": [
    "nv = NiiVue()\n",
    "display(nv)"
   ]
  },
  {
   "cell_type": "code",
   "execution_count": null,
   "id": "d48877dc-3d23-45c6-b6f6-9cc2573fc691",
   "metadata": {},
   "outputs": [],
   "source": [
    "# Document URLs to load\n",
    "document_urls = [\n",
    "    \"https://niivue.com/demos/images/niivue.basic.nvd\",\n",
    "    \"https://niivue.com/demos/images/niivue.drawing.nvd\",\n",
    "    \"https://niivue.com/demos/images/niivue.mesh.nvd\",\n",
    "]\n",
    "\n",
    "# Load the first document by default\n",
    "nv.load_document(document_urls[0])"
   ]
  },
  {
   "cell_type": "code",
   "execution_count": null,
   "id": "e6ec2eb7-865d-4dd5-a649-03ee7fe806d7",
   "metadata": {},
   "outputs": [],
   "source": [
    "# Create preview buttons for documents\n",
    "def create_document_button(url, index):\n",
    "    \"\"\"Create a button for loading a document.\"\"\"\n",
    "    name = url.split(\"/\")[-1]\n",
    "    button = widgets.Button(\n",
    "        description=f\"Load {name}\", layout=widgets.Layout(width=\"auto\", margin=\"2px\")\n",
    "    )\n",
    "\n",
    "    def on_click(b):\n",
    "        nv.load_document(url)\n",
    "        status_output.value = f\"Loaded: {name}\"\n",
    "\n",
    "    button.on_click(on_click)\n",
    "    return button\n",
    "\n",
    "\n",
    "# Create buttons for each document\n",
    "document_buttons = [\n",
    "    create_document_button(url, i) for i, url in enumerate(document_urls)\n",
    "]\n",
    "\n",
    "# Status display\n",
    "status_output = widgets.HTML(value=\"Loaded: niivue.basic.nvd\")"
   ]
  },
  {
   "cell_type": "code",
   "execution_count": null,
   "id": "41e8f292-0719-4c47-a2d6-f28be679efdc",
   "metadata": {},
   "outputs": [],
   "source": [
    "# Track hippocampus state\n",
    "hippo_state = {\"is_showing\": False}\n",
    "hippo_url = \"https://niivue.com/demos/images/hippo.nii.gz\"\n",
    "\n",
    "\n",
    "def toggle_hippocampus(b):\n",
    "    \"\"\"Toggle the hippocampus overlay.\"\"\"\n",
    "    if hippo_state[\"is_showing\"]:\n",
    "        nv.volumes = nv.volumes[:-1]\n",
    "        b.description = \"Add Hippocampus\"\n",
    "        hippo_state[\"is_showing\"] = False\n",
    "        status_output.value = \"Removed hippocampus overlay\"\n",
    "    else:\n",
    "        # Add hippocampus\n",
    "        nv.add_volume({\"url\": hippo_url, \"colormap\": \"bluegrn\", \"opacity\": 0.7})\n",
    "        b.description = \"Remove Hippocampus\"\n",
    "        hippo_state[\"is_showing\"] = True\n",
    "        status_output.value = \"Added hippocampus overlay\"\n",
    "\n",
    "\n",
    "# Create toggle button\n",
    "hippo_button = widgets.Button(description=\"Add Hippocampus\", button_style=\"info\")\n",
    "hippo_button.on_click(toggle_hippocampus)"
   ]
  },
  {
   "cell_type": "code",
   "execution_count": null,
   "id": "2740219d-9ba6-4d72-adbb-a6acb87cb932",
   "metadata": {},
   "outputs": [],
   "source": [
    "def save_document(b):\n",
    "    \"\"\"Save the current scene as a document.\"\"\"\n",
    "    nv.save_document(\"my_document.nvd\")\n",
    "    status_output.value = \"Document saved as 'my_document.nvd'\"\n",
    "\n",
    "\n",
    "# Create save button\n",
    "save_button = widgets.Button(description=\"Save Document\", button_style=\"success\")\n",
    "save_button.on_click(save_document)"
   ]
  },
  {
   "cell_type": "code",
   "execution_count": null,
   "id": "0e85641e-6b10-4bd7-ac1b-9db365257810",
   "metadata": {},
   "outputs": [],
   "source": [
    "# Create organized layout\n",
    "file_controls = widgets.VBox(\n",
    "    [\n",
    "        widgets.HTML(\"<h3>File Operations</h3>\"),\n",
    "        widgets.HBox([save_button]),\n",
    "        widgets.HTML(\"<h3>Load Documents</h3>\"),\n",
    "        widgets.VBox(document_buttons),\n",
    "        widgets.HTML(\"<h3>Volume Controls</h3>\"),\n",
    "        widgets.HBox([hippo_button]),\n",
    "        widgets.HTML(\"<h3>Status</h3>\"),\n",
    "        status_output,\n",
    "    ]\n",
    ")\n",
    "\n",
    "# Display controls\n",
    "display(file_controls)\n",
    "display(nv)"
   ]
  }
 ],
 "metadata": {},
 "nbformat": 4,
 "nbformat_minor": 5
}
