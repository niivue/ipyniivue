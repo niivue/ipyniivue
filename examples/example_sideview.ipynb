{
 "cells": [
  {
   "cell_type": "code",
   "execution_count": null,
   "id": "52de1125",
   "metadata": {},
   "outputs": [],
   "source": [
    "# This is not part of IPyNiiVue dependencies so it has to be installed independently\n",
    "!pip install ipylab"
   ]
  },
  {
   "cell_type": "code",
   "execution_count": null,
   "id": "b1cbb154-3c30-4d61-afea-8f7e42ee65b9",
   "metadata": {},
   "outputs": [],
   "source": [
    "from pathlib import Path\n",
    "\n",
    "from ipylab import JupyterFrontEnd, SplitPanel\n",
    "\n",
    "import ipyniivue\n",
    "from ipyniivue import NiiVue, SliceType, download_dataset\n",
    "\n",
    "# GitHub API URL for the base folder\n",
    "BASE_API_URL = (\n",
    "    \"https://api.github.com/repos/niivue/niivue/contents/packages/niivue/demos/images\"\n",
    ")\n",
    "DATA_FOLDER = Path(ipyniivue.__file__).parent / \"images\""
   ]
  },
  {
   "cell_type": "code",
   "execution_count": null,
   "id": "6291cd2c-0674-4ba3-a912-75ff6ca7fe78",
   "metadata": {},
   "outputs": [],
   "source": [
    "# Download data for example\n",
    "download_dataset(\n",
    "    f\"{BASE_API_URL}\",\n",
    "    DATA_FOLDER,\n",
    "    files=[\n",
    "        \"mni152.nii.gz\",\n",
    "        \"hippo.nii.gz\",\n",
    "    ],\n",
    ")"
   ]
  },
  {
   "cell_type": "code",
   "execution_count": null,
   "id": "74af1303-22e9-4933-9a13-de80b2109067",
   "metadata": {},
   "outputs": [],
   "source": [
    "# this example needs to have ipylab installed and only runs in JupyterLab.\n",
    "volumes = [\n",
    "    {\n",
    "        \"path\": DATA_FOLDER / \"mni152.nii.gz\",\n",
    "        \"colormap\": \"gray\",\n",
    "        \"visible\": True,\n",
    "        \"opacity\": 1.0,\n",
    "    },\n",
    "    {\n",
    "        \"path\": DATA_FOLDER / \"hippo.nii.gz\",\n",
    "        \"colormap\": \"red\",\n",
    "        \"visible\": True,\n",
    "        \"opacity\": 1,\n",
    "    },\n",
    "]\n",
    "nv = NiiVue(slice_type=SliceType.MULTIPLANAR)\n",
    "nv.load_volumes(volumes)\n",
    "\n",
    "\n",
    "app = JupyterFrontEnd()\n",
    "split_panel = SplitPanel()\n",
    "\n",
    "# add the widgets to the split panel\n",
    "split_panel.children = [nv]\n",
    "\n",
    "split_panel.title.label = \"NiiVue SplitPanel\"\n",
    "split_panel.title.icon_class = \"jp-PythonIcon\"\n",
    "split_panel.title.closable = True\n",
    "app.shell.add(split_panel, \"main\", {\"mode\": \"split-right\"})\n",
    "print(\"Split panel created!\")"
   ]
  },
  {
   "cell_type": "code",
   "execution_count": null,
   "id": "97c74b53-7f9f-45b4-9608-b594d564b8cd",
   "metadata": {},
   "outputs": [],
   "source": [
    "nv.volumes[0].opacity = 0.5\n",
    "nv.volumes[1].colormap = \"green\""
   ]
  }
 ],
 "metadata": {},
 "nbformat": 4,
 "nbformat_minor": 5
}
