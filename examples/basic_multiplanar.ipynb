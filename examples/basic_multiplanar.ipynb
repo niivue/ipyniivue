{
 "cells": [
  {
   "cell_type": "code",
   "execution_count": null,
   "metadata": {},
   "outputs": [],
   "source": [
    "from pathlib import Path\n",
    "\n",
    "import ipyniivue\n",
    "from ipyniivue import NiiVue, SliceType, download_dataset\n",
    "\n",
    "# GitHub API URL for the base folder\n",
    "BASE_API_URL = (\n",
    "    \"https://api.github.com/repos/niivue/niivue/contents/packages/niivue/demos/images\"\n",
    ")\n",
    "DATA_FOLDER = Path(ipyniivue.__file__).parent / \"images\""
   ]
  },
  {
   "cell_type": "code",
   "execution_count": null,
   "metadata": {},
   "outputs": [],
   "source": [
    "# Download data for example\n",
    "download_dataset(\n",
    "    f\"{BASE_API_URL}\",\n",
    "    DATA_FOLDER,\n",
    "    files=[\n",
    "        \"mni152.nii.gz\",\n",
    "        \"hippo.nii.gz\",\n",
    "    ],\n",
    ")"
   ]
  },
  {
   "cell_type": "code",
   "execution_count": null,
   "metadata": {},
   "outputs": [],
   "source": [
    "# based on https://niivue.github.io/niivue/features/basic.multiplanar.html\n",
    "\n",
    "volumes = [\n",
    "    {\n",
    "        \"path\": DATA_FOLDER / \"mni152.nii.gz\",\n",
    "        \"colormap\": \"gray\",\n",
    "        \"visible\": True,\n",
    "        \"opacity\": 1.0,\n",
    "    },\n",
    "    {\n",
    "        \"path\": DATA_FOLDER / \"hippo.nii.gz\",\n",
    "        \"colormap\": \"red\",\n",
    "        \"visible\": True,\n",
    "        \"opacity\": 1,\n",
    "    },\n",
    "]\n",
    "nv = NiiVue(slice_type=SliceType.MULTIPLANAR)\n",
    "nv.load_volumes(volumes)\n",
    "nv"
   ]
  },
  {
   "cell_type": "code",
   "execution_count": null,
   "metadata": {},
   "outputs": [],
   "source": [
    "nv.volumes[0].opacity = 0.3\n",
    "nv.volumes[1].colormap = \"blue\""
   ]
  },
  {
   "cell_type": "code",
   "execution_count": null,
   "metadata": {},
   "outputs": [],
   "source": [
    "nv.opts.show_3d_crosshair = True\n",
    "nv.opts.crosshair_color = [0, 1, 1, 1]\n",
    "nv.opts.back_color = [1, 1, 1, 1]\n",
    "nv.opts.clip_plane_color = [0, 1, 1, 1]\n",
    "nv.opts.is_colorbar = True\n",
    "nv.opts.view_mode_hot_key = \"KeyN\""
   ]
  },
  {
   "cell_type": "code",
   "execution_count": null,
   "metadata": {},
   "outputs": [],
   "source": [
    "nv.id"
   ]
  },
  {
   "cell_type": "code",
   "execution_count": null,
   "metadata": {},
   "outputs": [],
   "source": [
    "nv"
   ]
  }
 ],
 "metadata": {},
 "nbformat": 4,
 "nbformat_minor": 4
}
