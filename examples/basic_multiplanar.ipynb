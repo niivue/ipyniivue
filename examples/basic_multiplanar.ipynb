{
 "cells": [
  {
   "cell_type": "code",
   "execution_count": null,
   "metadata": {},
   "outputs": [],
   "source": [
    "from pathlib import Path\n",
    "\n",
    "import ipyniivue\n",
    "from ipyniivue import NiiVue, SliceType, download_dataset\n",
    "\n",
    "# GitHub API URL for the base folder\n",
    "BASE_API_URL = (\n",
    "    \"https://api.github.com/repos/niivue/niivue/contents/packages/niivue/demos/images\"\n",
    ")\n",
    "DATA_FOLDER = Path(ipyniivue.__file__).parent / \"images\""
   ]
  },
  {
   "cell_type": "code",
   "execution_count": null,
   "metadata": {},
   "outputs": [],
   "source": [
    "# Downloads all data for examples\n",
    "download_dataset(f\"{BASE_API_URL}\", DATA_FOLDER)"
   ]
  },
  {
   "cell_type": "code",
   "execution_count": null,
   "metadata": {},
   "outputs": [],
   "source": [
    "# based on https://niivue.github.io/niivue/features/basic.multiplanar.html\n",
    "\n",
    "volumes = [\n",
    "    {\n",
    "        \"path\": DATA_FOLDER / \"mni152.nii.gz\",\n",
    "        \"colormap\": \"gray\",\n",
    "        \"visible\": True,\n",
    "        \"opacity\": 1.0,\n",
    "    },\n",
    "    {\n",
    "        \"path\": DATA_FOLDER / \"hippo.nii.gz\",\n",
    "        \"colormap\": \"red\",\n",
    "        \"visible\": True,\n",
    "        \"opacity\": 1,\n",
    "    },\n",
    "]\n",
    "nv = NiiVue(slice_type=SliceType.MULTIPLANAR)\n",
    "nv.load_volumes(volumes)\n",
    "nv"
   ]
  },
  {
   "cell_type": "code",
   "execution_count": null,
   "metadata": {},
   "outputs": [],
   "source": [
    "nv.volumes[0].opacity = 0.3\n",
    "nv.volumes[1].colormap = \"blue\""
   ]
  },
  {
   "cell_type": "code",
   "execution_count": null,
   "metadata": {},
   "outputs": [],
   "source": [
    "nv.show_3d_crosshair = True\n",
    "nv.crosshair_color = [0, 1, 1, 1]\n",
    "nv.back_color = [1, 1, 1, 1]\n",
    "nv.clip_plane_color = [0, 1, 1, 1]\n",
    "nv.is_colorbar = True\n",
    "nv.view_mode_hot_key = \"KeyN\""
   ]
  },
  {
   "cell_type": "code",
   "execution_count": null,
   "metadata": {},
   "outputs": [],
   "source": []
  }
 ],
 "metadata": {
  "kernelspec": {
   "display_name": "Python 3 (ipykernel)",
   "language": "python",
   "name": "python3"
  },
  "language_info": {
   "codemirror_mode": {
    "name": "ipython",
    "version": 3
   },
   "file_extension": ".py",
   "mimetype": "text/x-python",
   "name": "python",
   "nbconvert_exporter": "python",
   "pygments_lexer": "ipython3",
   "version": "3.11.6"
  }
 },
 "nbformat": 4,
 "nbformat_minor": 4
}
