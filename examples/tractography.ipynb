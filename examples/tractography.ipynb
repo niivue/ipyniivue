{
 "cells": [
  {
   "cell_type": "markdown",
   "id": "0df16e2c-d906-4f28-a3be-64f5796c1d89",
   "metadata": {},
   "source": [
    "# Tractography (TCK, TRK, TRX, VTK)"
   ]
  },
  {
   "cell_type": "markdown",
   "id": "a053d814-b32e-4c30-95f5-e2182c4aa5ee",
   "metadata": {},
   "source": [
    "### Installation\n",
    "This notebook can be run on a local server or on a virtualized environement like Google Colab.\n",
    "\n",
    "\n",
    "##### Current limitations:\n",
    "This notebook runs through `jupyter notebook` or `jupyter lab` but gets unresponsive when using JupyterLite (e.g., notebooks ran through VS Code or Google Colab)."
   ]
  },
  {
   "cell_type": "code",
   "execution_count": 1,
   "id": "e8c48085-2e35-4d32-87dc-5d552482b994",
   "metadata": {},
   "outputs": [
    {
     "name": "stdout",
     "output_type": "stream",
     "text": [
      "\u001b[33mDEPRECATION: pyodbc 4.0.0-unsupported has a non-standard version number. pip 23.3 will enforce this behaviour change. A possible replacement is to upgrade to a newer version of pyodbc or contact the author to suggest that they release a version with a conforming version number. Discussion can be found at https://github.com/pypa/pip/issues/12063\u001b[0m\u001b[33m\n",
      "\u001b[0m\n",
      "\u001b[1m[\u001b[0m\u001b[34;49mnotice\u001b[0m\u001b[1;39;49m]\u001b[0m\u001b[39;49m A new release of pip is available: \u001b[0m\u001b[31;49m23.2.1\u001b[0m\u001b[39;49m -> \u001b[0m\u001b[32;49m23.3.1\u001b[0m\n",
      "\u001b[1m[\u001b[0m\u001b[34;49mnotice\u001b[0m\u001b[1;39;49m]\u001b[0m\u001b[39;49m To update, run: \u001b[0m\u001b[32;49mpip install --upgrade pip\u001b[0m\n",
      "Note: you may need to restart the kernel to use updated packages.\n"
     ]
    }
   ],
   "source": [
    "#run if using Google Colab or not building from source\n",
    "try:\n",
    "    # -q silence the output from pip. Remove this flag if you need \n",
    "    # to debug an installation issue.\n",
    "    %pip install -q ipyniivue\n",
    "    from google.colab import output\n",
    "    output.enable_custom_widget_manager()\n",
    "except:\n",
    "    pass"
   ]
  },
  {
   "cell_type": "markdown",
   "id": "b147ca13-0783-4109-91a7-db60fc066a33",
   "metadata": {},
   "source": [
    "### Imports"
   ]
  },
  {
   "cell_type": "code",
   "execution_count": 2,
   "id": "14ca07b7-2838-45e8-a802-a0c96ac59ce9",
   "metadata": {},
   "outputs": [],
   "source": [
    "from ipyniivue import Niivue\n",
    "import ipywidgets as widgets\n",
    "from time import sleep, time\n",
    "from jupyter_ui_poll import ui_events"
   ]
  },
  {
   "cell_type": "markdown",
   "id": "13e9bfd8-ee9a-4c6f-b585-5d2c419b8c0a",
   "metadata": {},
   "source": [
    "### Display Controls\n",
    "interactive controls to customize visualization"
   ]
  },
  {
   "cell_type": "code",
   "execution_count": 3,
   "id": "a2651106-3f99-4bb0-afd3-9e68a4be021d",
   "metadata": {
    "tags": []
   },
   "outputs": [],
   "source": [
    "# Fiber Length Slider\n",
    "length_slider = widgets.IntSlider(min=1, max=80, value=3, description=\"Length\")\n",
    "def on_length_change(change):\n",
    "    if change[\"name\"] == \"value\":\n",
    "        nv.set_mesh_property(nv.meshes[0].id, \"fiberLength\", change[\"new\"])\n",
    "length_slider.observe(on_length_change, names=\"value\")\n",
    "\n",
    "# Fiber Dither Slider\n",
    "dither_slider = widgets.FloatSlider(min=0, max=10, value=1, description=\"Dither\")\n",
    "def on_dither_change(change):\n",
    "    if change[\"name\"] == \"value\":\n",
    "        nv.set_mesh_property(nv.meshes[0].id, \"fiberDither\", change[\"new\"] * 0.1)\n",
    "dither_slider.observe(on_dither_change, names=\"value\")\n",
    "\n",
    "# Fiber Color Dropdown\n",
    "color_dropdown = widgets.Dropdown(\n",
    "    options=[\n",
    "        (\"Global direction\", \"Global\"),\n",
    "        (\"Local direction\", \"Local\"),\n",
    "        (\"Fixed\", \"Fixed\"),\n",
    "        (\"First Per Vertex Type (if available)\", \"DPV0\"),\n",
    "        (\"First Per Streamline Type (if available)\", \"DPS0\"),\n",
    "    ],\n",
    "    value=\"Global\",\n",
    "    description=\"Fiber color:\",\n",
    ")\n",
    "\n",
    "def on_color_change(change):\n",
    "    if change[\"name\"] == \"value\":\n",
    "        nv.set_mesh_property(nv.meshes[0].id, \"fiberColor\", change[\"new\"])\n",
    "color_dropdown.observe(on_color_change, names=\"value\")\n",
    "\n",
    "# Fiber Decimation Dropdown\n",
    "decimation_dropdown = widgets.Dropdown(\n",
    "    options=[\n",
    "        (\"100%\", 1),\n",
    "        (\"50%\", 2),\n",
    "        (\"25%\", 4),\n",
    "        (\"10%\", 10),\n",
    "    ],\n",
    "    value=1,\n",
    "    description=\"Fiber reduction:\",\n",
    ")\n",
    "\n",
    "def on_decimation_change(change):\n",
    "    if change[\"name\"] == \"value\":\n",
    "        nv.set_mesh_property(nv.meshes[0].id, \"fiberDecimationStride\", change[\"new\"])\n",
    "decimation_dropdown.observe(on_decimation_change, names=\"value\")\n",
    "\n",
    "# Arrange controls vertically\n",
    "controls = widgets.VBox([length_slider, dither_slider, color_dropdown, decimation_dropdown])"
   ]
  },
  {
   "cell_type": "markdown",
   "id": "e65f3a28-1542-40a6-9ee3-63cdd2ef40ae",
   "metadata": {},
   "source": [
    "### Niivue"
   ]
  },
  {
   "cell_type": "code",
   "execution_count": 4,
   "id": "bd63fe41-444b-4ce7-a652-8d098a15eeff",
   "metadata": {},
   "outputs": [
    {
     "data": {
      "application/vnd.jupyter.widget-view+json": {
       "model_id": "d7cf5330ead0420d967e7138f82e13d6",
       "version_major": 2,
       "version_minor": 0
      },
      "text/plain": [
       "VBox(children=(VBox(children=(IntSlider(value=3, description='Length', max=80, min=1), FloatSlider(value=1.0, …"
      ]
     },
     "metadata": {},
     "output_type": "display_data"
    }
   ],
   "source": [
    "# Creating a NiiVue object\n",
    "nv = Niivue(back_color=[0.8, 0.8, 1, 1], show_3D_crosshair=True)\n",
    "\n",
    "# Display it so it has a canvas an WebGL context. Also display the controls\n",
    "display(widgets.VBox([controls, nv]))"
   ]
  },
  {
   "cell_type": "markdown",
   "id": "95f8a241-74df-432f-89e4-54efb90fbb53",
   "metadata": {},
   "source": [
    "### Load a volume and set slice type"
   ]
  },
  {
   "cell_type": "code",
   "execution_count": 5,
   "id": "ad7e5f38-9208-4845-b24a-84ffca1ff31c",
   "metadata": {
    "tags": []
   },
   "outputs": [],
   "source": [
    "nv.add_volume(\"https://niivue.github.io/niivue/images/mni152.nii.gz\")\n",
    "nv.set_slice_type(nv.slice_type.render)"
   ]
  },
  {
   "cell_type": "markdown",
   "id": "b3a2dfe3-72ff-47e4-851a-a78bb0cc2f29",
   "metadata": {},
   "source": [
    "### Load a mesh"
   ]
  },
  {
   "cell_type": "code",
   "execution_count": 6,
   "id": "34864ab3-a459-4e51-b27c-3c7df293aedf",
   "metadata": {
    "tags": []
   },
   "outputs": [],
   "source": [
    "nv.load_meshes([{\"url\": \"https://niivue.github.io/niivue/images/dpsv.trx\", \"rgba255\": [0, 142, 0, 255]}])"
   ]
  },
  {
   "cell_type": "markdown",
   "id": "b8954402-b23b-4112-9796-04547b1582bb",
   "metadata": {},
   "source": [
    "The following is in a separate cell because we have to wait for the typescript end of the widget to update .meshes variable in the python end. "
   ]
  },
  {
   "cell_type": "code",
   "execution_count": 7,
   "id": "797e35b7",
   "metadata": {},
   "outputs": [],
   "source": [
    "################\n",
    "# This block of code is currently necessary to avoid nv.meshes[0] being accessed before the\n",
    "# mesh becomes accessible, in which case the notebook crashes with an IndexError.\n",
    "# This error is triggered for example when the used hit \"cell -> Run all\"\n",
    "################\n",
    "timeout = 60\n",
    "start = time()\n",
    "i = 1\n",
    "with ui_events() as poll:\n",
    "    while True:\n",
    "        poll(1)\n",
    "        if len(nv.meshes):\n",
    "            break\n",
    "        if time() > start + timeout:\n",
    "            raise TimeoutError\n",
    "################\n",
    "            \n",
    "nv.set_mesh_property(nv.meshes[0].id, \"colormap\", \"blue\")\n",
    "nv.set_clip_plane([-0.1, 270, 0])"
   ]
  },
  {
   "cell_type": "code",
   "execution_count": null,
   "id": "8eb0a3b0",
   "metadata": {},
   "outputs": [],
   "source": []
  }
 ],
 "metadata": {
  "kernelspec": {
   "display_name": "Python 3 (ipykernel)",
   "language": "python",
   "name": "python3"
  },
  "language_info": {
   "codemirror_mode": {
    "name": "ipython",
    "version": 3
   },
   "file_extension": ".py",
   "mimetype": "text/x-python",
   "name": "python",
   "nbconvert_exporter": "python",
   "pygments_lexer": "ipython3",
   "version": "3.9.7"
  },
  "widgets": {
   "application/vnd.jupyter.widget-state+json": {
    "state": {},
    "version_major": 2,
    "version_minor": 0
   }
  }
 },
 "nbformat": 4,
 "nbformat_minor": 5
}
