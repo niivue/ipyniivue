{
 "cells": [
  {
   "cell_type": "code",
   "execution_count": null,
   "id": "fc4fd25c-ba20-49b0-aa4d-ce02266553fc",
   "metadata": {},
   "outputs": [],
   "source": [
    "from pathlib import Path\n",
    "\n",
    "import ipyniivue\n",
    "from ipyniivue import NiiVue, SliceType, download_dataset\n",
    "\n",
    "# GitHub API URL for the base folder\n",
    "BASE_API_URL = (\n",
    "    \"https://api.github.com/repos/niivue/niivue/contents/packages/niivue/demos/images\"\n",
    ")\n",
    "DATA_FOLDER = Path(ipyniivue.__file__).parent / \"images\""
   ]
  },
  {
   "cell_type": "code",
   "execution_count": null,
   "id": "29230e89-1d68-4d8d-bbb8-2f688c690590",
   "metadata": {},
   "outputs": [],
   "source": [
    "# Downloads all data for examples\n",
    "download_dataset(f\"{BASE_API_URL}\", DATA_FOLDER)"
   ]
  },
  {
   "cell_type": "code",
   "execution_count": null,
   "id": "4aa5999b-45e6-42a6-a124-6953572a881b",
   "metadata": {},
   "outputs": [],
   "source": [
    "# based on https://niivue.github.io/niivue/features/basic.multiplanar.html\n",
    "\n",
    "volumes = [\n",
    "    {\n",
    "        \"path\": DATA_FOLDER / \"mni152.nii.gz\",\n",
    "        \"colormap\": \"gray\",\n",
    "        \"visible\": True,\n",
    "        \"opacity\": 1.0,\n",
    "    },\n",
    "    {\n",
    "        \"path\": DATA_FOLDER / \"hippo.nii.gz\",\n",
    "        \"colormap\": \"red\",\n",
    "        \"visible\": True,\n",
    "        \"opacity\": 1,\n",
    "    },\n",
    "]\n",
    "nv = NiiVue(slice_type=SliceType.MULTIPLANAR)\n",
    "nv.load_volumes(volumes)\n",
    "nv"
   ]
  },
  {
   "cell_type": "code",
   "execution_count": null,
   "id": "d5bd3f6b-145a-4a31-9328-6acbde412ce0",
   "metadata": {},
   "outputs": [],
   "source": [
    "nv.save_document()"
   ]
  },
  {
   "cell_type": "code",
   "execution_count": null,
   "id": "7cff3d5a-b2f7-465a-9b1a-b5e456ad9192",
   "metadata": {},
   "outputs": [],
   "source": [
    "nv.save_html()"
   ]
  },
  {
   "cell_type": "code",
   "execution_count": null,
   "id": "5d9ef2a7-d293-4de9-8e43-c8ca01f1f45f",
   "metadata": {},
   "outputs": [],
   "source": [
    "nv.save_image()"
   ]
  },
  {
   "cell_type": "code",
   "execution_count": null,
   "id": "6859daba-d0fd-40a0-98e3-1ba134e1e3e4",
   "metadata": {},
   "outputs": [],
   "source": [
    "nv.save_scene()"
   ]
  }
 ],
 "metadata": {
  "kernelspec": {
   "display_name": "Python 3 (ipykernel)",
   "language": "python",
   "name": "python3"
  },
  "language_info": {
   "codemirror_mode": {
    "name": "ipython",
    "version": 3
   },
   "file_extension": ".py",
   "mimetype": "text/x-python",
   "name": "python",
   "nbconvert_exporter": "python",
   "pygments_lexer": "ipython3"
  }
 },
 "nbformat": 4,
 "nbformat_minor": 5
}
