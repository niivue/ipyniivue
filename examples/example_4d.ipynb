{
 "cells": [
  {
   "cell_type": "code",
   "execution_count": null,
   "id": "094d7d78-087b-4eeb-963a-186d1653b582",
   "metadata": {},
   "outputs": [],
   "source": [
    "import ipywidgets as widgets\n",
    "\n",
    "from ipyniivue import NiiVue, SliceType, download_dataset\n",
    "from ipyniivue.download_dataset import DATA_FOLDER\n",
    "\n",
    "# GitHub API URL for the base folder\n",
    "BASE_API_URL = (\n",
    "    \"https://api.github.com/repos/niivue/niivue/contents/packages/niivue/demos/images\"\n",
    ")"
   ]
  },
  {
   "cell_type": "code",
   "execution_count": null,
   "id": "bca75d90",
   "metadata": {},
   "outputs": [],
   "source": [
    "# Download data for example\n",
    "download_dataset(\n",
    "    f\"{BASE_API_URL}\",\n",
    "    DATA_FOLDER,\n",
    "    files=[\n",
    "        \"mpld_asl.nii.gz\",\n",
    "    ],\n",
    ")"
   ]
  },
  {
   "cell_type": "markdown",
   "id": "bf39aa6b",
   "metadata": {},
   "source": [
    "Importing nibabel. Since nibabel isn't currently in the ipyniivue requirements, you might need to install it."
   ]
  },
  {
   "cell_type": "code",
   "execution_count": null,
   "id": "7332152b-1073-4112-a231-a04d402ae2d0",
   "metadata": {},
   "outputs": [],
   "source": [
    "try:\n",
    "    import nibabel as nib\n",
    "except ModuleNotFoundError:\n",
    "    !pip install nibabel\n",
    "    import nibabel as nib"
   ]
  },
  {
   "cell_type": "code",
   "execution_count": null,
   "id": "66143d2b-af3a-4fcf-9d0c-b5c7ff19931d",
   "metadata": {},
   "outputs": [],
   "source": [
    "example = DATA_FOLDER / \"mpld_asl.nii.gz\"\n",
    "volumes = [\n",
    "    {\n",
    "        \"path\": example,\n",
    "        \"colormap\": \"gray\",\n",
    "        \"visible\": True,\n",
    "        \"opacity\": 1.0,\n",
    "    },\n",
    "]\n",
    "nv = NiiVue(slice_type=SliceType.MULTIPLANAR)\n",
    "nv.load_volumes(volumes)\n",
    "\n",
    "nvols = nib.load(example).shape[-1]\n",
    "\n",
    "slider = widgets.IntSlider(min=0, max=nvols - 1, description=\"Volume\")\n",
    "\n",
    "\n",
    "def update_frame(*args):\n",
    "    \"\"\"Select the frame corresponding to the slider value.\"\"\"\n",
    "    nv.volumes[0].frame4D = slider.value\n",
    "\n",
    "\n",
    "slider.observe(update_frame, \"value\")\n",
    "\n",
    "display(slider)\n",
    "display(nv)"
   ]
  }
 ],
 "metadata": {},
 "nbformat": 4,
 "nbformat_minor": 5
}
