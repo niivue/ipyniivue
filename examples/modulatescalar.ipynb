{
 "cells": [
  {
   "cell_type": "markdown",
   "id": "b3655efc-94c0-462f-84be-4eb085c3d204",
   "metadata": {},
   "source": [
    "# Import necessary modules"
   ]
  },
  {
   "cell_type": "code",
   "execution_count": null,
   "id": "d3266af0-8c7c-47a3-9866-ddd0272511cb",
   "metadata": {},
   "outputs": [],
   "source": [
    "import pathlib\n",
    "\n",
    "import ipywidgets as widgets\n",
    "from IPython.display import display\n",
    "\n",
    "import ipyniivue\n",
    "from ipyniivue import NiiVue, download_dataset"
   ]
  },
  {
   "cell_type": "markdown",
   "id": "51c101ef-16b9-416b-baeb-fc61109ac6b9",
   "metadata": {},
   "source": [
    "# Download Required Data"
   ]
  },
  {
   "cell_type": "code",
   "execution_count": null,
   "id": "4dbdd188-a964-499f-ad17-716db5a74469",
   "metadata": {},
   "outputs": [],
   "source": [
    "DATA_FOLDER = pathlib.Path(ipyniivue.__file__).parent / \"images\"\n",
    "\n",
    "download_dataset(\n",
    "    \"https://niivue.com/demos/images/\",\n",
    "    dest_folder=DATA_FOLDER,\n",
    "    files=[\n",
    "        \"mean_func.nii.gz\",\n",
    "        \"cope1.nii.gz\",\n",
    "        \"tstat1.nii.gz\",\n",
    "    ],\n",
    ")"
   ]
  },
  {
   "cell_type": "markdown",
   "id": "52b8dd27-939a-4ca2-b62f-d2ab49bcb8e8",
   "metadata": {},
   "source": [
    "# Create NiiVue instance"
   ]
  },
  {
   "cell_type": "code",
   "execution_count": null,
   "id": "b8e3a6fe-2fc1-413d-8e11-df1cfdc3bc92",
   "metadata": {},
   "outputs": [],
   "source": [
    "nv = NiiVue(\n",
    "    back_color=(0.2, 0.2, 0.3, 1),\n",
    ")\n",
    "\n",
    "volume_list = [\n",
    "    {\n",
    "        \"path\": DATA_FOLDER / \"mean_func.nii.gz\",\n",
    "        \"opacity\": 1,\n",
    "        \"colormap\": \"gray\",\n",
    "    },\n",
    "    {\n",
    "        \"path\": DATA_FOLDER / \"cope1.nii.gz\",\n",
    "        \"colormap\": \"winter\",\n",
    "        \"opacity\": 0,\n",
    "        \"cal_min\": 0.0,\n",
    "        \"cal_max\": 100,\n",
    "    },\n",
    "    {\n",
    "        \"path\": DATA_FOLDER / \"tstat1.nii.gz\",\n",
    "        \"opacity\": 1,\n",
    "        \"colormap\": \"warm\",\n",
    "        \"cal_min\": 0,\n",
    "        \"cal_max\": 4.5,\n",
    "    },\n",
    "]\n",
    "\n",
    "nv.load_volumes(volume_list)\n",
    "\n",
    "nv.overlay_outline_width = 0.25\n",
    "nv.volumes[0].colorbar_visible = False\n",
    "nv.opts.is_colorbar = True\n",
    "nv.set_interpolation(True)\n",
    "nv.scene.crosshair_pos = (0.55, 0.5, 0.8)\n",
    "nv.opts.slice_type = \"MULTIPLANAR\""
   ]
  },
  {
   "cell_type": "markdown",
   "id": "66a70a84-a847-43aa-9c53-9d57756215e2",
   "metadata": {},
   "source": [
    "# Setup dropdowns, sliders, and checkboxes"
   ]
  },
  {
   "cell_type": "code",
   "execution_count": null,
   "id": "c90f56d8-2a16-418e-9fc0-6569350f3a65",
   "metadata": {},
   "outputs": [],
   "source": [
    "display_mode_dropdown = widgets.Dropdown(\n",
    "    options=[(\"func\", 0), (\"cope\", 1), (\"tstat\", 2), (\"modulate\", 3)],\n",
    "    value=3,  # default is 'modulate'\n",
    "    description=\"Display:\",\n",
    ")\n",
    "\n",
    "tmax_slider = widgets.IntSlider(\n",
    "    min=1,\n",
    "    max=50,\n",
    "    value=45,\n",
    "    description=\"tMax\",\n",
    ")\n",
    "\n",
    "cmax_slider = widgets.IntSlider(\n",
    "    min=1,\n",
    "    max=200,\n",
    "    value=100,\n",
    "    description=\"cMax\",\n",
    ")\n",
    "\n",
    "outline_slider = widgets.FloatSlider(\n",
    "    min=0,\n",
    "    max=4,\n",
    "    value=1,\n",
    "    description=\"Outline\",\n",
    ")\n",
    "\n",
    "clipdark_checkbox = widgets.Checkbox(\n",
    "    value=False,\n",
    "    description=\"ClipDark\",\n",
    ")\n",
    "\n",
    "modulate_alpha_checkbox = widgets.Checkbox(\n",
    "    value=True,\n",
    "    description=\"ModulateAlpha\",\n",
    ")"
   ]
  },
  {
   "cell_type": "markdown",
   "id": "99eff79a-88ec-403d-bb8a-9ac76a80edde",
   "metadata": {},
   "source": [
    "# Setup callback functions"
   ]
  },
  {
   "cell_type": "code",
   "execution_count": null,
   "id": "b1a4620c-022a-4d3b-b962-599a7badfb5b",
   "metadata": {},
   "outputs": [],
   "source": [
    "def on_tmax_slider_change(change):\n",
    "    \"\"\"Set tmax.\"\"\"\n",
    "    nv.volumes[2].cal_max = 0.1 * change[\"new\"]\n",
    "\n",
    "\n",
    "tmax_slider.observe(on_tmax_slider_change, names=\"value\")\n",
    "\n",
    "\n",
    "def on_cmax_slider_change(change):\n",
    "    \"\"\"Set cmax.\"\"\"\n",
    "    nv.volumes[1].cal_max = change[\"new\"]\n",
    "\n",
    "\n",
    "cmax_slider.observe(on_cmax_slider_change, names=\"value\")\n",
    "\n",
    "\n",
    "def on_outline_slider_change(change):\n",
    "    \"\"\"Set overlay outline width.\"\"\"\n",
    "    nv.overlay_outline_width = 0.25 * change[\"new\"]\n",
    "\n",
    "\n",
    "outline_slider.observe(on_outline_slider_change, names=\"value\")\n",
    "\n",
    "\n",
    "def on_clipdark_checkbox_change(change):\n",
    "    \"\"\"Set alpha clip dark.\"\"\"\n",
    "    nv.opts.is_alpha_clip_dark = change[\"new\"]\n",
    "\n",
    "\n",
    "clipdark_checkbox.observe(on_clipdark_checkbox_change, names=\"value\")\n",
    "\n",
    "\n",
    "def on_modulate_alpha_checkbox_change(change):\n",
    "    \"\"\"Modulate alpha.\"\"\"\n",
    "    on_display_mode_change({\"new\": display_mode_dropdown.value})\n",
    "\n",
    "\n",
    "modulate_alpha_checkbox.observe(on_modulate_alpha_checkbox_change, names=\"value\")\n",
    "\n",
    "\n",
    "def on_display_mode_change(change):\n",
    "    \"\"\"Handle display mode change.\"\"\"\n",
    "    mode = change[\"new\"]\n",
    "    nv.set_opacity(0, 1.0)  # background opaque\n",
    "    nv.set_opacity(1, 0.0)  # hide cope\n",
    "    nv.set_opacity(2, 0.0)  # hide tstat\n",
    "    idx = min(2, mode)\n",
    "    nv.set_opacity(idx, 1.0)\n",
    "\n",
    "    if mode == 3:  # modulate\n",
    "        nv.set_opacity(1, 1.0)  # show cope\n",
    "        nv.set_opacity(2, 0.0)  # hide tstat\n",
    "        modulate_alpha = modulate_alpha_checkbox.value\n",
    "        nv.set_modulation_image(\n",
    "            nv.volumes[1].id,  # modulate this volume (cope)\n",
    "            nv.volumes[2].id,  # with this volume (tstat)\n",
    "            modulate_alpha,\n",
    "        )\n",
    "    else:\n",
    "        nv.set_modulation_image(nv.volumes[1].id, \"\")\n",
    "\n",
    "\n",
    "display_mode_dropdown.observe(on_display_mode_change, names=\"value\")"
   ]
  },
  {
   "cell_type": "markdown",
   "id": "d8580755-6b8a-46fe-8c75-80e4b70da2cc",
   "metadata": {},
   "source": [
    "# On volumes loaded/ready actions"
   ]
  },
  {
   "cell_type": "code",
   "execution_count": null,
   "id": "b02cd5cb-cab1-4892-b6cd-5ae2087026e6",
   "metadata": {},
   "outputs": [],
   "source": [
    "# Set the initial display mode.\n",
    "# This function requires that the canvas is attached\n",
    "# and all 3 volumes are loaded (ie, their IDs are defined)\n",
    "# So, we use nv.on_image_loaded\n",
    "def set_initial_display(volume):\n",
    "    \"\"\"Set initial display mode.\"\"\"\n",
    "    if all(v.id for v in nv.volumes):\n",
    "        on_display_mode_change({\"new\": display_mode_dropdown.value})\n",
    "        nv.on_image_loaded(set_initial_display, remove=True)  # remove after 1st run\n",
    "\n",
    "\n",
    "nv.on_image_loaded(set_initial_display)"
   ]
  },
  {
   "cell_type": "markdown",
   "id": "77662de3-ca64-4696-b2f5-93303af28571",
   "metadata": {},
   "source": [
    "# Handle location changes"
   ]
  },
  {
   "cell_type": "code",
   "execution_count": null,
   "id": "fd014a30-f96e-4829-9bfd-38010f3d66c6",
   "metadata": {},
   "outputs": [],
   "source": [
    "location_output = widgets.HTML(value=\"&nbsp;\")\n",
    "\n",
    "\n",
    "def handle_location_change(location):\n",
    "    \"\"\"Handle location changes.\"\"\"\n",
    "    location_output.value = \"&nbsp;&nbsp;\" + location[\"string\"]\n",
    "\n",
    "\n",
    "nv.on_location_change(handle_location_change)"
   ]
  },
  {
   "cell_type": "markdown",
   "id": "042a65d4-97d9-4a99-87f6-bce991f2b70c",
   "metadata": {},
   "source": [
    "# Display all"
   ]
  },
  {
   "cell_type": "code",
   "execution_count": null,
   "id": "a1c64778-84eb-4ba1-8dad-715ee32da587",
   "metadata": {},
   "outputs": [],
   "source": [
    "controls = widgets.VBox(\n",
    "    [\n",
    "        display_mode_dropdown,\n",
    "        tmax_slider,\n",
    "        cmax_slider,\n",
    "        outline_slider,\n",
    "        clipdark_checkbox,\n",
    "        modulate_alpha_checkbox,\n",
    "    ]\n",
    ")\n",
    "\n",
    "display(widgets.VBox([controls, nv, location_output]))"
   ]
  },
  {
   "cell_type": "code",
   "execution_count": null,
   "id": "b831616a-a9de-406e-a002-21fe74109403",
   "metadata": {},
   "outputs": [],
   "source": [
    "nv.scene.scene_data"
   ]
  }
 ],
 "metadata": {},
 "nbformat": 4,
 "nbformat_minor": 5
}
