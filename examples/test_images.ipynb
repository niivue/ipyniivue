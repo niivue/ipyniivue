{
 "cells": [
  {
   "cell_type": "markdown",
   "id": "2181bf6a-68c4-4869-a1bb-4225b9b7d53f",
   "metadata": {},
   "source": [
    "# Import necessary modules"
   ]
  },
  {
   "cell_type": "code",
   "execution_count": null,
   "id": "5e21c83d-cb4d-4c5b-a255-4c2834abd93c",
   "metadata": {},
   "outputs": [],
   "source": [
    "import pathlib\n",
    "\n",
    "import ipywidgets as widgets\n",
    "from IPython.display import display\n",
    "\n",
    "import ipyniivue\n",
    "from ipyniivue import NiiVue, download_dataset"
   ]
  },
  {
   "cell_type": "markdown",
   "id": "dfc76d81-1331-428a-a64b-5087dbbcf8be",
   "metadata": {},
   "source": [
    "# Download Formats"
   ]
  },
  {
   "cell_type": "code",
   "execution_count": null,
   "id": "e70f5a26-4a37-4887-a3c0-327818181289",
   "metadata": {},
   "outputs": [],
   "source": [
    "DATA_FOLDER = pathlib.Path(ipyniivue.__file__).parent / \"images\"\n",
    "\n",
    "local_imgs = [\n",
    "    \"FLAIR.nrrd\",\n",
    "    \"cactus.nii.gz\",\n",
    "    \"DoG.png\",\n",
    "    \"anat_final.FT+tlrc.HEAD\",\n",
    "    \"mha.mha\",\n",
    "    \"template.mif.gz\",\n",
    "    \"trix/fa.mif\",\n",
    "    \"dsistudio.src.gz\",\n",
    "    \"dsistudio.fib.gz\",\n",
    "    \"wm.mgz\",\n",
    "]\n",
    "\n",
    "files_to_download_local = local_imgs.copy()\n",
    "for img in local_imgs:\n",
    "    if img.endswith(\".HEAD\"):\n",
    "        # Also need to download the paired .BRIK file\n",
    "        brik_file = img.replace(\".HEAD\", \".BRIK\")\n",
    "        files_to_download_local.append(brik_file)\n",
    "\n",
    "download_dataset(\n",
    "    api_url=\"https://niivue.com/demos/images/\",\n",
    "    dest_folder=DATA_FOLDER,\n",
    "    files=files_to_download_local,\n",
    ")"
   ]
  },
  {
   "cell_type": "markdown",
   "id": "af6729b4-2f0e-4a76-b493-eba46cbcdf14",
   "metadata": {},
   "source": [
    "# Download Modalities"
   ]
  },
  {
   "cell_type": "code",
   "execution_count": null,
   "id": "6e1f8e7f-3eed-40d6-aa8e-828ec08a31ec",
   "metadata": {},
   "outputs": [],
   "source": [
    "modalities_imgs = [\n",
    "    \"chris_MRA\",\n",
    "    \"chris_PD\",\n",
    "    \"chris_t1\",\n",
    "    \"chris_t2\",\n",
    "    \"CT_Abdo\",\n",
    "    \"CT_AVM\",\n",
    "    \"CT_Electrodes\",\n",
    "    \"CT_Philips\",\n",
    "    \"CT_pitch\",\n",
    "    \"fmri_pitch\",\n",
    "    \"Iguana\",\n",
    "    \"mni152\",\n",
    "    \"MR_Gd\",\n",
    "    \"pcasl\",\n",
    "    \"spm152\",\n",
    "    \"spmMotor\",\n",
    "    \"visiblehuman\",\n",
    "    \"rgb_bmp.jpg\",\n",
    "    \"gray_bmp.png\",\n",
    "    \"HCD1464653.qsdr.fz\",\n",
    "]\n",
    "\n",
    "# Add the appropriate extensions\n",
    "files_to_download_modalities = []\n",
    "for img in modalities_imgs:\n",
    "    if (\n",
    "        not img.endswith(\".png\")\n",
    "        and not img.endswith(\".jpg\")\n",
    "        and not img.endswith(\".fz\")\n",
    "    ):\n",
    "        img_with_ext = img + \".nii.gz\"\n",
    "    else:\n",
    "        img_with_ext = img\n",
    "    files_to_download_modalities.append(img_with_ext)\n",
    "\n",
    "download_dataset(\n",
    "    api_url=\"https://niivue.github.io/niivue-demo-images/\",\n",
    "    dest_folder=DATA_FOLDER,\n",
    "    files=files_to_download_modalities,\n",
    ")"
   ]
  },
  {
   "cell_type": "markdown",
   "id": "d17023b6-94dc-4a38-846a-719fcfaa7009",
   "metadata": {},
   "source": [
    "# Setup NiiVue Instance"
   ]
  },
  {
   "cell_type": "code",
   "execution_count": null,
   "id": "14021983-a5fc-400b-b58c-1b9d0284d68b",
   "metadata": {},
   "outputs": [],
   "source": [
    "nv = NiiVue(\n",
    "    back_color=(0.7, 0.7, 0.9, 1),\n",
    ")\n",
    "nv.opts.is_colorbar = True\n",
    "nv.set_slice_type(\"RENDER\")\n",
    "nv.set_clip_plane(0.35, 270, 0)\n",
    "\n",
    "initial_volume_path = DATA_FOLDER / \"mni152.nii.gz\"\n",
    "nv.load_volumes(\n",
    "    [\n",
    "        {\n",
    "            \"path\": initial_volume_path,\n",
    "            \"colormap\": \"gray\",\n",
    "            \"opacity\": 1,\n",
    "            \"visible\": True,\n",
    "        }\n",
    "    ]\n",
    ")"
   ]
  },
  {
   "cell_type": "markdown",
   "id": "ba2edb7f-fa9f-4194-aad5-c74cfb0fffdb",
   "metadata": {},
   "source": [
    "# Store image paths"
   ]
  },
  {
   "cell_type": "code",
   "execution_count": null,
   "id": "38e81fe1-0afc-4391-bc7b-b07e72739171",
   "metadata": {},
   "outputs": [],
   "source": [
    "img_paths = {}\n",
    "\n",
    "# Formats\n",
    "for img in local_imgs:\n",
    "    img_path = DATA_FOLDER / img\n",
    "    img_paths[img] = img_path\n",
    "    if img.endswith(\".HEAD\"):\n",
    "        # Also map the paired .BRIK file\n",
    "        brik_file = img.replace(\".HEAD\", \".BRIK\")\n",
    "        brik_path = DATA_FOLDER / brik_file\n",
    "        img_paths[img + \"_paired\"] = brik_path\n",
    "\n",
    "# Modalities\n",
    "for img in modalities_imgs:\n",
    "    if (\n",
    "        not img.endswith(\".png\")\n",
    "        and not img.endswith(\".jpg\")\n",
    "        and not img.endswith(\".fz\")\n",
    "    ):\n",
    "        img_with_ext = img + \".nii.gz\"\n",
    "    else:\n",
    "        img_with_ext = img\n",
    "    img_path = DATA_FOLDER / img_with_ext\n",
    "    img_paths[img] = img_path"
   ]
  },
  {
   "cell_type": "markdown",
   "id": "bc147316-9433-4e13-ac92-6e1dbc9143dc",
   "metadata": {},
   "source": [
    "# Dropdowns"
   ]
  },
  {
   "cell_type": "code",
   "execution_count": null,
   "id": "4c85aff2-40d0-439b-a581-32b0bfab9316",
   "metadata": {},
   "outputs": [],
   "source": [
    "# Dropdown for Formats\n",
    "formats_dropdown = widgets.Dropdown(\n",
    "    options=[(img, img) for img in local_imgs],\n",
    "    description=\"Formats:\",\n",
    "    value=None,\n",
    ")\n",
    "\n",
    "# Dropdown for Modalities\n",
    "modalities_dropdown = widgets.Dropdown(\n",
    "    options=[(img, img) for img in modalities_imgs],\n",
    "    description=\"Modalities:\",\n",
    "    value=None,\n",
    ")\n",
    "\n",
    "# Dropdown for Colormaps\n",
    "colormaps = sorted(nv.colormaps())\n",
    "colormap_dropdown = widgets.Dropdown(\n",
    "    options=colormaps,\n",
    "    description=\"Colormap:\",\n",
    "    value=\"gray\",\n",
    ")"
   ]
  },
  {
   "cell_type": "markdown",
   "id": "d96f552b-dc63-4fd6-ace8-653e1ef453fb",
   "metadata": {},
   "source": [
    "# Event handlers"
   ]
  },
  {
   "cell_type": "code",
   "execution_count": null,
   "id": "bd2d2635-4faf-403e-b2d5-494422841601",
   "metadata": {},
   "outputs": [],
   "source": [
    "def on_format_change(change):\n",
    "    \"\"\"Handle selection in Formats Dropdown.\"\"\"\n",
    "    selected_img = change[\"new\"]\n",
    "    if not selected_img:\n",
    "        return\n",
    "    img_path = img_paths.get(selected_img)\n",
    "    if not img_path.exists():\n",
    "        print(f\"Image {img_path} not found.\")\n",
    "        return\n",
    "    volumeObj = {\n",
    "        \"path\": img_path,\n",
    "        \"colormap\": \"gray\",\n",
    "        \"opacity\": 1,\n",
    "        \"visible\": True,\n",
    "    }\n",
    "    if selected_img.endswith(\".HEAD\"):\n",
    "        paired_img_path = img_paths.get(selected_img + \"_paired\")\n",
    "        if not paired_img_path or not paired_img_path.exists():\n",
    "            print(f\"Paired image {paired_img_path} not found.\")\n",
    "            return\n",
    "        volumeObj[\"paired_img_path\"] = paired_img_path\n",
    "    print(\"Loading format image:\", img_path.name)\n",
    "    nv.load_volumes([volumeObj])\n",
    "    # Reset Modalities Dropdown\n",
    "    modalities_dropdown.unobserve(on_modality_change, names=\"value\")\n",
    "    modalities_dropdown.value = None\n",
    "    modalities_dropdown.observe(on_modality_change, names=\"value\")\n",
    "    # Update colormap\n",
    "    if nv.volumes:\n",
    "        colormap_dropdown.value = nv.volumes[0].colormap\n",
    "\n",
    "\n",
    "def on_modality_change(change):\n",
    "    \"\"\"Handle selection in Modalities Dropdown.\"\"\"\n",
    "    selected_img = change[\"new\"]\n",
    "    if not selected_img:\n",
    "        return\n",
    "    img_path = img_paths.get(selected_img)\n",
    "    if not img_path.exists():\n",
    "        print(f\"Image {img_path} not found.\")\n",
    "        return\n",
    "    volumeObj = {\n",
    "        \"path\": img_path,\n",
    "        \"colormap\": \"gray\",\n",
    "        \"opacity\": 1,\n",
    "        \"visible\": True,\n",
    "    }\n",
    "    print(\"Loading modality image:\", img_path.name)\n",
    "    nv.load_volumes([volumeObj])\n",
    "    # Reset Formats Dropdown\n",
    "    formats_dropdown.unobserve(on_format_change, names=\"value\")\n",
    "    formats_dropdown.value = None\n",
    "    formats_dropdown.observe(on_format_change, names=\"value\")\n",
    "    # Update colormap\n",
    "    if nv.volumes:\n",
    "        colormap_dropdown.value = nv.volumes[0].colormap\n",
    "\n",
    "\n",
    "def on_colormap_change(change):\n",
    "    \"\"\"Handle selection in Colormap Dropdown.\"\"\"\n",
    "    selected_cmap = change[\"new\"]\n",
    "    if nv.volumes:\n",
    "        nv.set_colormap(nv.volumes[0].id, selected_cmap)"
   ]
  },
  {
   "cell_type": "markdown",
   "id": "70b2b439-11c0-411b-9378-5df96be084ad",
   "metadata": {},
   "source": [
    "# Observe the dropdowns"
   ]
  },
  {
   "cell_type": "code",
   "execution_count": null,
   "id": "d9ee4730-6b3c-45a6-a664-a873e667fe67",
   "metadata": {},
   "outputs": [],
   "source": [
    "formats_dropdown.observe(on_format_change, names=\"value\")\n",
    "modalities_dropdown.observe(on_modality_change, names=\"value\")\n",
    "colormap_dropdown.observe(on_colormap_change, names=\"value\")"
   ]
  },
  {
   "cell_type": "markdown",
   "id": "416fe1dd-4179-4d58-afbd-2799ea4eba03",
   "metadata": {},
   "source": [
    "# Display all"
   ]
  },
  {
   "cell_type": "code",
   "execution_count": null,
   "id": "0b107556-61a3-4581-ac77-e2c21a26883b",
   "metadata": {},
   "outputs": [],
   "source": [
    "controls = widgets.VBox(\n",
    "    [\n",
    "        formats_dropdown,\n",
    "        modalities_dropdown,\n",
    "        colormap_dropdown,\n",
    "    ]\n",
    ")\n",
    "\n",
    "display(controls, nv)"
   ]
  }
 ],
 "metadata": {},
 "nbformat": 4,
 "nbformat_minor": 5
}
