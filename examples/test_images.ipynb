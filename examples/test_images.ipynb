{
 "cells": [
  {
   "cell_type": "code",
   "execution_count": null,
   "id": "4cf1c746-0bd0-45a3-953d-c0f3c9175579",
   "metadata": {},
   "outputs": [],
   "source": [
    "from pathlib import Path\n",
    "\n",
    "import ipywidgets\n",
    "\n",
    "import ipyniivue\n",
    "from ipyniivue import NiiVue, SliceType, download_dataset, WidgetObserver\n",
    "\n",
    "# GitHub API URL for the base folder\n",
    "BASE_API_URL = (\n",
    "    \"https://api.github.com/repos/niivue/niivue/contents/packages/niivue/demos/images\"\n",
    ")\n",
    "DATA_FOLDER = Path(ipyniivue.__file__).parent / \"images\""
   ]
  },
  {
   "cell_type": "code",
   "execution_count": null,
   "id": "d61f4f76-dd6c-407f-bf75-78ac049b76a4",
   "metadata": {},
   "outputs": [],
   "source": [
    "# Downloads all data for examples\n",
    "download_dataset(f\"{BASE_API_URL}\", DATA_FOLDER)"
   ]
  },
  {
   "cell_type": "code",
   "execution_count": null,
   "id": "922392c8-d60b-469a-bf60-a234746ccc6b",
   "metadata": {},
   "outputs": [],
   "source": [
    "volumes = [\n",
    "    {\n",
    "        \"path\": DATA_FOLDER / \"mni152.nii.gz\",\n",
    "        \"colormap\": \"gray\",\n",
    "        \"visible\": True,\n",
    "        \"opacity\": 1.0,\n",
    "    }\n",
    "]\n",
    "\n",
    "nv = NiiVue()\n",
    "nv.back_color = [0.7, 0.7, 0.9, 1]\n",
    "nv.slice_type = SliceType.RENDER\n",
    "nv.load_volumes(volumes)\n",
    "nv.is_colorbar = True"
   ]
  },
  {
   "cell_type": "code",
   "execution_count": null,
   "id": "7ca728ff-c264-4b88-a665-b17c6922a216",
   "metadata": {},
   "outputs": [],
   "source": [
    "widgetArray = []\n",
    "\n",
    "widget_images = {\n",
    "    \"widget\": ipywidgets.Select(\n",
    "        options=[\"chris_MRA\", \"chris_PD\", \"chris_t1\", \"chris_t2\",\n",
    "                 \"CT_Abdo\", \"CT_AVM\", \"CT_Electrodes\", \"CT_Philips\",\n",
    "                 \"CT_pitch\", \"frmi_pitch\", \"Iguana\", \"mni152\", \"MR_Gd\",\n",
    "                 \"pcasl\", \"spm152\", \"spmMotor\", \"visiblehuman\"],\n",
    "        value=\"mni152\",\n",
    "        description=\"Image:\",\n",
    "    ),\n",
    "    \"obj\": nv.volumes[0],\n",
    "    \"attribute\": \"path\",\n",
    "}\n",
    "widgetArray.append(widget_images)\n",
    "\n",
    "widget_colormaps = {\n",
    "    \"widget\": ipywidgets.Select(\n",
    "        options=[\"actc\", \"afni_blues_inv\", \"afni_reds_inv\", \"bcgwhw\", \"bcgwhw_dark\", \"blue\",\n",
    "                 \"blue2cyan\", \"blue2magenta\", \"blue2red\", \"bluegrn\", \"bone\", \"bronze\", \"cet_l17\",\n",
    "                 \"cividis\", \"cool\", \"copper\", \"copper2\", \"ct_airways\", \"ct_artery\", \"ct_bones\",\n",
    "                 \"ct_brain\", \"ct_brain_gray\", \"ct_cardiac\", \"ct_head\", \"ct_kidneys\", \"ct_liver\",\n",
    "                 \"ct_muscles\", \"ct_scalp\", \"ct_skull\", \"ct_soft\", \"ct_soft_tissue\", \"ct_surface\",\n",
    "                 \"ct_vessels\", \"ct_w_contrast\", \"cubehelix\", \"electric_blue\", \"freesurfer\",\n",
    "                 \"ge_color\", \"gold\", \"gray\", \"green\", \"green2cyan\", \"green2orange\", \"hot\",\n",
    "                 \"hotiron\", \"hsv\", \"inferno\", \"jet\", \"linspecer\", \"magma\", \"mako\", \"nih\",\n",
    "                 \"plasma\", \"random\", \"red\", \"redyell\", \"rocket\", \"roi_i256\", \"surface\", \"turbo\",\n",
    "                 \"violet\", \"viridis\", \"warm\", \"winter\", \"x_rain\"],\n",
    "        value=\"red\",\n",
    "        description=\"Colormap:\",\n",
    "    ),\n",
    "    \"obj\": nv.volumes[0],\n",
    "    \"attribute\": \"colormap\",\n",
    "}\n",
    "widgetArray.append(widget_colormaps)\n",
    "\n",
    "for widget in widgetArray:\n",
    "    WidgetObserver(**widget)"
   ]
  },
  {
   "cell_type": "code",
   "execution_count": null,
   "id": "4852bc84-ced5-4425-8be8-a6b3af20dd0f",
   "metadata": {},
   "outputs": [],
   "source": [
    "nv"
   ]
  },
  {
   "cell_type": "code",
   "execution_count": null,
   "id": "390b18cf-bb3b-4f55-a84c-80a30bda7e08",
   "metadata": {},
   "outputs": [],
   "source": [
    "for widget in widgetArray:\n",
    "    display(widget[\"widget\"])"
   ]
  },
  {
   "cell_type": "code",
   "execution_count": null,
   "id": "3a66c303-4f46-42f8-a5eb-c711b1bf9afb",
   "metadata": {},
   "outputs": [],
   "source": []
  }
 ],
 "metadata": {
  "kernelspec": {
   "display_name": "Python 3 (ipykernel)",
   "language": "python",
   "name": "python3"
  },
  "language_info": {
   "codemirror_mode": {
    "name": "ipython",
    "version": 3
   },
   "file_extension": ".py",
   "mimetype": "text/x-python",
   "name": "python",
   "nbconvert_exporter": "python",
   "pygments_lexer": "ipython3",
   "version": "3.11.6"
  }
 },
 "nbformat": 4,
 "nbformat_minor": 5
}
