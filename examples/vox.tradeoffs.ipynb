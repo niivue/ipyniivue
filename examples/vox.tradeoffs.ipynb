{
 "cells": [
  {
   "cell_type": "markdown",
   "id": "d8b6446a-cb97-4225-96e6-fcecde7ed445",
   "metadata": {},
   "source": [
    "#### This page shows features that may have poor volume-rendering performance on slow devices. \n",
    "#### Using anti-aliasing, high-DPI, and reflective volume rendering modes all impact performance.\n",
    "\n",
    "This example is based off of [https://niivue.com/demos/features/vox.tradeoffs.html](https://niivue.com/demos/features/vox.tradeoffs.html)."
   ]
  },
  {
   "cell_type": "markdown",
   "id": "af4ca7e7-6f63-471b-8888-9c2bad12743d",
   "metadata": {},
   "source": [
    "# Import modules"
   ]
  },
  {
   "cell_type": "code",
   "execution_count": null,
   "id": "00f675b3-a615-4371-b51b-37631e459d1e",
   "metadata": {},
   "outputs": [],
   "source": [
    "import json\n",
    "import pathlib\n",
    "\n",
    "import ipywidgets as widgets\n",
    "\n",
    "import ipyniivue\n",
    "from ipyniivue import NiiVue, download_dataset\n",
    "from ipyniivue.constants import ShowRender"
   ]
  },
  {
   "cell_type": "markdown",
   "id": "32e6896c-ef49-4278-a57b-6acc3efcdd5f",
   "metadata": {},
   "source": [
    "# Download required data"
   ]
  },
  {
   "cell_type": "code",
   "execution_count": null,
   "id": "5a23b195-0c2e-436c-a1c1-02059ce6c000",
   "metadata": {},
   "outputs": [],
   "source": [
    "DATA_FOLDER = pathlib.Path(ipyniivue.__file__).parent / \"images\"\n",
    "\n",
    "download_dataset(\n",
    "    \"https://niivue.com/demos/images/\",\n",
    "    files=[\"mni152.nii.gz\", \"aal.nii.gz\", \"stats.nv_demo_mskd.nii.gz\", \"aal.json\"],\n",
    ")"
   ]
  },
  {
   "cell_type": "markdown",
   "id": "3780b0b1-773d-4e89-bf98-7a0deaaf9520",
   "metadata": {},
   "source": [
    "# Create location status bar"
   ]
  },
  {
   "cell_type": "code",
   "execution_count": null,
   "id": "f93cde11-6b15-4ea1-8ccd-3941a3cf7ab3",
   "metadata": {},
   "outputs": [],
   "source": [
    "status_bar = widgets.Label(value=\"\")"
   ]
  },
  {
   "cell_type": "markdown",
   "id": "6d361ca2-b813-4d15-b065-af9f5849736e",
   "metadata": {},
   "source": [
    "# Create extra widgets"
   ]
  },
  {
   "cell_type": "code",
   "execution_count": null,
   "id": "99c3a526-980c-40ca-9625-9adceae6e078",
   "metadata": {},
   "outputs": [],
   "source": [
    "aa_check = widgets.Checkbox(value=True, description=\"Anti Alias\")\n",
    "dpi_check = widgets.Checkbox(value=True, description=\"High DPI\")\n",
    "render_mode = widgets.Dropdown(\n",
    "    options=[\n",
    "        (\"slices\", \"-1\"),\n",
    "        (\"matte\", \"0\"),\n",
    "        (\"low\", \"0.3\"),\n",
    "        (\"medium\", \"0.6\"),\n",
    "        (\"high\", \"1.0\"),\n",
    "    ],\n",
    "    value=\"0.6\",\n",
    "    description=\"Render Mode\",\n",
    ")\n",
    "atlas_slider = widgets.IntSlider(\n",
    "    value=64, min=0, max=255, description=\"Atlas\", orientation=\"horizontal\"\n",
    ")\n",
    "stat_slider = widgets.IntSlider(\n",
    "    value=255, min=0, max=255, description=\"Statistics\", orientation=\"horizontal\"\n",
    ")"
   ]
  },
  {
   "cell_type": "markdown",
   "id": "a2b48a76-cc1d-4765-aa0f-1c9613ae245d",
   "metadata": {},
   "source": [
    "# Create niivue instance"
   ]
  },
  {
   "cell_type": "code",
   "execution_count": null,
   "id": "93dfea7b-97ab-4613-bc18-0eb4f52b4a8e",
   "metadata": {},
   "outputs": [],
   "source": [
    "with open(DATA_FOLDER / \"aal.json\") as f:\n",
    "    cmap = json.load(f)\n",
    "\n",
    "nv = None  # Global variable to hold the NiiVue instance\n",
    "\n",
    "\n",
    "def create_nv(anti_alias):\n",
    "    \"\"\"Create new NiiVue instance.\"\"\"\n",
    "    global nv\n",
    "\n",
    "    if nv:\n",
    "        # Don't forget to dispose of the previous nv if it exists\n",
    "        nv.close()\n",
    "\n",
    "    nv = NiiVue(\n",
    "        back_color=(1, 1, 1, 1),\n",
    "        show_3d_crosshair=True,\n",
    "        is_anti_alias=anti_alias,\n",
    "    )\n",
    "\n",
    "    @nv.on_location_change\n",
    "    def handle_location_change(location):\n",
    "        \"\"\"Display location.\"\"\"\n",
    "        status_bar.value = location[\"string\"]\n",
    "\n",
    "    nv.opts.multiplanar_show_render = ShowRender.ALWAYS\n",
    "    nv.opts.is_colorbar = True\n",
    "\n",
    "    volume_list = [\n",
    "        {\"path\": DATA_FOLDER / \"mni152.nii.gz\"},\n",
    "        {\"path\": DATA_FOLDER / \"aal.nii.gz\"},\n",
    "        {\n",
    "            \"path\": DATA_FOLDER / \"stats.nv_demo_mskd.nii.gz\",\n",
    "            \"colormap\": \"warm\",\n",
    "            \"colormap_negative\": \"winter\",\n",
    "            \"frame4D\": 1,\n",
    "            \"cal_min\": 3.3641,\n",
    "            \"cal_max\": 6,\n",
    "        },\n",
    "    ]\n",
    "    nv.load_volumes(volume_list)\n",
    "\n",
    "    # Hide colorbars for volumes 0 and 1\n",
    "    nv.volumes[0].colorbar_visible = False\n",
    "    nv.volumes[1].colorbar_visible = False\n",
    "    nv.volumes[1].set_colormap_label(cmap)\n",
    "\n",
    "    return nv\n",
    "\n",
    "\n",
    "# Create initial nv\n",
    "nv = create_nv(aa_check.value)"
   ]
  },
  {
   "cell_type": "markdown",
   "id": "bbf36e9c-97fc-4802-aad9-79411af88cad",
   "metadata": {},
   "source": [
    "# Define event handlers"
   ]
  },
  {
   "cell_type": "code",
   "execution_count": null,
   "id": "947af739-c5d3-42ba-a42b-0cae9b70319b",
   "metadata": {},
   "outputs": [],
   "source": [
    "def on_dpi_check_change(change):\n",
    "    \"\"\"Set high resolution capable.\"\"\"\n",
    "    nv.set_high_resolution_capable(change[\"new\"])\n",
    "\n",
    "\n",
    "def on_render_mode_change(change):\n",
    "    \"\"\"Set volume render illumination.\"\"\"\n",
    "    nv.set_volume_render_illumination(float(change[\"new\"]))\n",
    "\n",
    "\n",
    "def on_atlas_slider_change(change):\n",
    "    \"\"\"Set 2nd volume opacity.\"\"\"\n",
    "    nv.volumes[1].opacity = change[\"new\"] / 255.0\n",
    "\n",
    "\n",
    "def on_stat_slider_change(change):\n",
    "    \"\"\"Set 3rd volume opacity.\"\"\"\n",
    "    nv.volumes[2].opacity = change[\"new\"] / 255.0\n",
    "\n",
    "\n",
    "def on_aa_check_change(change):\n",
    "    \"\"\"Recreate nv with new anti_alias setting and re-apply settings.\"\"\"\n",
    "    anti_alias = change[\"new\"]\n",
    "    # Create new nv\n",
    "    new_nv = create_nv(anti_alias)\n",
    "\n",
    "    # Update the UI container\n",
    "    ui_container.children = (\n",
    "        widgets.HBox([aa_check, dpi_check, render_mode]),\n",
    "        widgets.HBox([atlas_slider, stat_slider]),\n",
    "        new_nv,\n",
    "        status_bar,\n",
    "    )\n",
    "\n",
    "    # Re-apply settings, except for antialias, because doing\n",
    "    # so would result in an endless loop here\n",
    "    on_dpi_check_change({\"new\": dpi_check.value})\n",
    "    on_render_mode_change({\"new\": render_mode.value})\n",
    "    on_atlas_slider_change({\"new\": atlas_slider.value})\n",
    "    on_stat_slider_change({\"new\": stat_slider.value})"
   ]
  },
  {
   "cell_type": "markdown",
   "id": "7399e677-165d-44a3-9eaa-a4b4e7a81f4f",
   "metadata": {},
   "source": [
    "# Set up observers"
   ]
  },
  {
   "cell_type": "code",
   "execution_count": null,
   "id": "29c7bcae-1b52-4bad-882b-80d635e67216",
   "metadata": {},
   "outputs": [],
   "source": [
    "dpi_check.observe(on_dpi_check_change, names=\"value\")\n",
    "render_mode.observe(on_render_mode_change, names=\"value\")\n",
    "atlas_slider.observe(on_atlas_slider_change, names=\"value\")\n",
    "stat_slider.observe(on_stat_slider_change, names=\"value\")\n",
    "aa_check.observe(on_aa_check_change, names=\"value\")"
   ]
  },
  {
   "cell_type": "markdown",
   "id": "8e6d1387-8700-4e4c-ac01-9236fb1fe540",
   "metadata": {},
   "source": [
    "# Apply initial settings"
   ]
  },
  {
   "cell_type": "code",
   "execution_count": null,
   "id": "d66341b1-15e9-4431-8a79-ff7d405fb3ed",
   "metadata": {},
   "outputs": [],
   "source": [
    "# Except for antialias, because doing so would result in an endless loop here\n",
    "on_dpi_check_change({\"new\": dpi_check.value})\n",
    "on_render_mode_change({\"new\": render_mode.value})\n",
    "on_atlas_slider_change({\"new\": atlas_slider.value})\n",
    "on_stat_slider_change({\"new\": stat_slider.value})"
   ]
  },
  {
   "cell_type": "markdown",
   "id": "32d1eb09-95a3-41e7-9b45-ef101aa6a266",
   "metadata": {},
   "source": [
    "# Display all"
   ]
  },
  {
   "cell_type": "code",
   "execution_count": null,
   "id": "94c72c21-0349-42d0-bcc6-b1c0d39b21b5",
   "metadata": {},
   "outputs": [],
   "source": [
    "ui_container = widgets.VBox(\n",
    "    [\n",
    "        widgets.HBox([aa_check, dpi_check, render_mode]),\n",
    "        widgets.HBox([atlas_slider, stat_slider]),\n",
    "        nv,\n",
    "        status_bar,\n",
    "    ]\n",
    ")\n",
    "\n",
    "display(ui_container)"
   ]
  }
 ],
 "metadata": {},
 "nbformat": 4,
 "nbformat_minor": 5
}
