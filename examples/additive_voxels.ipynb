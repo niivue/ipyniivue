{
 "cells": [
  {
   "cell_type": "code",
   "execution_count": null,
   "metadata": {},
   "outputs": [],
   "source": [
    "from pathlib import Path\n",
    "\n",
    "import ipyniivue\n",
    "from ipyniivue import NiiVue, download_dataset\n",
    "\n",
    "# GitHub API URL for the base folder\n",
    "BASE_API_URL = (\n",
    "    \"https://api.github.com/repos/niivue/niivue/contents/packages/niivue/demos/images\"\n",
    ")\n",
    "DATA_FOLDER = Path(ipyniivue.__file__).parent / \"images\""
   ]
  },
  {
   "cell_type": "code",
   "execution_count": null,
   "metadata": {},
   "outputs": [],
   "source": [
    "# Download data for example\n",
    "download_dataset(\n",
    "    f\"{BASE_API_URL}\",\n",
    "    DATA_FOLDER,\n",
    "    files=[\n",
    "        \"mni152.nii.gz\",\n",
    "        \"narps-4965_9U7M-hypo1_unthresh.nii.gz\",\n",
    "        \"narps-4735_50GV-hypo1_unthresh.nii.gz\",\n",
    "    ],\n",
    ")"
   ]
  },
  {
   "cell_type": "code",
   "execution_count": null,
   "metadata": {},
   "outputs": [],
   "source": [
    "# based on https://niivue.github.io/niivue/features/additive.voxels.html\n",
    "\n",
    "volumes = [\n",
    "    {\"path\": DATA_FOLDER / \"mni152.nii.gz\"},\n",
    "    {\n",
    "        \"path\": DATA_FOLDER / \"narps-4965_9U7M-hypo1_unthresh.nii.gz\",\n",
    "        \"colormap\": \"red\",\n",
    "        \"cal_min\": 2,\n",
    "        \"cal_max\": 4,\n",
    "    },\n",
    "    {\n",
    "        \"path\": DATA_FOLDER / \"narps-4735_50GV-hypo1_unthresh.nii.gz\",\n",
    "        \"colormap\": \"green\",\n",
    "        \"cal_min\": 2,\n",
    "        \"cal_max\": 4,\n",
    "    },\n",
    "]\n",
    "nv = NiiVue(\n",
    "    back_color=(1, 1, 1, 1),\n",
    "    show_3D_crosshair=True,\n",
    "    is_colorbar=True,\n",
    ")\n",
    "nv.load_volumes(volumes)\n",
    "nv"
   ]
  },
  {
   "cell_type": "code",
   "execution_count": null,
   "metadata": {},
   "outputs": [],
   "source": [
    "import ipywidgets\n",
    "\n",
    "nv.volumes[0].colorbar_visible = False\n",
    "sred = ipywidgets.FloatSlider(min=0.1, max=0.4, step=0.01, value=0.2)\n",
    "ipywidgets.link((sred, \"value\"), (nv.volumes[1], \"cal_min\"))\n",
    "sgreen = ipywidgets.FloatSlider(min=0.1, max=0.4, step=0.01, value=0.2)\n",
    "ipywidgets.link((sgreen, \"value\"), (nv.volumes[2], \"cal_min\"))\n",
    "ipywidgets.HBox([sred, sgreen])"
   ]
  }
 ],
 "metadata": {},
 "nbformat": 4,
 "nbformat_minor": 4
}
