{
 "cells": [
  {
   "cell_type": "markdown",
   "id": "8ac54f8d-2d2c-4e57-a8a1-a1a1463b6451",
   "metadata": {},
   "source": [
    "# Import necessary modules"
   ]
  },
  {
   "cell_type": "code",
   "execution_count": null,
   "id": "e57b7f74-2402-4580-a3c9-bd1dbb3b8cdc",
   "metadata": {},
   "outputs": [],
   "source": [
    "import asyncio\n",
    "import pathlib\n",
    "\n",
    "import ipywidgets as widgets\n",
    "from IPython.display import display\n",
    "\n",
    "import ipyniivue\n",
    "from ipyniivue import NiiVue, ShowRender, SliceType, download_dataset"
   ]
  },
  {
   "cell_type": "markdown",
   "id": "b000ac63-b5b8-4258-b1be-e83868675c25",
   "metadata": {},
   "source": [
    "# Download required data"
   ]
  },
  {
   "cell_type": "code",
   "execution_count": null,
   "id": "8f176e83",
   "metadata": {},
   "outputs": [],
   "source": [
    "DATA_FOLDER = pathlib.Path(ipyniivue.__file__).parent / \"images\"\n",
    "\n",
    "download_dataset(\n",
    "    api_url=\"https://niivue.com/demos/images/\",\n",
    "    dest_folder=DATA_FOLDER,\n",
    "    files=[\n",
    "        \"example4d+orig.HEAD\",\n",
    "        \"example4d+orig.BRIK.gz\",\n",
    "    ],\n",
    ")"
   ]
  },
  {
   "cell_type": "markdown",
   "id": "a3678fb5-65b1-4528-9a74-d7f27c62c8df",
   "metadata": {},
   "source": [
    "# Create the NiiVue widget"
   ]
  },
  {
   "cell_type": "code",
   "execution_count": null,
   "id": "a873dc99-8c09-4518-a053-c6a4720aff8d",
   "metadata": {},
   "outputs": [],
   "source": [
    "nv = NiiVue()\n",
    "\n",
    "nv.set_radiological_convention(False)\n",
    "nv.set_slice_type(SliceType.MULTIPLANAR)\n",
    "nv.opts.multiplanar_show_render = ShowRender.ALWAYS\n",
    "\n",
    "# Configure graph values\n",
    "nv.graph.auto_size_multiplanar = True\n",
    "nv.graph.normalize_values = False\n",
    "nv.graph.opacity = 1.0\n",
    "\n",
    "# Load 4D volume with paired HEAD and BRIK files\n",
    "nv.load_volumes(\n",
    "    [\n",
    "        {\n",
    "            \"path\": DATA_FOLDER / \"example4d+orig.HEAD\",\n",
    "            \"paired_img_path\": DATA_FOLDER / \"example4d+orig.BRIK.gz\",\n",
    "            \"colormap\": \"gray\",\n",
    "            \"opacity\": 1.0,\n",
    "            \"visible\": True,\n",
    "        },\n",
    "    ]\n",
    ")"
   ]
  },
  {
   "cell_type": "markdown",
   "id": "dd0e9aee-0bdb-4eba-829c-e6e5acd68835",
   "metadata": {},
   "source": [
    "# Create other buttons/checkboxes"
   ]
  },
  {
   "cell_type": "code",
   "execution_count": null,
   "id": "3fd88e96-ca86-4b36-92eb-1e1f2d80f8ed",
   "metadata": {},
   "outputs": [],
   "source": [
    "display_frame = widgets.Label(value=\"Volume: 0\")\n",
    "\n",
    "normalize_checkbox = widgets.Checkbox(\n",
    "    value=False,\n",
    "    description=\"Normalize Graph\",\n",
    ")\n",
    "\n",
    "prev_button = widgets.Button(description=\"Back\")\n",
    "next_button = widgets.Button(description=\"Forward\")"
   ]
  },
  {
   "cell_type": "markdown",
   "id": "111a97d2-714e-47ae-81b8-80c44f6726a9",
   "metadata": {},
   "source": [
    "# Implement the callbacks"
   ]
  },
  {
   "cell_type": "code",
   "execution_count": null,
   "id": "167128f8-a16a-43bd-803f-da10f08c0d4d",
   "metadata": {},
   "outputs": [],
   "source": [
    "def on_normalize_change(change):\n",
    "    \"\"\"Normalize graph.\"\"\"\n",
    "    nv.graph.normalize_values = change[\"new\"]\n",
    "\n",
    "\n",
    "normalize_checkbox.observe(on_normalize_change, names=\"value\")\n",
    "\n",
    "\n",
    "def on_prev_button_clicked(b):\n",
    "    \"\"\"Decrement the frame index.\"\"\"\n",
    "    if nv.volumes:\n",
    "        current_frame = nv.volumes[0].frame_4d\n",
    "        new_frame = max(current_frame - 1, 0)\n",
    "        nv.volumes[0].frame_4d = new_frame\n",
    "        display_frame.value = f\"Volume: {new_frame}\"\n",
    "\n",
    "\n",
    "def on_next_button_clicked(b):\n",
    "    \"\"\"Increment the frame index.\"\"\"\n",
    "    if nv.volumes:\n",
    "        current_frame = nv.volumes[0].frame_4d\n",
    "        n_frames = nv.volumes[0].n_frame_4d\n",
    "        new_frame = min(current_frame + 1, n_frames - 1)\n",
    "        nv.volumes[0].frame_4d = new_frame\n",
    "        display_frame.value = f\"Volume: {new_frame}\"\n",
    "\n",
    "\n",
    "prev_button.on_click(on_prev_button_clicked)\n",
    "next_button.on_click(on_next_button_clicked)"
   ]
  },
  {
   "cell_type": "markdown",
   "id": "b310d908-6f11-4d66-83fa-117af002799e",
   "metadata": {},
   "source": [
    "# Create animate button"
   ]
  },
  {
   "cell_type": "code",
   "execution_count": null,
   "id": "24726cb0-0d09-4e98-a16c-630d3b746cd3",
   "metadata": {},
   "outputs": [],
   "source": [
    "animate_button = widgets.Button(description=\"Animate\")\n",
    "\n",
    "animation_running = False\n",
    "animation_task = None\n",
    "\n",
    "\n",
    "async def animate_frames():\n",
    "    \"\"\"Animation loop.\"\"\"\n",
    "    global animation_running\n",
    "    if not nv.volumes:\n",
    "        return\n",
    "    n_frames = nv.volumes[0].n_frame_4d\n",
    "    try:\n",
    "        while animation_running:\n",
    "            current_frame = nv.volumes[0].frame_4d\n",
    "            current_frame = (current_frame + 1) % n_frames\n",
    "            nv.volumes[0].frame_4d = current_frame\n",
    "            display_frame.value = f\"Volume: {current_frame}\"\n",
    "            await asyncio.sleep(0.1)\n",
    "    except asyncio.CancelledError:\n",
    "        pass\n",
    "\n",
    "\n",
    "def on_animate_button_clicked(b):\n",
    "    \"\"\"Define 'Animate' button click handler.\"\"\"\n",
    "    global animation_running, animation_task\n",
    "    if not animation_running:\n",
    "        # Start animation\n",
    "        animation_running = True\n",
    "        animate_button.description = \"Stop\"\n",
    "        # Schedule the animation coroutine and store the future\n",
    "        animation_task = asyncio.ensure_future(animate_frames())\n",
    "    else:\n",
    "        # Stop animation\n",
    "        animation_running = False\n",
    "        animate_button.description = \"Animate\"\n",
    "        # Cancel the running task if it's active\n",
    "        if animation_task is not None:\n",
    "            animation_task.cancel()\n",
    "            animation_task = None\n",
    "\n",
    "\n",
    "animate_button.on_click(on_animate_button_clicked)"
   ]
  },
  {
   "cell_type": "markdown",
   "id": "5f6f5a15-6b36-4312-b735-10e185900c19",
   "metadata": {},
   "source": [
    "# Reset frame index on image loaded"
   ]
  },
  {
   "cell_type": "code",
   "execution_count": null,
   "id": "71ba69a0-6fe0-48a7-a03b-29822e24d676",
   "metadata": {},
   "outputs": [],
   "source": [
    "@nv.on_image_loaded\n",
    "def update_number_of_frames(volume):\n",
    "    \"\"\"Reset to first frame.\"\"\"\n",
    "    nv.volumes[0].frame_4d = 0\n",
    "    display_frame.value = \"Volume: 0\""
   ]
  },
  {
   "cell_type": "markdown",
   "id": "906aee0a-cb57-46b6-9808-a8ac5443a408",
   "metadata": {},
   "source": [
    "# Display all"
   ]
  },
  {
   "cell_type": "code",
   "execution_count": null,
   "id": "44999f74-851a-40c7-aee1-84a65aeb69b0",
   "metadata": {},
   "outputs": [],
   "source": [
    "controls = widgets.HBox(\n",
    "    [\n",
    "        normalize_checkbox,\n",
    "        prev_button,\n",
    "        next_button,\n",
    "        animate_button,\n",
    "    ]\n",
    ")\n",
    "\n",
    "display(widgets.VBox([controls, display_frame, nv]))"
   ]
  }
 ],
 "metadata": {},
 "nbformat": 4,
 "nbformat_minor": 5
}
