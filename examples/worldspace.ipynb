{
 "cells": [
  {
   "cell_type": "markdown",
   "id": "3e92e45e-bd2f-47ac-8470-c4ce892f58a1",
   "metadata": {},
   "source": [
    "# World Space Viewer\n",
    "This example demonstrates world space navigation with various orientation options\n",
    "\n",
    "See https://niivue.com/demos/features/worldspace.html for mirror."
   ]
  },
  {
   "cell_type": "code",
   "execution_count": null,
   "id": "37ba744a-9570-4a52-b8f0-8add586fd9e8",
   "metadata": {},
   "outputs": [],
   "source": [
    "import ipywidgets as widgets\n",
    "from IPython.display import display\n",
    "\n",
    "from ipyniivue import DragMode, NiiVue"
   ]
  },
  {
   "cell_type": "markdown",
   "id": "5f665aa5-188f-4ddc-b34b-654b7de94c34",
   "metadata": {},
   "source": [
    "## Create NiiVue Instance"
   ]
  },
  {
   "cell_type": "code",
   "execution_count": null,
   "id": "7f25381f-9a83-4a02-9eec-b4ac90985c53",
   "metadata": {},
   "outputs": [],
   "source": [
    "nv = NiiVue(\n",
    "    drag_and_drop_enabled=True,\n",
    "    back_color=(1, 1, 1, 1),\n",
    "    show_3d_crosshair=True,\n",
    ")\n",
    "\n",
    "nv.set_slice_mm(True)\n",
    "nv.set_radiological_convention(False)\n",
    "nv.set_slice_type(nv.opts.slice_type.MULTIPLANAR)\n",
    "\n",
    "nv.load_volumes(\n",
    "    [\n",
    "        {\n",
    "            \"url\": \"https://niivue.com/demos/images/FLAIR.nii.gz\",\n",
    "            \"colormap\": \"gray\",\n",
    "            \"opacity\": 1.0,\n",
    "            \"visible\": True,\n",
    "        }\n",
    "    ]\n",
    ")"
   ]
  },
  {
   "cell_type": "markdown",
   "id": "5d97d24f-fb7c-43c0-9db7-8cdd0061b2ff",
   "metadata": {},
   "source": [
    "## Create Interactive Controls"
   ]
  },
  {
   "cell_type": "code",
   "execution_count": null,
   "id": "f213e39a-3042-430a-a8eb-69731c531d90",
   "metadata": {},
   "outputs": [],
   "source": [
    "# LR checkbox (Radiological convention)\n",
    "lr_checkbox = widgets.Checkbox(\n",
    "    value=False,\n",
    "    description=\"LR\",\n",
    "    tooltip=\"Toggle between radiological and neurological convention\",\n",
    ")\n",
    "\n",
    "# nose checkbox (Sagittal nose direction)\n",
    "nose_checkbox = widgets.Checkbox(\n",
    "    value=False, description=\"Nose\", tooltip=\"Toggle sagittal nose direction\"\n",
    ")\n",
    "\n",
    "# world checkbox (World space vs voxel space)\n",
    "world_checkbox = widgets.Checkbox(\n",
    "    value=True,\n",
    "    description=\"World\",\n",
    "    tooltip=\"Toggle between world space (mm) and voxel space\",\n",
    ")\n",
    "\n",
    "# drag mode dropdown\n",
    "drag_dropdown = widgets.Dropdown(\n",
    "    options=[\n",
    "        (\"contrast\", DragMode.CONTRAST),\n",
    "        (\"measurement\", DragMode.MEASUREMENT),\n",
    "        (\"pan/zoom\", DragMode.PAN),\n",
    "        (\"none\", DragMode.NONE),\n",
    "    ],\n",
    "    value=DragMode.CONTRAST,\n",
    "    description=\"Drag mode:\",\n",
    ")"
   ]
  },
  {
   "cell_type": "markdown",
   "id": "433395cc-6a36-4309-bd9a-3412efb8ab15",
   "metadata": {},
   "source": [
    "## Setup Event Handlers"
   ]
  },
  {
   "cell_type": "code",
   "execution_count": null,
   "id": "03ec3bf3-3c47-48b1-9f73-87b87900e596",
   "metadata": {},
   "outputs": [],
   "source": [
    "def on_lr_change(change):\n",
    "    \"\"\"Handle radiological convention checkbox changes.\"\"\"\n",
    "    nv.set_radiological_convention(change[\"new\"])\n",
    "\n",
    "\n",
    "def on_nose_change(change):\n",
    "    \"\"\"Handle nose direction checkbox changes.\"\"\"\n",
    "    nv.opts.sagittal_nose_left = change[\"new\"]\n",
    "\n",
    "\n",
    "def on_world_change(change):\n",
    "    \"\"\"Handle world space checkbox changes.\"\"\"\n",
    "    nv.set_slice_mm(change[\"new\"])\n",
    "\n",
    "\n",
    "def on_drag_mode_change(change):\n",
    "    \"\"\"Handle drag mode dropdown changes.\"\"\"\n",
    "    nv.opts.drag_mode = change[\"new\"]\n",
    "\n",
    "\n",
    "lr_checkbox.observe(on_lr_change, names=\"value\")\n",
    "nose_checkbox.observe(on_nose_change, names=\"value\")\n",
    "world_checkbox.observe(on_world_change, names=\"value\")\n",
    "drag_dropdown.observe(on_drag_mode_change, names=\"value\")"
   ]
  },
  {
   "cell_type": "markdown",
   "id": "c285bb25-7ce4-48d0-a42f-1829647e280d",
   "metadata": {},
   "source": [
    "## Display All"
   ]
  },
  {
   "cell_type": "code",
   "execution_count": null,
   "id": "2247f2d2-4935-4a1a-8cfe-8e501c1dc470",
   "metadata": {},
   "outputs": [],
   "source": [
    "controls = widgets.HBox([lr_checkbox, nose_checkbox, world_checkbox, drag_dropdown])\n",
    "\n",
    "display(widgets.VBox([controls, nv]))"
   ]
  }
 ],
 "metadata": {},
 "nbformat": 4,
 "nbformat_minor": 5
}
