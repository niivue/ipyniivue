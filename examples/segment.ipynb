{
 "cells": [
  {
   "cell_type": "markdown",
   "id": "0c478d8f-80c7-477d-bc80-c57196bb6469",
   "metadata": {},
   "source": [
    "# Import Necessary Modules"
   ]
  },
  {
   "cell_type": "code",
   "execution_count": null,
   "id": "548a4032-863a-4e4b-82db-098fd4ffda94",
   "metadata": {},
   "outputs": [],
   "source": [
    "import json\n",
    "import pathlib\n",
    "\n",
    "import ipywidgets as widgets\n",
    "\n",
    "import ipyniivue\n",
    "from ipyniivue import NiiVue, ShowRender, SliceType, download_dataset"
   ]
  },
  {
   "cell_type": "markdown",
   "id": "3e06336d-1b09-4318-8d65-7524e1c08ccd",
   "metadata": {},
   "source": [
    "# Download Required Data"
   ]
  },
  {
   "cell_type": "code",
   "execution_count": null,
   "id": "ec54c0c9-677d-49a0-af2f-9133477b2771",
   "metadata": {},
   "outputs": [],
   "source": [
    "DATA_FOLDER = pathlib.Path(ipyniivue.__file__).parent / \"images\"\n",
    "\n",
    "download_dataset(\n",
    "    \"https://niivue.com/demos/images/\",\n",
    "    dest_folder=DATA_FOLDER,\n",
    "    files=[\n",
    "        \"mni152.nii.gz\",\n",
    "        \"mni152_pveseg.nii.gz\",\n",
    "    ],\n",
    ")"
   ]
  },
  {
   "cell_type": "markdown",
   "id": "e1c9bf8a-e57b-4b09-b000-ef63ae59fb24",
   "metadata": {},
   "source": [
    "# Setup NiiVue instance"
   ]
  },
  {
   "cell_type": "code",
   "execution_count": null,
   "id": "ad3925f0-ff97-415a-bff5-919b93464c13",
   "metadata": {},
   "outputs": [],
   "source": [
    "nv = NiiVue(\n",
    "    back_color=(0.3, 0.3, 0.3, 1),\n",
    "    show_3d_crosshair=True,\n",
    ")\n",
    "nv.set_radiological_convention(False)\n",
    "\n",
    "nv.load_volumes(\n",
    "    [\n",
    "        {\"path\": DATA_FOLDER / \"mni152.nii.gz\"},\n",
    "        {\"path\": DATA_FOLDER / \"mni152_pveseg.nii.gz\", \"opacity\": 0.5},\n",
    "    ]\n",
    ")\n",
    "\n",
    "nv.opts.multiplanar_show_render = ShowRender.ALWAYS\n",
    "nv.set_slice_type(SliceType.MULTIPLANAR)\n",
    "nv.graph.auto_size_multiplanar = True"
   ]
  },
  {
   "cell_type": "markdown",
   "id": "3d276b99-ef28-4892-8fa9-ee0e07333cbf",
   "metadata": {},
   "source": [
    "# Add widgets"
   ]
  },
  {
   "cell_type": "code",
   "execution_count": null,
   "id": "59a5aa81-7297-465d-9fb1-b39596d14245",
   "metadata": {},
   "outputs": [],
   "source": [
    "background_checkbox = widgets.Checkbox(\n",
    "    value=True,\n",
    "    description=\"Background\",\n",
    ")\n",
    "\n",
    "mask_checkbox = widgets.Checkbox(\n",
    "    value=False,\n",
    "    description=\"Mask\",\n",
    ")\n",
    "\n",
    "smooth_checkbox = widgets.Checkbox(\n",
    "    value=True,\n",
    "    description=\"Smooth\",\n",
    ")\n",
    "\n",
    "opacity_slider = widgets.IntSlider(\n",
    "    value=127,\n",
    "    min=1,\n",
    "    max=255,\n",
    "    description=\"Opacity\",\n",
    ")"
   ]
  },
  {
   "cell_type": "markdown",
   "id": "75802028-0a3c-4fb5-aaaf-4329a7c72b89",
   "metadata": {},
   "source": [
    "# Define Event Handlers"
   ]
  },
  {
   "cell_type": "code",
   "execution_count": null,
   "id": "e57d8338-b6c4-4afc-a2dc-b771d503a1ac",
   "metadata": {},
   "outputs": [],
   "source": [
    "def on_opacity_change(change):\n",
    "    \"\"\"Adjust the opacity of the second volume.\"\"\"\n",
    "    nv.set_opacity(1, change[\"new\"] / 255)\n",
    "\n",
    "\n",
    "def on_background_checkbox_change(change):\n",
    "    \"\"\"Show or hide the background volume.\"\"\"\n",
    "    nv.volumes[0].opacity = 1.0 if change[\"new\"] else 0.0\n",
    "\n",
    "\n",
    "def on_mask_checkbox_change(change):\n",
    "    \"\"\"Set is_alpha_clip_dark.\"\"\"\n",
    "    nv.opts.is_alpha_clip_dark = change[\"new\"]\n",
    "\n",
    "\n",
    "def on_smooth_checkbox_change(change):\n",
    "    \"\"\"Set interpolation.\"\"\"\n",
    "    nv.set_interpolation(not change[\"new\"])\n",
    "\n",
    "\n",
    "opacity_slider.observe(on_opacity_change, names=\"value\")\n",
    "background_checkbox.observe(on_background_checkbox_change, names=\"value\")\n",
    "mask_checkbox.observe(on_mask_checkbox_change, names=\"value\")\n",
    "smooth_checkbox.observe(on_smooth_checkbox_change, names=\"value\")"
   ]
  },
  {
   "cell_type": "markdown",
   "id": "c542be5f-7e79-45c5-8dd4-04aed3e41905",
   "metadata": {},
   "source": [
    "# Set Initial Values"
   ]
  },
  {
   "cell_type": "code",
   "execution_count": null,
   "id": "4755b591-db0f-426a-b613-9a04558e8a08",
   "metadata": {},
   "outputs": [],
   "source": [
    "on_opacity_change({\"new\": opacity_slider.value})\n",
    "on_background_checkbox_change({\"new\": background_checkbox.value})\n",
    "on_mask_checkbox_change({\"new\": mask_checkbox.value})\n",
    "on_smooth_checkbox_change({\"new\": smooth_checkbox.value})"
   ]
  },
  {
   "cell_type": "markdown",
   "id": "7e882d8f-57e0-489f-8bf3-51749a9eb6f8",
   "metadata": {},
   "source": [
    "# Handle location changes"
   ]
  },
  {
   "cell_type": "code",
   "execution_count": null,
   "id": "3580f73c-92e7-4ea7-a654-95e5aa4270d7",
   "metadata": {},
   "outputs": [],
   "source": [
    "location_label = widgets.HTML(\"&nbsp;\")\n",
    "\n",
    "\n",
    "def handle_location_change(data):\n",
    "    \"\"\"Update the location label when the crosshair moves.\"\"\"\n",
    "    location_label.value = \"&nbsp;&nbsp;\" + data[\"string\"]\n",
    "\n",
    "\n",
    "nv.on_location_change(handle_location_change)"
   ]
  },
  {
   "cell_type": "markdown",
   "id": "5fd0e5bc-55d1-4247-913d-c6546396b6a8",
   "metadata": {},
   "source": [
    "# Handle Custom Colormap Input"
   ]
  },
  {
   "cell_type": "code",
   "execution_count": null,
   "id": "1a3d4517-a7be-43ef-9026-2166fbe0c853",
   "metadata": {},
   "outputs": [],
   "source": [
    "colormap_textarea = widgets.Textarea(\n",
    "    value=\"\"\"{\n",
    "    \"R\": [0,   0, 120, 175],\n",
    "    \"G\": [0,  90,  60, 185],\n",
    "    \"B\": [0, 120,  60, 175],\n",
    "    \"labels\": [\"air\", \"CSF\", \"gray\", \"white\"]\n",
    "}\"\"\",\n",
    "    description=\"Custom Colormap (JSON)\",\n",
    "    layout=widgets.Layout(width=\"100%\", height=\"150px\"),\n",
    ")\n",
    "\n",
    "apply_button = widgets.Button(\n",
    "    description=\"Apply Colormap\",\n",
    ")\n",
    "\n",
    "\n",
    "def on_apply_button_click(b):\n",
    "    \"\"\"Apply custom colormap json.\"\"\"\n",
    "    json_str = colormap_textarea.value\n",
    "    try:\n",
    "        cmap = json.loads(json_str)\n",
    "        nv.volumes[1].set_colormap_label(cmap)\n",
    "    except json.JSONDecodeError as e:\n",
    "        print(\"Invalid JSON format:\", e)\n",
    "\n",
    "\n",
    "apply_button.on_click(on_apply_button_click)\n",
    "\n",
    "on_apply_button_click(None)"
   ]
  },
  {
   "cell_type": "markdown",
   "id": "5f66cfe6-aa40-499a-9f68-fd06a2375b1c",
   "metadata": {},
   "source": [
    "# Display all"
   ]
  },
  {
   "cell_type": "code",
   "execution_count": null,
   "id": "cb4ec15a-733b-4af5-a00b-242e2184711f",
   "metadata": {},
   "outputs": [],
   "source": [
    "controls = widgets.HBox(\n",
    "    [\n",
    "        background_checkbox,\n",
    "        mask_checkbox,\n",
    "        smooth_checkbox,\n",
    "        opacity_slider,\n",
    "    ]\n",
    ")\n",
    "\n",
    "script_controls = widgets.VBox(\n",
    "    [\n",
    "        colormap_textarea,\n",
    "        apply_button,\n",
    "    ]\n",
    ")\n",
    "\n",
    "display_widgets = widgets.VBox(\n",
    "    [\n",
    "        controls,\n",
    "        nv,\n",
    "        location_label,\n",
    "        script_controls,\n",
    "    ]\n",
    ")\n",
    "\n",
    "display(display_widgets)"
   ]
  }
 ],
 "metadata": {},
 "nbformat": 4,
 "nbformat_minor": 5
}
