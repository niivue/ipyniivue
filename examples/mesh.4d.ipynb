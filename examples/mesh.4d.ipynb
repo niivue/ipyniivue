{
 "cells": [
  {
   "cell_type": "code",
   "execution_count": null,
   "id": "479d3a4f-9821-494c-8784-d1cbf85e91cf",
   "metadata": {},
   "outputs": [],
   "source": [
    "from pathlib import Path\n",
    "\n",
    "import ipyniivue\n",
    "\n",
    "# GitHub API URL for the base folder\n",
    "BASE_API_URL = \"https://niivue.com/demos/images/\"\n",
    "DATA_FOLDER = Path(ipyniivue.__file__).parent / \"images\""
   ]
  },
  {
   "cell_type": "code",
   "execution_count": null,
   "id": "119c091d-8a98-4b0b-97c6-d5b724d67f80",
   "metadata": {},
   "outputs": [],
   "source": [
    "# Download data for example\n",
    "ipyniivue.download_dataset(\n",
    "    BASE_API_URL,\n",
    "    DATA_FOLDER,\n",
    "    files=[\n",
    "        \"Human.colin.Cerebral.R.VERY_INFLATED.71723.surf.gii\",\n",
    "        \"Human.colin.R.FUNCTIONAL.71723.func.gii\",\n",
    "    ],\n",
    ")"
   ]
  },
  {
   "cell_type": "code",
   "execution_count": null,
   "id": "45ba4675-32cd-4a89-ab5e-33eec2597d26",
   "metadata": {},
   "outputs": [],
   "source": [
    "import ipywidgets as widgets\n",
    "from IPython.display import display\n",
    "\n",
    "from ipyniivue import NiiVue, SliceType\n",
    "\n",
    "nv = NiiVue(\n",
    "    show_3d_crosshair=True,\n",
    "    back_color=(0.9, 0.9, 1, 1),\n",
    ")\n",
    "nv.set_slice_type(SliceType.RENDER)\n",
    "\n",
    "# Load meshes\n",
    "mesh_layers = [\n",
    "    {\n",
    "        \"path\": DATA_FOLDER / \"Human.colin.R.FUNCTIONAL.71723.func.gii\",\n",
    "        \"colormap\": \"rocket\",\n",
    "        \"opacity\": 0.7,\n",
    "    },\n",
    "]\n",
    "\n",
    "meshes = [\n",
    "    {\n",
    "        \"path\": DATA_FOLDER / \"Human.colin.Cerebral.R.VERY_INFLATED.71723.surf.gii\",\n",
    "        \"rgba255\": [255, 255, 255, 255],\n",
    "        \"layers\": mesh_layers,\n",
    "    },\n",
    "]\n",
    "nv.load_meshes(meshes)\n",
    "\n",
    "# Set the clip plane\n",
    "nv.set_clip_plane(-0.1, 270, 0)"
   ]
  },
  {
   "cell_type": "code",
   "execution_count": null,
   "id": "44cffb51-66b6-4668-be46-78bd45ff9bfe",
   "metadata": {},
   "outputs": [],
   "source": [
    "# Timepoint Slider\n",
    "slider_timepoint = widgets.IntSlider(min=0, max=1, value=0, description=\"Timepoint\")\n",
    "\n",
    "\n",
    "def on_timepoint_change(change):\n",
    "    \"\"\"Set mesh layer frame 4D.\"\"\"\n",
    "    nv.set_mesh_layer_property(nv.meshes[0].id, 0, \"frame_4d\", change[\"new\"])\n",
    "\n",
    "\n",
    "slider_timepoint.observe(on_timepoint_change, names=\"value\")\n",
    "\n",
    "# Opacity Slider\n",
    "slider_opacity = widgets.IntSlider(min=1, max=10, value=7, description=\"Opacity\")\n",
    "\n",
    "\n",
    "def on_opacity_change(change):\n",
    "    \"\"\"Set mesh layer opacity.\"\"\"\n",
    "    nv.set_mesh_layer_property(nv.meshes[0].id, 0, \"opacity\", change[\"new\"] * 0.1)\n",
    "\n",
    "\n",
    "slider_opacity.observe(on_opacity_change, names=\"value\")"
   ]
  },
  {
   "cell_type": "code",
   "execution_count": null,
   "id": "475cf9fe-f1a6-4d87-b8a7-4d2e5995289f",
   "metadata": {},
   "outputs": [],
   "source": [
    "shader_options = nv.mesh_shader_names()\n",
    "\n",
    "shader_dropdown = widgets.Dropdown(\n",
    "    options=shader_options,\n",
    "    value=\"Phong\",  # Default shader\n",
    "    description=\"Shader:\",\n",
    ")\n",
    "\n",
    "\n",
    "def on_shader_change(change):\n",
    "    \"\"\"Set mesh layer shader.\"\"\"\n",
    "    nv.set_mesh_shader(nv.meshes[0].id, change[\"new\"])\n",
    "\n",
    "\n",
    "shader_dropdown.observe(on_shader_change, names=\"value\")"
   ]
  },
  {
   "cell_type": "code",
   "execution_count": null,
   "id": "f3f74d15-aeaa-42fa-bf86-bf1a8c4758f2",
   "metadata": {},
   "outputs": [],
   "source": [
    "controls = widgets.HBox([slider_timepoint, slider_opacity, shader_dropdown])"
   ]
  },
  {
   "cell_type": "code",
   "execution_count": null,
   "id": "c89e658b-fd33-46f6-b74f-6ec47b25b514",
   "metadata": {},
   "outputs": [],
   "source": [
    "display(controls)\n",
    "display(nv)"
   ]
  }
 ],
 "metadata": {},
 "nbformat": 4,
 "nbformat_minor": 5
}
