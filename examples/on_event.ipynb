{
 "cells": [
  {
   "cell_type": "code",
   "execution_count": null,
   "id": "93bdb4d8-14a4-42ba-b80f-554f823c9c6a",
   "metadata": {},
   "outputs": [],
   "source": [
    "from ipyniivue import NiiVue, download_dataset\n",
    "from ipyniivue.download_dataset import DATA_FOLDER\n",
    "\n",
    "# GitHub API URL for the base folder\n",
    "BASE_API_URL = (\n",
    "    \"https://api.github.com/repos/niivue/niivue/contents/packages/niivue/demos/images\"\n",
    ")"
   ]
  },
  {
   "cell_type": "code",
   "execution_count": null,
   "id": "3138317c",
   "metadata": {},
   "outputs": [],
   "source": [
    "# Download data for example\n",
    "download_dataset(\n",
    "    f\"{BASE_API_URL}\",\n",
    "    DATA_FOLDER,\n",
    "    files=[\n",
    "        \"mni152.nii.gz\",\n",
    "        \"hippo.nii.gz\",\n",
    "    ],\n",
    ")"
   ]
  },
  {
   "cell_type": "code",
   "execution_count": null,
   "id": "7dea48af-cb5f-4a1c-afe4-46ae3c83cd1d",
   "metadata": {},
   "outputs": [],
   "source": [
    "from IPython.display import display\n",
    "from ipywidgets import Output\n",
    "\n",
    "from ipyniivue import SliceType\n",
    "\n",
    "out = Output()\n",
    "display(out)\n",
    "\n",
    "nv = NiiVue(slice_type=SliceType.MULTIPLANAR)\n",
    "\n",
    "\n",
    "@nv.on_image_loaded\n",
    "def on_image_loaded(volume):\n",
    "    \"\"\"\n",
    "    Event handler called when an image is loaded.\n",
    "\n",
    "    Parameters\n",
    "    ----------\n",
    "    volume : ipyniivue.Volume\n",
    "        The loaded image volume.\n",
    "    \"\"\"\n",
    "    with out:\n",
    "        print(\"Image loaded:\", volume)"
   ]
  },
  {
   "cell_type": "code",
   "execution_count": null,
   "id": "d70957d1-9fa5-4810-82fc-c3be4b48d17b",
   "metadata": {},
   "outputs": [],
   "source": [
    "# Load volumes\n",
    "nv.load_volumes(\n",
    "    [\n",
    "        {\n",
    "            \"path\": DATA_FOLDER / \"mni152.nii.gz\",\n",
    "            \"colormap\": \"gray\",\n",
    "            \"visible\": True,\n",
    "            \"opacity\": 1.0,\n",
    "        },\n",
    "        {\n",
    "            \"path\": DATA_FOLDER / \"hippo.nii.gz\",\n",
    "            \"colormap\": \"red\",\n",
    "            \"visible\": True,\n",
    "            \"opacity\": 1,\n",
    "        },\n",
    "    ]\n",
    ")\n",
    "\n",
    "# Display the widget\n",
    "nv"
   ]
  },
  {
   "cell_type": "code",
   "execution_count": null,
   "id": "a8f78736-184d-43a2-b93f-fc8fe5d899e7",
   "metadata": {},
   "outputs": [],
   "source": [
    "nv.add_volume(\n",
    "    {\n",
    "        \"path\": DATA_FOLDER / \"mni152.nii.gz\",\n",
    "        \"colormap\": \"gray\",\n",
    "        \"visible\": True,\n",
    "        \"opacity\": 1.0,\n",
    "    }\n",
    ")"
   ]
  },
  {
   "cell_type": "code",
   "execution_count": null,
   "id": "afad59f1-1cf1-4e95-8df3-8a0e1f155916",
   "metadata": {},
   "outputs": [],
   "source": [
    "out"
   ]
  }
 ],
 "metadata": {},
 "nbformat": 4,
 "nbformat_minor": 5
}
