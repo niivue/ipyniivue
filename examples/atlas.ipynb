{
 "cells": [
  {
   "cell_type": "markdown",
   "id": "496e0b0c-4465-49ac-b45b-90840e8584cc",
   "metadata": {},
   "source": [
    "# Import Necessary Modules"
   ]
  },
  {
   "cell_type": "code",
   "execution_count": null,
   "id": "db0d1707-8667-4fb5-bd05-7f9c72e114bd",
   "metadata": {},
   "outputs": [],
   "source": [
    "import json\n",
    "import pathlib\n",
    "\n",
    "import ipywidgets as widgets\n",
    "from IPython.display import display\n",
    "\n",
    "import ipyniivue\n",
    "from ipyniivue import NiiVue, ShowRender, download_dataset"
   ]
  },
  {
   "cell_type": "markdown",
   "id": "6f7c902e-74ba-43ef-8abc-4e71e635452b",
   "metadata": {},
   "source": [
    "# Download Required Data"
   ]
  },
  {
   "cell_type": "code",
   "execution_count": null,
   "id": "4e7b6d15-fadc-4775-b7b5-4768a2e6f184",
   "metadata": {},
   "outputs": [],
   "source": [
    "# Define the data folder where the images will be stored\n",
    "DATA_FOLDER = pathlib.Path(ipyniivue.__file__).parent / \"images\"\n",
    "\n",
    "# Download the required data files\n",
    "download_dataset(\n",
    "    \"https://niivue.com/demos/images/\",\n",
    "    dest_folder=DATA_FOLDER,\n",
    "    files=[\n",
    "        \"mni152.nii.gz\",\n",
    "        \"aal.nii.gz\",\n",
    "        \"aal.json\",\n",
    "    ],\n",
    ")"
   ]
  },
  {
   "cell_type": "markdown",
   "id": "426ab05d-8568-48ad-b50c-559af3327e75",
   "metadata": {},
   "source": [
    "# Create NiiVue Instance"
   ]
  },
  {
   "cell_type": "code",
   "execution_count": null,
   "id": "a262366c-aa16-4dde-927b-04dc5133e885",
   "metadata": {},
   "outputs": [],
   "source": [
    "nv = NiiVue(\n",
    "    show_3d_crosshair=True,\n",
    "    back_color=(0.5, 0.5, 0.5, 1),\n",
    ")\n",
    "\n",
    "nv.set_interpolation(True)\n",
    "nv.opts.crosshair_gap = 12\n",
    "nv.opts.multiplanar_show_render = ShowRender.ALWAYS\n",
    "nv.opts.drag_mode = \"PAN\"\n",
    "nv.opts.yoke_3d_to_2d_zoom = True\n",
    "\n",
    "nv.load_volumes(\n",
    "    [\n",
    "        {\"path\": DATA_FOLDER / \"mni152.nii.gz\"},\n",
    "        {\"path\": DATA_FOLDER / \"aal.nii.gz\"},\n",
    "    ]\n",
    ")"
   ]
  },
  {
   "cell_type": "markdown",
   "id": "ef9c6c82-c66c-405a-8af5-431f9cf0d14b",
   "metadata": {},
   "source": [
    "# Load colormap label"
   ]
  },
  {
   "cell_type": "code",
   "execution_count": null,
   "id": "c974ffd9-b6ad-4ff5-bfde-634c3ec0a61e",
   "metadata": {},
   "outputs": [],
   "source": [
    "with open(DATA_FOLDER / \"aal.json\") as f:\n",
    "    cmap = json.load(f)\n",
    "\n",
    "nv.volumes[1].set_colormap_label(cmap)\n",
    "\n",
    "clut = nv.volumes[1].colormap_label.lut.copy()\n",
    "\n",
    "# Make all regions translucent by setting alpha values to 96\n",
    "for i in range(3, len(clut), 4):\n",
    "    clut[i] = 96\n",
    "\n",
    "# Update the colormap label with the modified lut\n",
    "nv.volumes[1].colormap_label.lut = clut"
   ]
  },
  {
   "cell_type": "markdown",
   "id": "9e56f814-6c98-4450-aa36-9f4c6b6930f6",
   "metadata": {},
   "source": [
    "# Add other widgets"
   ]
  },
  {
   "cell_type": "code",
   "execution_count": null,
   "id": "64ccf253-e201-412d-99e9-f5566cbb7e94",
   "metadata": {},
   "outputs": [],
   "source": [
    "interp_checkbox = widgets.Checkbox(\n",
    "    value=True,\n",
    "    description=\"Jagged\",\n",
    ")\n",
    "\n",
    "outline_slider = widgets.IntSlider(\n",
    "    min=0,\n",
    "    max=255,\n",
    "    value=1,\n",
    "    description=\"Outline\",\n",
    ")\n",
    "\n",
    "alpha_slider = widgets.IntSlider(\n",
    "    min=1,\n",
    "    max=255,\n",
    "    value=150,\n",
    "    description=\"Opacity\",\n",
    ")\n",
    "\n",
    "pad_slider = widgets.IntSlider(\n",
    "    min=0,\n",
    "    max=10,\n",
    "    value=5,\n",
    "    description=\"Padding\",\n",
    ")\n",
    "\n",
    "gap_slider = widgets.IntSlider(\n",
    "    min=0,\n",
    "    max=36,\n",
    "    value=12,\n",
    "    description=\"Crosshair Gap\",\n",
    ")"
   ]
  },
  {
   "cell_type": "markdown",
   "id": "f05fd288-5f27-49f5-ba92-8b8cd26aa954",
   "metadata": {},
   "source": [
    "# Setup observer functions"
   ]
  },
  {
   "cell_type": "code",
   "execution_count": null,
   "id": "2e86879a-71c5-4048-8d9f-6bca0ed9d9fd",
   "metadata": {},
   "outputs": [],
   "source": [
    "def on_outline_change(change):\n",
    "    \"\"\"Handle changes in the outline slider.\"\"\"\n",
    "    nv.set_atlas_outline(change[\"new\"] / 255)\n",
    "\n",
    "\n",
    "def on_alpha_change(change):\n",
    "    \"\"\"Handle changes in the opacity slider.\"\"\"\n",
    "    nv.volumes[1].opacity = change[\"new\"] / 255\n",
    "\n",
    "\n",
    "def on_pad_change(change):\n",
    "    \"\"\"Handle changes in the padding slider.\"\"\"\n",
    "    nv.opts.multiplanar_pad_pixels = change[\"new\"]\n",
    "\n",
    "\n",
    "def on_gap_change(change):\n",
    "    \"\"\"Handle changes in the crosshair gap slider.\"\"\"\n",
    "    nv.opts.crosshair_gap = change[\"new\"]\n",
    "\n",
    "\n",
    "def on_interp_change(change):\n",
    "    \"\"\"Handle changes in the interpolation checkbox.\"\"\"\n",
    "    nv.set_interpolation(change[\"new\"])"
   ]
  },
  {
   "cell_type": "markdown",
   "id": "2e8ec870-d0c2-4701-8eef-bf34afc9c891",
   "metadata": {},
   "source": [
    "# Observe changes"
   ]
  },
  {
   "cell_type": "code",
   "execution_count": null,
   "id": "a2d4118d-2987-4bbd-af6b-f82f2a9e623c",
   "metadata": {},
   "outputs": [],
   "source": [
    "# Observe changes in widget values and call the respective functions\n",
    "outline_slider.observe(on_outline_change, names=\"value\")\n",
    "alpha_slider.observe(on_alpha_change, names=\"value\")\n",
    "pad_slider.observe(on_pad_change, names=\"value\")\n",
    "gap_slider.observe(on_gap_change, names=\"value\")\n",
    "interp_checkbox.observe(on_interp_change, names=\"value\")\n",
    "\n",
    "# Initialize the NiiVue instance with the current widget values\n",
    "on_alpha_change({\"new\": alpha_slider.value})\n",
    "on_outline_change({\"new\": outline_slider.value})\n",
    "nv.opts.multiplanar_pad_pixels = pad_slider.value\n",
    "nv.opts.crosshair_gap = gap_slider.value\n",
    "nv.set_interpolation(interp_checkbox.value)"
   ]
  },
  {
   "cell_type": "markdown",
   "id": "2d1d8a71-3c2b-4449-828c-e74e9653938f",
   "metadata": {},
   "source": [
    "# Setup hover and click updates"
   ]
  },
  {
   "cell_type": "code",
   "execution_count": null,
   "id": "44980c10-573d-493a-9a4d-c002942cf563",
   "metadata": {},
   "outputs": [],
   "source": [
    "output = widgets.HTML(\"Hover:<br>Clicked:\")\n",
    "\n",
    "active_idx = -1\n",
    "\n",
    "\n",
    "@nv.on_hover_idx_change\n",
    "def on_hover_idx_change(data):\n",
    "    \"\"\"Handle hover updates.\"\"\"\n",
    "    global active_idx\n",
    "    idx_values = data[\"idxValues\"]\n",
    "    idx = idx_values[1][\"idx\"]\n",
    "    if idx is not None and idx != active_idx:\n",
    "        nv.opts.atlas_active_index = idx\n",
    "        label = cmap[\"labels\"][idx] if idx < len(cmap[\"labels\"]) else \"\"\n",
    "        clicked_line = output.value.split(\"Clicked:\")[1]\n",
    "        output.value = f\"Hover: {label}<br>Clicked:{clicked_line}\"\n",
    "\n",
    "\n",
    "@nv.on_location_change\n",
    "def handle_location_change(location):\n",
    "    \"\"\"Handle mouse clicks.\"\"\"\n",
    "    hover_line = output.value.split(\"Hover:\")[1].split(\"<br>\")[0]\n",
    "    output.value = f\"Hover:{hover_line}<br>Clicked: {location['string']}\""
   ]
  },
  {
   "cell_type": "markdown",
   "id": "20ac0527-b46a-4203-af39-512902327917",
   "metadata": {},
   "source": [
    "# Display all"
   ]
  },
  {
   "cell_type": "code",
   "execution_count": null,
   "id": "cd2e77fd-7b6e-4026-a814-0fe155151e67",
   "metadata": {},
   "outputs": [],
   "source": [
    "controls = widgets.VBox(\n",
    "    [\n",
    "        interp_checkbox,\n",
    "        outline_slider,\n",
    "        alpha_slider,\n",
    "        pad_slider,\n",
    "        gap_slider,\n",
    "        output,\n",
    "    ]\n",
    ")\n",
    "\n",
    "display(\n",
    "    widgets.VBox(\n",
    "        [\n",
    "            controls,\n",
    "            nv,\n",
    "        ]\n",
    "    )\n",
    ")"
   ]
  }
 ],
 "metadata": {},
 "nbformat": 4,
 "nbformat_minor": 5
}
