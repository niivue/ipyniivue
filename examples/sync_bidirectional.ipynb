{
 "cells": [
  {
   "cell_type": "code",
   "execution_count": 1,
   "id": "654a81f1-70db-440a-b3c9-6432d933bc1b",
   "metadata": {},
   "outputs": [
    {
     "ename": "NameError",
     "evalue": "name 'NiiVue' is not defined",
     "output_type": "error",
     "traceback": [
      "\u001b[1;31m---------------------------------------------------------------------------\u001b[0m",
      "\u001b[1;31mNameError\u001b[0m                                 Traceback (most recent call last)",
      "Cell \u001b[1;32mIn[1], line 3\u001b[0m\n\u001b[0;32m      1\u001b[0m \u001b[38;5;28;01mfrom\u001b[39;00m \u001b[38;5;21;01mpathlib\u001b[39;00m \u001b[38;5;28;01mimport\u001b[39;00m Path\n\u001b[1;32m----> 3\u001b[0m \u001b[38;5;28;01mimport\u001b[39;00m \u001b[38;5;21;01mipyniivue\u001b[39;00m\n\u001b[0;32m      4\u001b[0m \u001b[38;5;28;01mfrom\u001b[39;00m \u001b[38;5;21;01mipyniivue\u001b[39;00m \u001b[38;5;28;01mimport\u001b[39;00m NiiVue, SliceType, download_dataset\n\u001b[0;32m      6\u001b[0m \u001b[38;5;66;03m# GitHub API URL for the base folder\u001b[39;00m\n",
      "File \u001b[1;32m~\\Desktop\\ipyniivue\\src\\ipyniivue\\__init__.py:6\u001b[0m\n\u001b[0;32m      3\u001b[0m \u001b[38;5;28;01mimport\u001b[39;00m \u001b[38;5;21;01mimportlib\u001b[39;00m\u001b[38;5;21;01m.\u001b[39;00m\u001b[38;5;21;01mmetadata\u001b[39;00m\n\u001b[0;32m      5\u001b[0m \u001b[38;5;28;01mfrom\u001b[39;00m \u001b[38;5;21;01m.\u001b[39;00m\u001b[38;5;21;01m_constants\u001b[39;00m \u001b[38;5;28;01mimport\u001b[39;00m DragMode, MuliplanarType, SliceType  \u001b[38;5;66;03m# noqa: F401\u001b[39;00m\n\u001b[1;32m----> 6\u001b[0m \u001b[38;5;28;01mfrom\u001b[39;00m \u001b[38;5;21;01m.\u001b[39;00m\u001b[38;5;21;01m_widget\u001b[39;00m \u001b[38;5;28;01mimport\u001b[39;00m NiiVue, WidgetObserver  \u001b[38;5;66;03m# noqa: F401\u001b[39;00m\n\u001b[0;32m      7\u001b[0m \u001b[38;5;28;01mfrom\u001b[39;00m \u001b[38;5;21;01m.\u001b[39;00m\u001b[38;5;21;01mdownload_dataset\u001b[39;00m \u001b[38;5;28;01mimport\u001b[39;00m download_dataset  \u001b[38;5;66;03m# noqa: F401\u001b[39;00m\n\u001b[0;32m      9\u001b[0m __version__ \u001b[38;5;241m=\u001b[39m importlib\u001b[38;5;241m.\u001b[39mmetadata\u001b[38;5;241m.\u001b[39mversion(\u001b[38;5;124m\"\u001b[39m\u001b[38;5;124mipyniivue\u001b[39m\u001b[38;5;124m\"\u001b[39m)\n",
      "File \u001b[1;32m~\\Desktop\\ipyniivue\\src\\ipyniivue\\_widget.py:49\u001b[0m\n\u001b[0;32m     45\u001b[0m     colormap \u001b[38;5;241m=\u001b[39m t\u001b[38;5;241m.\u001b[39mList([\u001b[38;5;241m0\u001b[39m, \u001b[38;5;241m0\u001b[39m, \u001b[38;5;241m0\u001b[39m, \u001b[38;5;241m0\u001b[39m])\u001b[38;5;241m.\u001b[39mtag(sync\u001b[38;5;241m=\u001b[39m\u001b[38;5;28;01mTrue\u001b[39;00m)\n\u001b[0;32m     46\u001b[0m     colorbar_visible \u001b[38;5;241m=\u001b[39m t\u001b[38;5;241m.\u001b[39mBool(\u001b[38;5;28;01mTrue\u001b[39;00m)\u001b[38;5;241m.\u001b[39mtag(sync\u001b[38;5;241m=\u001b[39m\u001b[38;5;28;01mTrue\u001b[39;00m)\n\u001b[1;32m---> 49\u001b[0m \u001b[38;5;28;43;01mclass\u001b[39;49;00m\u001b[43m \u001b[49m\u001b[38;5;21;43;01mNiiVue\u001b[39;49;00m\u001b[43m(\u001b[49m\u001b[43mOptionsMixin\u001b[49m\u001b[43m,\u001b[49m\u001b[43m \u001b[49m\u001b[43manywidget\u001b[49m\u001b[38;5;241;43m.\u001b[39;49m\u001b[43mAnyWidget\u001b[49m\u001b[43m)\u001b[49m\u001b[43m:\u001b[49m\n\u001b[0;32m     50\u001b[0m \u001b[38;5;250;43m    \u001b[39;49m\u001b[38;5;124;43;03m\"\"\"Represents a Niivue instance.\"\"\"\u001b[39;49;00m\n\u001b[0;32m     52\u001b[0m \u001b[43m    \u001b[49m\u001b[43m_esm\u001b[49m\u001b[43m \u001b[49m\u001b[38;5;241;43m=\u001b[39;49m\u001b[43m \u001b[49m\u001b[43mpathlib\u001b[49m\u001b[38;5;241;43m.\u001b[39;49m\u001b[43mPath\u001b[49m\u001b[43m(\u001b[49m\u001b[38;5;18;43m__file__\u001b[39;49m\u001b[43m)\u001b[49m\u001b[38;5;241;43m.\u001b[39;49m\u001b[43mparent\u001b[49m\u001b[43m \u001b[49m\u001b[38;5;241;43m/\u001b[39;49m\u001b[43m \u001b[49m\u001b[38;5;124;43m\"\u001b[39;49m\u001b[38;5;124;43mstatic\u001b[39;49m\u001b[38;5;124;43m\"\u001b[39;49m\u001b[43m \u001b[49m\u001b[38;5;241;43m/\u001b[39;49m\u001b[43m \u001b[49m\u001b[38;5;124;43m\"\u001b[39;49m\u001b[38;5;124;43mwidget.js\u001b[39;49m\u001b[38;5;124;43m\"\u001b[39;49m\n",
      "File \u001b[1;32m~\\Desktop\\ipyniivue\\src\\ipyniivue\\_widget.py:63\u001b[0m, in \u001b[0;36mNiiVue\u001b[1;34m()\u001b[0m\n\u001b[0;32m     56\u001b[0m _volumes \u001b[38;5;241m=\u001b[39m t\u001b[38;5;241m.\u001b[39mList(t\u001b[38;5;241m.\u001b[39mInstance(Volume), default_value\u001b[38;5;241m=\u001b[39m[])\u001b[38;5;241m.\u001b[39mtag(\n\u001b[0;32m     57\u001b[0m     sync\u001b[38;5;241m=\u001b[39m\u001b[38;5;28;01mTrue\u001b[39;00m, \u001b[38;5;241m*\u001b[39m\u001b[38;5;241m*\u001b[39mipywidgets\u001b[38;5;241m.\u001b[39mwidget_serialization\n\u001b[0;32m     58\u001b[0m )\n\u001b[0;32m     59\u001b[0m _meshes \u001b[38;5;241m=\u001b[39m t\u001b[38;5;241m.\u001b[39mList(t\u001b[38;5;241m.\u001b[39mInstance(Mesh), default_value\u001b[38;5;241m=\u001b[39m[])\u001b[38;5;241m.\u001b[39mtag(\n\u001b[0;32m     60\u001b[0m     sync\u001b[38;5;241m=\u001b[39m\u001b[38;5;28;01mTrue\u001b[39;00m, \u001b[38;5;241m*\u001b[39m\u001b[38;5;241m*\u001b[39mipywidgets\u001b[38;5;241m.\u001b[39mwidget_serialization\n\u001b[0;32m     61\u001b[0m )\n\u001b[1;32m---> 63\u001b[0m _other_niivue: t\u001b[38;5;241m.\u001b[39mList(t\u001b[38;5;241m.\u001b[39mInstance(\u001b[43mNiiVue\u001b[49m), default_value\u001b[38;5;241m=\u001b[39m[])\u001b[38;5;241m.\u001b[39mtag(\n\u001b[0;32m     64\u001b[0m     sync\u001b[38;5;241m=\u001b[39m\u001b[38;5;28;01mTrue\u001b[39;00m, \u001b[38;5;241m*\u001b[39m\u001b[38;5;241m*\u001b[39mipywidgets\u001b[38;5;241m.\u001b[39mwidget_serialization\n\u001b[0;32m     65\u001b[0m ) \u001b[38;5;241m=\u001b[39m \u001b[38;5;28;01mNone\u001b[39;00m\n\u001b[0;32m     66\u001b[0m _sync_opts \u001b[38;5;241m=\u001b[39m t\u001b[38;5;241m.\u001b[39mDict({})\u001b[38;5;241m.\u001b[39mtag(sync\u001b[38;5;241m=\u001b[39m\u001b[38;5;28;01mTrue\u001b[39;00m, to_json\u001b[38;5;241m=\u001b[39mserialize_options)\n\u001b[0;32m     69\u001b[0m \u001b[38;5;28;01mdef\u001b[39;00m \u001b[38;5;21m__init__\u001b[39m(\u001b[38;5;28mself\u001b[39m, height: \u001b[38;5;28mint\u001b[39m \u001b[38;5;241m=\u001b[39m \u001b[38;5;241m300\u001b[39m, \u001b[38;5;241m*\u001b[39m\u001b[38;5;241m*\u001b[39moptions):\n\u001b[0;32m     70\u001b[0m     \u001b[38;5;66;03m# convert to JS camelCase options\u001b[39;00m\n",
      "\u001b[1;31mNameError\u001b[0m: name 'NiiVue' is not defined"
     ]
    }
   ],
   "source": [
    "from pathlib import Path\n",
    "\n",
    "import ipyniivue\n",
    "from ipyniivue import NiiVue, SliceType, download_dataset\n",
    "\n",
    "# GitHub API URL for the base folder\n",
    "BASE_API_URL = (\n",
    "    \"https://api.github.com/repos/niivue/niivue/contents/packages/niivue/demos/images\"\n",
    ")\n",
    "DATA_FOLDER = Path(ipyniivue.__file__).parent / \"images\""
   ]
  },
  {
   "cell_type": "code",
   "execution_count": null,
   "id": "691b4d48-4e2b-47ae-9590-3bb4cc880f2e",
   "metadata": {},
   "outputs": [],
   "source": [
    "# Downloads all data for examples\n",
    "download_dataset(f\"{BASE_API_URL}\", DATA_FOLDER)"
   ]
  },
  {
   "cell_type": "code",
   "execution_count": null,
   "id": "2fe268ff-d4a1-4906-a21b-c703f8642ff6",
   "metadata": {},
   "outputs": [],
   "source": [
    "nv1 = NiiVue(show_3d_crosshair = True, back_color = (1, 1, 1, 1))\n",
    "volumes1 = [\n",
    "    {\n",
    "        \"path\": DATA_FOLDER / \"pcasl.nii.gz\"\n",
    "    }\n",
    "]\n",
    "nv1.load_volumes(volumes1)\n",
    "nv1"
   ]
  },
  {
   "cell_type": "code",
   "execution_count": null,
   "id": "d564f6e6-539a-4f98-a776-e5a1f8582eca",
   "metadata": {
    "scrolled": true
   },
   "outputs": [],
   "source": [
    "nv2 = NiiVue(show_3d_crosshair = True, back_color = (1, 1, 1, 1))\n",
    "volumes2 = [\n",
    "    {\n",
    "        \"path\": DATA_FOLDER / \"mni152.nii.gz\"\n",
    "    }\n",
    "]\n",
    "nv2.load_volumes(volumes2)\n",
    "nv2"
   ]
  },
  {
   "cell_type": "code",
   "execution_count": null,
   "id": "c7bf5724-acb9-431d-aaa2-6cbd9e5eb4fe",
   "metadata": {
    "scrolled": true
   },
   "outputs": [],
   "source": [
    "nv3 = NiiVue(show_3d_crosshair = True, back_color = (1, 1, 1, 1))\n",
    "volumes3 = [\n",
    "    {\n",
    "        \"path\": DATA_FOLDER / \"mni152.nii.gz\"\n",
    "    }\n",
    "]\n",
    "nv3.load_volumes(volumes3)\n",
    "nv3"
   ]
  },
  {
   "cell_type": "code",
   "execution_count": null,
   "id": "eb65ff6f-4e95-4149-a194-60b005ed104d",
   "metadata": {},
   "outputs": [],
   "source": [
    "nv1.broadcast_to([nv2, nv3], { \"3d\": True, \"2d\": False });\n",
    "nv2.broadcast_to([nv1, nv3], { \"3d\": True, \"2d\": True });\n",
    "nv3.broadcast_to([nv1, nv2], { \"3d\": True, \"2d\": True });"
   ]
  },
  {
   "cell_type": "code",
   "execution_count": null,
   "id": "b66e75d1-6ad8-4ad7-85e8-81c291a2d0f8",
   "metadata": {},
   "outputs": [],
   "source": [
    "nv3.drawing_enabled = True"
   ]
  },
  {
   "cell_type": "code",
   "execution_count": null,
   "id": "12b879a5-23f9-4b27-bb67-705bb833f2a1",
   "metadata": {},
   "outputs": [],
   "source": [
    "print(nv1._other_niivue)"
   ]
  },
  {
   "cell_type": "code",
   "execution_count": null,
   "id": "6819dca9-1f2f-4cfe-914e-01584b7fd431",
   "metadata": {},
   "outputs": [],
   "source": []
  }
 ],
 "metadata": {
  "kernelspec": {
   "display_name": "Python 3 (ipykernel)",
   "language": "python",
   "name": "python3"
  },
  "language_info": {
   "codemirror_mode": {
    "name": "ipython",
    "version": 3
   },
   "file_extension": ".py",
   "mimetype": "text/x-python",
   "name": "python",
   "nbconvert_exporter": "python",
   "pygments_lexer": "ipython3",
   "version": "3.11.6"
  }
 },
 "nbformat": 4,
 "nbformat_minor": 5
}
