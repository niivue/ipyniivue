{
 "cells": [
  {
   "cell_type": "code",
   "execution_count": null,
   "id": "654a81f1-70db-440a-b3c9-6432d933bc1b",
   "metadata": {},
   "outputs": [],
   "source": [
    "from pathlib import Path\n",
    "\n",
    "import ipyniivue\n",
    "from ipyniivue import NiiVue, download_dataset\n",
    "\n",
    "# GitHub API URL for the base folder\n",
    "BASE_API_URL = (\n",
    "    \"https://api.github.com/repos/niivue/niivue/contents/packages/niivue/demos/images\"\n",
    ")\n",
    "DATA_FOLDER = Path(ipyniivue.__file__).parent / \"images\""
   ]
  },
  {
   "cell_type": "code",
   "execution_count": null,
   "id": "691b4d48-4e2b-47ae-9590-3bb4cc880f2e",
   "metadata": {},
   "outputs": [],
   "source": [
    "# Downloads all data for examples\n",
    "download_dataset(f\"{BASE_API_URL}\", DATA_FOLDER)"
   ]
  },
  {
   "cell_type": "code",
   "execution_count": null,
   "id": "2fe268ff-d4a1-4906-a21b-c703f8642ff6",
   "metadata": {},
   "outputs": [],
   "source": [
    "nv1 = NiiVue(show_3d_crosshair = True, back_color = (1, 1, 1, 1))\n",
    "volumes1 = [\n",
    "    {\n",
    "        \"path\": DATA_FOLDER / \"pcasl.nii.gz\"\n",
    "    }\n",
    "]\n",
    "nv1.load_volumes(volumes1)\n",
    "nv1"
   ]
  },
  {
   "cell_type": "code",
   "execution_count": null,
   "id": "d564f6e6-539a-4f98-a776-e5a1f8582eca",
   "metadata": {},
   "outputs": [],
   "source": [
    "nv2 = NiiVue(show_3d_crosshair = True, back_color = (1, 1, 1, 1))\n",
    "volumes2 = [\n",
    "    {\n",
    "        \"path\": DATA_FOLDER / \"mni152.nii.gz\"\n",
    "    }\n",
    "]\n",
    "nv2.load_volumes(volumes2)\n",
    "nv2"
   ]
  },
  {
   "cell_type": "code",
   "execution_count": null,
   "id": "c7bf5724-acb9-431d-aaa2-6cbd9e5eb4fe",
   "metadata": {},
   "outputs": [],
   "source": [
    "nv3 = NiiVue(show_3d_crosshair = True, back_color = (1, 1, 1, 1))\n",
    "volumes3 = [\n",
    "    {\n",
    "        \"path\": DATA_FOLDER / \"mni152.nii.gz\"\n",
    "    }\n",
    "]\n",
    "nv3.load_volumes(volumes3)\n",
    "nv3"
   ]
  }
 ],
 "metadata": {
  "kernelspec": {
   "display_name": "Python 3 (ipykernel)",
   "language": "python",
   "name": "python3"
  },
  "language_info": {
   "codemirror_mode": {
    "name": "ipython",
    "version": 3
   },
   "file_extension": ".py",
   "mimetype": "text/x-python",
   "name": "python",
   "nbconvert_exporter": "python",
   "pygments_lexer": "ipython3"
  }
 },
 "nbformat": 4,
 "nbformat_minor": 5
}
