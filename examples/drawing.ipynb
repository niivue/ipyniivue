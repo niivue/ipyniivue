{
 "cells": [
  {
   "cell_type": "code",
   "execution_count": null,
   "id": "70b9f6d0-5b77-4e04-8913-b4e43bb7690d",
   "metadata": {},
   "outputs": [],
   "source": [
    "from pathlib import Path\n",
    "\n",
    "import ipywidgets\n",
    "\n",
    "import ipyniivue\n",
    "from ipyniivue import NiiVue, SliceType, WidgetObserver, download_dataset\n",
    "\n",
    "# GitHub API URL for the base folder\n",
    "BASE_API_URL = (\n",
    "    \"https://api.github.com/repos/niivue/niivue/contents/packages/niivue/demos/images\"\n",
    ")\n",
    "DATA_FOLDER = Path(ipyniivue.__file__).parent / \"images\""
   ]
  },
  {
   "cell_type": "code",
   "execution_count": null,
   "id": "d24087ff-42a2-4445-aba2-f7896970581e",
   "metadata": {},
   "outputs": [],
   "source": [
    "# Downloads all data for examples\n",
    "download_dataset(f\"{BASE_API_URL}\", DATA_FOLDER)"
   ]
  },
  {
   "cell_type": "code",
   "execution_count": null,
   "id": "e5216404-c0ed-4539-b70d-402449d3a3ff",
   "metadata": {},
   "outputs": [],
   "source": [
    "# based on https://niivue.github.io/niivue/features/draw2.html\n",
    "volumes = [\n",
    "    {\n",
    "        \"path\": DATA_FOLDER / \"mni152.nii.gz\",\n",
    "        \"colormap\": \"gray\",\n",
    "        \"visible\": True,\n",
    "        \"opacity\": 1.0,\n",
    "    },\n",
    "]\n",
    "\n",
    "nv = NiiVue(slice_type=SliceType.MULTIPLANAR)\n",
    "nv.load_volumes(volumes)\n",
    "nv.pen_value = 1\n",
    "nv.drawing_enabled = True\n",
    "nv.is_filled_pen = False\n",
    "nv.multiplanar_force_render = True\n",
    "\n",
    "widgetArray = []\n",
    "\n",
    "widget_pen_value = {\n",
    "    \"widget\": ipywidgets.RadioButtons(\n",
    "        options=[\n",
    "            (\"Erase\", \"0.0\"),\n",
    "            (\"Erase Cluster\", \"-0.0\"),\n",
    "            (\"Red\", \"1.0\"),\n",
    "            (\"Green\", \"2.0\"),\n",
    "            (\"Blue\", \"3.0\"),\n",
    "            (\"Yellow\", \"4.0\"),\n",
    "            (\"Cyan\", \"5.0\"),\n",
    "            (\"Purple\", \"6.0\"),\n",
    "        ],\n",
    "        value=\"1.0\",\n",
    "        description=\"Draw Color:\",\n",
    "    ),\n",
    "    \"obj\": nv,\n",
    "    \"attribute\": \"pen_value\",\n",
    "}\n",
    "widgetArray.append(widget_pen_value)\n",
    "\n",
    "widget_slice_type = {\n",
    "    \"widget\": ipywidgets.ToggleButton(value=False, description=\"Fill Drawing\"),\n",
    "    \"obj\": nv,\n",
    "    \"attribute\": \"is_filled_pen\",\n",
    "}\n",
    "widgetArray.append(widget_slice_type)\n",
    "\n",
    "for widget in widgetArray:\n",
    "    WidgetObserver(**widget)"
   ]
  },
  {
   "cell_type": "code",
   "execution_count": null,
   "id": "b03cea06-e6b2-45aa-9528-f4209e6f9442",
   "metadata": {},
   "outputs": [],
   "source": [
    "nv"
   ]
  },
  {
   "cell_type": "code",
   "execution_count": null,
   "id": "2551474f-55b7-4b11-9b7e-812148bf822c",
   "metadata": {},
   "outputs": [],
   "source": [
    "for widget in widgetArray:\n",
    "    display(widget[\"widget\"])"
   ]
  },
  {
   "cell_type": "code",
   "execution_count": null,
   "id": "32e9b296-bae2-47c4-9912-e99e5cb6a85e",
   "metadata": {},
   "outputs": [],
   "source": []
  }
 ],
 "metadata": {
  "kernelspec": {
   "display_name": "Python 3 (ipykernel)",
   "language": "python",
   "name": "python3"
  },
  "language_info": {
   "codemirror_mode": {
    "name": "ipython",
    "version": 3
   },
   "file_extension": ".py",
   "mimetype": "text/x-python",
   "name": "python",
   "nbconvert_exporter": "python",
   "pygments_lexer": "ipython3",
   "version": "3.12.3"
  }
 },
 "nbformat": 4,
 "nbformat_minor": 5
}
