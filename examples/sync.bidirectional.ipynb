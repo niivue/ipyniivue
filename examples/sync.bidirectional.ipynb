{
 "cells": [
  {
   "cell_type": "markdown",
   "id": "bdfd3b58-76fb-4f37-bc38-71a014830bd1",
   "metadata": {},
   "source": [
    "# Bidirectional Sync\n",
    "\n",
    "This demo mirrors https://niivue.com/demos/features/sync.bidirectional.html."
   ]
  },
  {
   "cell_type": "code",
   "execution_count": null,
   "id": "f6480178-93e9-4e36-b701-d3c99ea45387",
   "metadata": {},
   "outputs": [],
   "source": [
    "import ipywidgets as widgets\n",
    "from IPython.display import display\n",
    "\n",
    "from ipyniivue import MultiplanarType, NiiVue"
   ]
  },
  {
   "cell_type": "markdown",
   "id": "2fa54822-6433-433e-ab59-7bd8816b30d9",
   "metadata": {},
   "source": [
    "## Create Three NiiVue Instances"
   ]
  },
  {
   "cell_type": "code",
   "execution_count": null,
   "id": "c9c037aa-d318-46e9-b8ab-138ef4c11ba9",
   "metadata": {},
   "outputs": [],
   "source": [
    "nv1 = NiiVue(\n",
    "    height=400,\n",
    "    multiplanar_force_render=True,\n",
    "    back_color=(0.0, 0.0, 0.0, 1.0),\n",
    ")\n",
    "\n",
    "nv2 = NiiVue(\n",
    "    height=400,\n",
    "    multiplanar_force_render=True,\n",
    "    back_color=(0.0, 0.0, 0.0, 1.0),\n",
    ")\n",
    "\n",
    "nv3 = NiiVue(\n",
    "    height=400,\n",
    "    multiplanar_force_render=True,\n",
    "    back_color=(0.0, 0.0, 0.0, 1.0),\n",
    ")"
   ]
  },
  {
   "cell_type": "markdown",
   "id": "1da1475a-de66-4783-8feb-1183373410dc",
   "metadata": {},
   "source": [
    "## Load Volumes"
   ]
  },
  {
   "cell_type": "code",
   "execution_count": null,
   "id": "f0a140d9-6ca6-445e-9ecb-d10d913075fc",
   "metadata": {},
   "outputs": [],
   "source": [
    "nv1.load_volumes([{\"url\": \"https://niivue.com/demos/images/pcasl.nii.gz\"}])\n",
    "nv2.load_volumes([{\"url\": \"https://niivue.com/demos/images/aal.nii.gz\"}])\n",
    "nv3.load_volumes([{\"url\": \"https://niivue.com/demos/images/mni152.nii.gz\"}])"
   ]
  },
  {
   "cell_type": "markdown",
   "id": "a3ece015-96f3-41ae-b451-8af7d7fa6b61",
   "metadata": {},
   "source": [
    "## Create Interactive Controls"
   ]
  },
  {
   "cell_type": "code",
   "execution_count": null,
   "id": "f91cf421-cd58-4f5a-975a-1d83daf0b9b2",
   "metadata": {},
   "outputs": [],
   "source": [
    "layout_dropdown = widgets.Dropdown(\n",
    "    options=[\n",
    "        (\"Auto\", MultiplanarType.AUTO),\n",
    "        (\"Column\", MultiplanarType.COLUMN),\n",
    "        (\"Grid\", MultiplanarType.GRID),\n",
    "        (\"Row\", MultiplanarType.ROW),\n",
    "    ],\n",
    "    value=MultiplanarType.AUTO,\n",
    "    description=\"Layout:\",\n",
    ")\n",
    "\n",
    "sync_dropdown = widgets.Dropdown(\n",
    "    options=[\n",
    "        (\"Sync Disabled\", 0),\n",
    "        (\"Sync 2D\", 1),\n",
    "        (\"Sync 3D\", 2),\n",
    "        (\"Sync 2D and 3D\", 3),\n",
    "    ],\n",
    "    value=3,\n",
    "    description=\"Broadcast:\",\n",
    ")\n",
    "\n",
    "status1 = widgets.HTML(value=\"&nbsp;\")\n",
    "status2 = widgets.HTML(value=\"&nbsp;\")\n",
    "status3 = widgets.HTML(value=\"&nbsp;\")"
   ]
  },
  {
   "cell_type": "markdown",
   "id": "82b36505-e723-4e53-b0f2-83920d244639",
   "metadata": {},
   "source": [
    "## Setup Event Handlers"
   ]
  },
  {
   "cell_type": "code",
   "execution_count": null,
   "id": "da739796-9153-4955-a4d7-8b875e7ae555",
   "metadata": {},
   "outputs": [],
   "source": [
    "def on_layout_change(change):\n",
    "    \"\"\"Handle layout dropdown changes.\"\"\"\n",
    "    new_layout = change[\"new\"]\n",
    "    nv1.opts.multiplanar_layout = new_layout\n",
    "    nv2.opts.multiplanar_layout = new_layout\n",
    "    nv3.opts.multiplanar_layout = new_layout\n",
    "\n",
    "\n",
    "def on_sync_change(change):\n",
    "    \"\"\"Handle sync mode dropdown changes.\"\"\"\n",
    "    v = change[\"new\"]\n",
    "    is_2d = False\n",
    "    is_3d = False\n",
    "\n",
    "    if v % 2:  # If odd (1 or 3)\n",
    "        is_2d = True\n",
    "    if v > 1:  # If 2 or 3\n",
    "        is_3d = True\n",
    "\n",
    "    nv1.broadcast_to([nv2, nv3], {\"2d\": is_2d, \"3d\": is_3d})\n",
    "    nv2.broadcast_to([nv1, nv3], {\"2d\": is_2d, \"3d\": is_3d})\n",
    "    nv3.broadcast_to([nv1, nv2], {\"2d\": is_2d, \"3d\": is_3d})\n",
    "\n",
    "\n",
    "@nv1.on_location_change\n",
    "def handle_location1(data):\n",
    "    \"\"\"Handle location string.\"\"\"\n",
    "    status1.value = f\"&nbsp;&nbsp;{data['string']}\"\n",
    "\n",
    "\n",
    "@nv2.on_location_change\n",
    "def handle_location2(data):\n",
    "    \"\"\"Handle location string.\"\"\"\n",
    "    status2.value = f\"&nbsp;&nbsp;{data['string']}\"\n",
    "\n",
    "\n",
    "@nv3.on_location_change\n",
    "def handle_location3(data):\n",
    "    \"\"\"Handle location string.\"\"\"\n",
    "    status3.value = f\"&nbsp;&nbsp;{data['string']}\"\n",
    "\n",
    "\n",
    "layout_dropdown.observe(on_layout_change, names=\"value\")\n",
    "sync_dropdown.observe(on_sync_change, names=\"value\")\n",
    "\n",
    "on_sync_change({\"new\": sync_dropdown.value})"
   ]
  },
  {
   "cell_type": "markdown",
   "id": "08b6e470-ba7e-48be-9687-41edcbd5e6fd",
   "metadata": {},
   "source": [
    "## Display All"
   ]
  },
  {
   "cell_type": "code",
   "execution_count": null,
   "id": "8462e01e-6265-4580-b59b-58c63138b432",
   "metadata": {},
   "outputs": [],
   "source": [
    "controls = widgets.HBox([layout_dropdown, sync_dropdown])\n",
    "\n",
    "viewers = widgets.GridspecLayout(1, 3, height=\"400px\")\n",
    "viewers[0, 0] = nv1\n",
    "viewers[0, 1] = nv2\n",
    "viewers[0, 2] = nv3\n",
    "\n",
    "status_row = widgets.HBox([status1, status2, status3])\n",
    "\n",
    "display(widgets.VBox([controls, viewers, status_row]))"
   ]
  }
 ],
 "metadata": {
  "language_info": {
   "name": "python"
  }
 },
 "nbformat": 4,
 "nbformat_minor": 5
}
