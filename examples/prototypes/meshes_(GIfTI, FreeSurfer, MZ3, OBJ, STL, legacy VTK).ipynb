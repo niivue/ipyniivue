{
 "cells": [
  {
   "cell_type": "code",
   "execution_count": null,
   "metadata": {},
   "outputs": [],
   "source": [
    "from pathlib import Path\n",
    "\n",
    "import ipyniivue\n",
    "from ipyniivue import NiiVue, download_dataset\n",
    "\n",
    "# GitHub API URL for the base folder\n",
    "BASE_API_URL = (\n",
    "    \"https://api.github.com/repos/niivue/niivue/contents/packages/niivue/demos/images\"\n",
    ")\n",
    "DATA_FOLDER = Path(ipyniivue.__file__).parent / \"images\""
   ]
  },
  {
   "cell_type": "code",
   "execution_count": null,
   "metadata": {},
   "outputs": [],
   "source": [
    "# Download data for example\n",
    "download_dataset(\n",
    "    f\"{BASE_API_URL}\",\n",
    "    DATA_FOLDER,\n",
    "    files=[\n",
    "        \"BrainMesh_ICBM152.lh.mz3\",\n",
    "        \"CIT168.mz3\",\n",
    "    ],\n",
    ")"
   ]
  },
  {
   "cell_type": "code",
   "execution_count": null,
   "metadata": {},
   "outputs": [],
   "source": [
    "# based on https://github.com/niivue/ipyniivue/blob/main/original_gallery.md#meshes-gifti-freesurfer-mz3-obj-stl-legacy-vtk\n",
    "nv = NiiVue(\n",
    "    show_3d_crosshair=True, back_color=(1, 1, 1, 1), mesh_x_ray=0.3, is_colorbar=True\n",
    ")\n",
    "\n",
    "nv.load_meshes(\n",
    "    [\n",
    "        {\n",
    "            \"path\": DATA_FOLDER / \"BrainMesh_ICBM152.lh.mz3\",\n",
    "            \"rgba255\": [222, 164, 164, 255],\n",
    "        },\n",
    "        {\"path\": DATA_FOLDER / \"CIT168.mz3\", \"rgba255\": [0, 0, 255, 255]},\n",
    "    ]\n",
    ")\n",
    "\n",
    "nv\n",
    "\n",
    "# nv1.setMeshShader(nv1.meshes[0].id, \"Outline\"); does not seem to exist yet."
   ]
  }
 ],
 "metadata": {},
 "nbformat": 4,
 "nbformat_minor": 4
}
