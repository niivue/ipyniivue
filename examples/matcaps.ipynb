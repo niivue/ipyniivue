{
 "cells": [
  {
   "cell_type": "code",
   "execution_count": null,
   "id": "d4d4bae4-c9f5-4cfd-9a1f-ffcd9e8b48b4",
   "metadata": {},
   "outputs": [],
   "source": [
    "from pathlib import Path\n",
    "\n",
    "import ipyniivue\n",
    "from ipyniivue import NiiVue, SliceType, download_dataset\n",
    "\n",
    "# GitHub API URL for the base folder\n",
    "BASE_API_URL = (\n",
    "    \"https://api.github.com/repos/niivue/niivue/contents/packages/niivue/demos/images\"\n",
    ")\n",
    "DATA_FOLDER = Path(ipyniivue.__file__).parent / \"images\""
   ]
  },
  {
   "cell_type": "code",
   "execution_count": null,
   "id": "cbc2d766-121a-4a50-b836-3cfc651f4222",
   "metadata": {},
   "outputs": [],
   "source": [
    "# Downloads all data for examples\n",
    "download_dataset(f\"{BASE_API_URL}\", DATA_FOLDER)"
   ]
  },
  {
   "cell_type": "code",
   "execution_count": null,
   "id": "8819cb17-ebc3-431a-931b-4062aaaf2159",
   "metadata": {},
   "outputs": [],
   "source": [
    "MATCAP_API_URL = (\n",
    "    \"https://api.github.com/repos/niivue/niivue/contents/packages/niivue/demos/matcaps\"\n",
    ")\n",
    "MATCAP_FOLDER = Path(ipyniivue.__file__).parent / \"matcaps\"\n",
    "\n",
    "# Downloads all matcaps for examples\n",
    "download_dataset(f\"{MATCAP_API_URL}\", MATCAP_FOLDER)"
   ]
  },
  {
   "cell_type": "code",
   "execution_count": null,
   "id": "11c0f65e-9c18-4f43-abeb-b93aa2c29f71",
   "metadata": {},
   "outputs": [],
   "source": [
    "# based on https://niivue.github.io/niivue/features/mesh.matcap.html\n",
    "\n",
    "mesh_layers = [\n",
    "    {\n",
    "      \"path\": DATA_FOLDER / \"BrainMesh_ICBM152.lh.motor.mz3\",\n",
    "      \"cal_min\": 2,\n",
    "      \"cal_max\": 5,\n",
    "      \"useNegativeCmap\": True,\n",
    "      \"opacity\": 0.7\n",
    "    }\n",
    "  ]\n",
    "meshes = [\n",
    "    {\n",
    "        \"path\": DATA_FOLDER / \"BrainMesh_ICBM152.lh.mz3\",\n",
    "        \"layers\": mesh_layers\n",
    "    }\n",
    "]\n",
    "\n",
    "nv = NiiVue(slice_type = SliceType.RENDER)\n",
    "nv.is_colorbar = True\n",
    "nv.load_meshes(meshes)\n",
    "nv"
   ]
  },
  {
   "cell_type": "code",
   "execution_count": null,
   "id": "02c6afc4-46bd-4547-84e3-c6a2dc8a7463",
   "metadata": {},
   "outputs": [],
   "source": [
    "# Unimplemented source code\n",
    "\"\"\"\n",
    "import * as niivue from \"../dist/index.js\";\n",
    "  var slider = document.getElementById(\"meshSlider\");\n",
    "  slider.oninput = function () {\n",
    "    nv1.setMeshLayerProperty(nv1.meshes[0].id, 0, \"cal_min\", this.value * 0.1);\n",
    "  };\n",
    "  document.getElementById(\"matCaps\").addEventListener(\"change\", doMatCap);\n",
    "  function doMatCap() {\n",
    "    nv1.setMeshShader(nv1.meshes[0].id, \"Matcap\");\n",
    "    let matCapName = document.getElementById(\"matCaps\").value;\n",
    "    nv1.loadMatCapTexture(\"../matcaps/\" + matCapName + \".jpg\");\n",
    "  }\n",
    "  nv1.setMeshShader(nv1.meshes[0].id, \"Matcap\");\n",
    "  nv1.setClipPlane([-0.1, 270, 0]);\n",
    "\"\"\""
   ]
  }
 ],
 "metadata": {
  "kernelspec": {
   "display_name": "Python 3 (ipykernel)",
   "language": "python",
   "name": "python3"
  },
  "language_info": {
   "codemirror_mode": {
    "name": "ipython",
    "version": 3
   },
   "file_extension": ".py",
   "mimetype": "text/x-python",
   "name": "python",
   "nbconvert_exporter": "python",
   "pygments_lexer": "ipython3"
  }
 },
 "nbformat": 4,
 "nbformat_minor": 5
}
