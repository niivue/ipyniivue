{
 "cells": [
  {
   "cell_type": "markdown",
   "metadata": {},
   "source": [
    "# Import necessary modules"
   ]
  },
  {
   "cell_type": "code",
   "execution_count": null,
   "metadata": {},
   "outputs": [],
   "source": [
    "import pathlib\n",
    "\n",
    "import ipywidgets as widgets\n",
    "\n",
    "import ipyniivue\n",
    "from ipyniivue import NiiVue, SliceType, download_dataset"
   ]
  },
  {
   "cell_type": "markdown",
   "metadata": {},
   "source": [
    "# Download required data"
   ]
  },
  {
   "cell_type": "code",
   "execution_count": null,
   "metadata": {},
   "outputs": [],
   "source": [
    "DATA_FOLDER = pathlib.Path(ipyniivue.__file__).parent / \"images\"\n",
    "\n",
    "download_dataset(\n",
    "    \"https://niivue.com/demos/images/\",\n",
    "    dest_folder=DATA_FOLDER,\n",
    "    files=[\n",
    "        \"mni152.nii.gz\",\n",
    "        \"dpsv.trx\",\n",
    "    ],\n",
    ")"
   ]
  },
  {
   "cell_type": "markdown",
   "metadata": {},
   "source": [
    "# Create NiiVue instance"
   ]
  },
  {
   "cell_type": "code",
   "execution_count": null,
   "metadata": {},
   "outputs": [],
   "source": [
    "nv = NiiVue(show_3d_crosshair=True, back_color=(0.8, 0.8, 1, 1))\n",
    "\n",
    "nv.opts.is_colorbar = True\n",
    "nv.set_slice_type(SliceType.RENDER)\n",
    "nv.set_clip_plane(-0.1, 270, 0);"
   ]
  },
  {
   "cell_type": "markdown",
   "metadata": {},
   "source": [
    "# Load the volume and mesh data"
   ]
  },
  {
   "cell_type": "code",
   "execution_count": null,
   "metadata": {},
   "outputs": [],
   "source": [
    "nv.load_volumes(\n",
    "    [\n",
    "        {\"path\": DATA_FOLDER / \"mni152.nii.gz\"},\n",
    "    ]\n",
    ")\n",
    "\n",
    "nv.load_meshes(\n",
    "    [\n",
    "        {\"path\": DATA_FOLDER / \"dpsv.trx\", \"rgba255\": [0, 142, 0, 255]},\n",
    "    ]\n",
    ")\n",
    "\n",
    "nv.meshes[0].colormap = \"blue\"\n",
    "nv.meshes[0].rgba255 = (0, 255, 255, 255)"
   ]
  },
  {
   "cell_type": "markdown",
   "metadata": {},
   "source": [
    "# Create sliders and dropdowns"
   ]
  },
  {
   "cell_type": "code",
   "execution_count": null,
   "metadata": {},
   "outputs": [],
   "source": [
    "radius_slider = widgets.IntSlider(\n",
    "    value=0,\n",
    "    min=0,\n",
    "    max=20,\n",
    "    description=\"Radius\",\n",
    ")\n",
    "\n",
    "length_slider = widgets.IntSlider(\n",
    "    value=3,\n",
    "    min=1,\n",
    "    max=80,\n",
    "    description=\"Length\",\n",
    ")\n",
    "\n",
    "dither_slider = widgets.IntSlider(\n",
    "    value=1,\n",
    "    min=0,\n",
    "    max=10,\n",
    "    description=\"Dither\",\n",
    ")\n",
    "\n",
    "fiber_coloration_options = [\n",
    "    (\"Global direction\", \"Global\"),\n",
    "    (\"Local direction\", \"Local\"),\n",
    "    (\"Fixed\", \"Fixed\"),\n",
    "    (\"First Per Vertex Type (if available)\", \"DPV0\"),\n",
    "    (\"First Per Streamline Type (if available)\", \"DPS0\"),\n",
    "]\n",
    "fiber_color_dropdown = widgets.Dropdown(\n",
    "    options=fiber_coloration_options,\n",
    "    value=\"Global\",\n",
    "    description=\"Fiber Coloration:\",\n",
    ")\n",
    "\n",
    "fiber_reduction_options = [(\"100%\", 1), (\"50%\", 2), (\"25%\", 4), (\"10%\", 10)]\n",
    "fiber_reduction_dropdown = widgets.Dropdown(\n",
    "    options=fiber_reduction_options,\n",
    "    value=1,\n",
    "    description=\"Fiber Reduction\",\n",
    ")"
   ]
  },
  {
   "cell_type": "markdown",
   "metadata": {},
   "source": [
    "# Set up callbacks"
   ]
  },
  {
   "cell_type": "code",
   "execution_count": null,
   "metadata": {},
   "outputs": [],
   "source": [
    "def on_radius_change(change):\n",
    "    \"\"\"Set fiber radius.\"\"\"\n",
    "    nv.set_mesh_property(nv.meshes[0].id, \"fiber_radius\", change[\"new\"] * 0.1)\n",
    "\n",
    "\n",
    "radius_slider.observe(on_radius_change, names=\"value\")\n",
    "\n",
    "\n",
    "def on_length_change(change):\n",
    "    \"\"\"Set fiber length.\"\"\"\n",
    "    nv.set_mesh_property(nv.meshes[0].id, \"fiber_length\", change[\"new\"])\n",
    "\n",
    "\n",
    "length_slider.observe(on_length_change, names=\"value\")\n",
    "\n",
    "\n",
    "def on_dither_change(change):\n",
    "    \"\"\"Set fiber dither.\"\"\"\n",
    "    nv.set_mesh_property(nv.meshes[0].id, \"fiber_dither\", change[\"new\"] * 0.1)\n",
    "\n",
    "\n",
    "dither_slider.observe(on_dither_change, names=\"value\")\n",
    "\n",
    "\n",
    "def on_fiber_color_change(change):\n",
    "    \"\"\"Set fiber color.\"\"\"\n",
    "    nv.set_mesh_property(nv.meshes[0].id, \"fiber_color\", change[\"new\"])\n",
    "\n",
    "\n",
    "fiber_color_dropdown.observe(on_fiber_color_change, names=\"value\")\n",
    "\n",
    "\n",
    "def on_fiber_reduction_change(change):\n",
    "    \"\"\"Set fiber decimation stride.\"\"\"\n",
    "    nv.set_mesh_property(nv.meshes[0].id, \"fiber_decimation_stride\", change[\"new\"])\n",
    "\n",
    "\n",
    "fiber_reduction_dropdown.observe(on_fiber_reduction_change, names=\"value\")"
   ]
  },
  {
   "cell_type": "markdown",
   "metadata": {},
   "source": [
    "# Display all"
   ]
  },
  {
   "cell_type": "code",
   "execution_count": null,
   "metadata": {},
   "outputs": [],
   "source": [
    "controls = widgets.VBox(\n",
    "    [\n",
    "        radius_slider,\n",
    "        length_slider,\n",
    "        dither_slider,\n",
    "        fiber_color_dropdown,\n",
    "        fiber_reduction_dropdown,\n",
    "    ]\n",
    ")\n",
    "\n",
    "widgets.VBox(\n",
    "    [\n",
    "        controls,\n",
    "        nv,\n",
    "    ]\n",
    ")"
   ]
  }
 ],
 "metadata": {},
 "nbformat": 4,
 "nbformat_minor": 4
}
