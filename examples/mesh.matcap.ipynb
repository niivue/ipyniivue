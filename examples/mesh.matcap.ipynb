{
 "cells": [
  {
   "cell_type": "markdown",
   "id": "ef04a141",
   "metadata": {},
   "source": [
    "# Import modules"
   ]
  },
  {
   "cell_type": "code",
   "execution_count": null,
   "id": "d1950524-21ee-4281-8909-4b23a6734143",
   "metadata": {},
   "outputs": [],
   "source": [
    "import pathlib\n",
    "\n",
    "import ipywidgets as widgets\n",
    "\n",
    "import ipyniivue\n",
    "from ipyniivue import NiiVue, SliceType, download_dataset"
   ]
  },
  {
   "cell_type": "markdown",
   "id": "51a48f6d",
   "metadata": {},
   "source": [
    "# Download required data"
   ]
  },
  {
   "cell_type": "code",
   "execution_count": null,
   "id": "e8f5d640",
   "metadata": {},
   "outputs": [],
   "source": [
    "DATA_FOLDER = pathlib.Path(ipyniivue.__file__).parent / \"images\"\n",
    "\n",
    "# Meshes\n",
    "download_dataset(\n",
    "    dest_folder=DATA_FOLDER,\n",
    "    files=[\n",
    "        \"BrainMesh_ICBM152.lh.mz3\",\n",
    "        \"BrainMesh_ICBM152.lh.motor.mz3\",\n",
    "    ],\n",
    ")\n",
    "\n",
    "# Matcaps\n",
    "download_dataset(\n",
    "    api_url=\"https://api.github.com/repos/niivue/niivue/contents/packages/niivue/demos/matcaps\",\n",
    "    dest_folder=DATA_FOLDER / \"matcaps\",\n",
    ")"
   ]
  },
  {
   "cell_type": "markdown",
   "id": "7087b6f4",
   "metadata": {},
   "source": [
    "# Create niivue instance"
   ]
  },
  {
   "cell_type": "code",
   "execution_count": null,
   "id": "1269f9f8-0f3f-441d-ac79-8e92e3021281",
   "metadata": {},
   "outputs": [],
   "source": [
    "nv = NiiVue(\n",
    "    show_3d_crosshair=True,\n",
    "    back_color=(1, 1, 1, 1),\n",
    ")\n",
    "\n",
    "nv.set_slice_type(SliceType.RENDER)\n",
    "nv.opts.is_colorbar = True"
   ]
  },
  {
   "cell_type": "markdown",
   "id": "3af1bc26",
   "metadata": {},
   "source": [
    "# Load meshes and mesh layers"
   ]
  },
  {
   "cell_type": "code",
   "execution_count": null,
   "id": "1b38ade7-7484-4625-a02e-be4855cd8db4",
   "metadata": {},
   "outputs": [],
   "source": [
    "mesh_layer = {\n",
    "    \"path\": DATA_FOLDER / \"BrainMesh_ICBM152.lh.motor.mz3\",\n",
    "    \"cal_min\": 2,\n",
    "    \"cal_max\": 5,\n",
    "    \"use_negative_cmap\": True,\n",
    "    \"opacity\": 0.7,\n",
    "}\n",
    "\n",
    "nv.load_meshes(\n",
    "    [\n",
    "        {\n",
    "            \"path\": DATA_FOLDER / \"BrainMesh_ICBM152.lh.mz3\",\n",
    "            \"layers\": [mesh_layer],\n",
    "        },\n",
    "    ]\n",
    ")\n",
    "\n",
    "nv.set_mesh_shader(nv.meshes[0].id, \"Matcap\")\n",
    "nv.set_clip_plane(-0.1, 270, 0)"
   ]
  },
  {
   "cell_type": "markdown",
   "id": "9b17f707",
   "metadata": {},
   "source": [
    "# Add extra widgets and setup observers"
   ]
  },
  {
   "cell_type": "code",
   "execution_count": null,
   "id": "e8a67c91-15a4-4b7b-8192-b26cba349375",
   "metadata": {},
   "outputs": [],
   "source": [
    "threshold_slider = widgets.IntSlider(\n",
    "    value=20,\n",
    "    min=1,\n",
    "    max=49,\n",
    "    description=\"Threshold\",\n",
    ")\n",
    "\n",
    "matcap_options = [\"Shiny\", \"Cortex\", \"Cream\", \"Fuzzy\", \"Peach\", \"Plastic\", \"Gold\"]\n",
    "matcap_dropdown = widgets.Dropdown(\n",
    "    options=matcap_options,\n",
    "    value=\"Shiny\",\n",
    "    description=\"MatCap\",\n",
    ")\n",
    "\n",
    "\n",
    "def on_threshold_change(change):\n",
    "    \"\"\"Set mesh layer property cal_min.\"\"\"\n",
    "    nv.set_mesh_layer_property(\n",
    "        mesh_id=nv.meshes[0].id,\n",
    "        layer_index=0,\n",
    "        attribute=\"cal_min\",\n",
    "        value=change[\"new\"] * 0.1,\n",
    "    )\n",
    "\n",
    "\n",
    "threshold_slider.observe(on_threshold_change, names=\"value\")\n",
    "\n",
    "\n",
    "def on_matcap_change(change):\n",
    "    \"\"\"Load matcap texture.\"\"\"\n",
    "    nv.set_mesh_shader(nv.meshes[0].id, \"Matcap\")\n",
    "    matcap_name = change[\"new\"]\n",
    "    matcap_path = DATA_FOLDER / \"matcaps\" / f\"{matcap_name}.jpg\"\n",
    "    with open(matcap_path, \"rb\") as f:\n",
    "        matcap_data = f.read()\n",
    "    nv.load_mat_cap_texture(matcap_data)\n",
    "\n",
    "\n",
    "matcap_dropdown.observe(on_matcap_change, names=\"value\")"
   ]
  },
  {
   "cell_type": "markdown",
   "id": "a4c45439",
   "metadata": {},
   "source": [
    "# Display all"
   ]
  },
  {
   "cell_type": "code",
   "execution_count": null,
   "id": "1254b5a8",
   "metadata": {},
   "outputs": [],
   "source": [
    "widgets.VBox(\n",
    "    [\n",
    "        widgets.HBox([threshold_slider, matcap_dropdown]),\n",
    "        nv,\n",
    "    ]\n",
    ")"
   ]
  }
 ],
 "metadata": {},
 "nbformat": 4,
 "nbformat_minor": 5
}
