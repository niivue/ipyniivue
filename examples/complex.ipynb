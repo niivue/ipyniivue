{
 "cells": [
  {
   "cell_type": "markdown",
   "id": "ed7fbf9d-3501-42a4-b921-5b52d8f03ed1",
   "metadata": {},
   "source": [
    "# Import necessary modules"
   ]
  },
  {
   "cell_type": "code",
   "execution_count": null,
   "id": "d3a59e62-a3df-4e47-b6d5-53fd79a9d959",
   "metadata": {},
   "outputs": [],
   "source": [
    "import pathlib\n",
    "import ipywidgets as widgets\n",
    "from IPython.display import display\n",
    "\n",
    "import ipyniivue\n",
    "from ipyniivue import NiiVue, download_dataset"
   ]
  },
  {
   "cell_type": "markdown",
   "id": "8e9962f5-1c8f-4b23-bbec-7799dedcc36d",
   "metadata": {},
   "source": [
    "# Download required data"
   ]
  },
  {
   "cell_type": "code",
   "execution_count": null,
   "id": "51551acf-1252-4bd9-837a-e5322f4458d5",
   "metadata": {},
   "outputs": [],
   "source": [
    "DATA_FOLDER = pathlib.Path(ipyniivue.__file__).parent / \"images\"\n",
    "\n",
    "download_dataset(\n",
    "    \"https://niivue.com/demos/images/\",\n",
    "    dest_folder=DATA_FOLDER,\n",
    "    files=[\n",
    "        \"complex.nii.gz\",\n",
    "    ],\n",
    ")"
   ]
  },
  {
   "cell_type": "markdown",
   "id": "e41d20b2-cb78-4593-ab04-27f62d866762",
   "metadata": {},
   "source": [
    "# Setup NiiVue instance"
   ]
  },
  {
   "cell_type": "code",
   "execution_count": null,
   "id": "1fcb1f7a-fdbf-4fdc-b59d-ce18e53a8f04",
   "metadata": {},
   "outputs": [],
   "source": [
    "nv = NiiVue()\n",
    "\n",
    "intensity_output = widgets.HTML(\"&nbsp;\")\n",
    "\n",
    "@nv.on_location_change\n",
    "def handle_intensity_change(location):\n",
    "    intensity_output.value = location[\"string\"]\n",
    "\n",
    "nv.load_volumes([\n",
    "    {\"path\": DATA_FOLDER / \"complex.nii.gz\"},\n",
    "])"
   ]
  },
  {
   "cell_type": "markdown",
   "id": "9fb4ad15-2f7c-41cd-9444-dc9792ff621a",
   "metadata": {},
   "source": [
    "# Create other widget"
   ]
  },
  {
   "cell_type": "code",
   "execution_count": null,
   "id": "a238bbe0-efaa-402b-8242-00a40b4494fa",
   "metadata": {},
   "outputs": [],
   "source": [
    "slice_type_dropdown = widgets.Dropdown(\n",
    "    options=[\n",
    "        (\"Axial\", 0),\n",
    "        (\"Coronal\", 1),\n",
    "        (\"Sagittal\", 2),\n",
    "        (\"Render\", 4),\n",
    "        (\"A+C+S+R\", 3),\n",
    "    ],\n",
    "    value=3,\n",
    "    description=\"Slice Type:\",\n",
    ")\n",
    "\n",
    "def on_slice_type_change(change):\n",
    "    nv.set_slice_type(change[\"new\"])\n",
    "\n",
    "slice_type_dropdown.observe(on_slice_type_change, names=\"value\")"
   ]
  },
  {
   "cell_type": "markdown",
   "id": "a0c433b8-9e9c-4c8c-881b-2785b5c2da64",
   "metadata": {},
   "source": [
    "# Display all"
   ]
  },
  {
   "cell_type": "code",
   "execution_count": null,
   "id": "1c5c0e07-9729-41b2-ab33-9d04163a392d",
   "metadata": {},
   "outputs": [],
   "source": [
    "display(\n",
    "    widgets.VBox([\n",
    "        slice_type_dropdown,\n",
    "        nv,\n",
    "        intensity_output\n",
    "    ])\n",
    ")"
   ]
  }
 ],
 "metadata": {},
 "nbformat": 4,
 "nbformat_minor": 5
}
